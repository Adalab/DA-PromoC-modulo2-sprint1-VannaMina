{
 "cells": [
  {
   "cell_type": "code",
   "execution_count": 167,
   "metadata": {},
   "outputs": [],
   "source": [
    "import pandas as pd\n",
    "import numpy as np\n",
    "import regex as re"
   ]
  },
  {
   "cell_type": "code",
   "execution_count": 168,
   "metadata": {},
   "outputs": [],
   "source": [
    "fichero = pd.read_csv(\"DATOS/attacks_pandas5.csv\")"
   ]
  },
  {
   "attachments": {},
   "cell_type": "markdown",
   "metadata": {},
   "source": [
    "1 Cread una columna nueva y una función que nos de el mes en el que ocurrió el ataque. Tened en cuenta que no todas las filas tienen la misma estructura y que puede que no haya la información de mes. En ese caso devolved un nulo (NaN).\n",
    "💡 Pista 💡Podéis usar regex."
   ]
  },
  {
   "cell_type": "code",
   "execution_count": 169,
   "metadata": {},
   "outputs": [
    {
     "name": "stdout",
     "output_type": "stream",
     "text": [
      "<class 'pandas.core.frame.DataFrame'>\n",
      "RangeIndex: 7789 entries, 0 to 7788\n",
      "Data columns (total 18 columns):\n",
      " #   Column       Non-Null Count  Dtype  \n",
      "---  ------       --------------  -----  \n",
      " 0   case_number  7788 non-null   object \n",
      " 1   unnamed:_0   7789 non-null   int64  \n",
      " 2   year         1672 non-null   float64\n",
      " 3   type         1672 non-null   object \n",
      " 4   country      1662 non-null   object \n",
      " 5   area         1626 non-null   object \n",
      " 6   location     1621 non-null   object \n",
      " 7   activity     1641 non-null   object \n",
      " 8   name         1663 non-null   object \n",
      " 9   sex_         1658 non-null   object \n",
      " 10  age          1518 non-null   object \n",
      " 11  time         1512 non-null   object \n",
      " 12  species_     1546 non-null   object \n",
      " 13  href         1672 non-null   object \n",
      " 14  siglo        1502 non-null   object \n",
      " 15  fatal_(y/n)  5751 non-null   object \n",
      " 16  injury       6258 non-null   object \n",
      " 17  date         6286 non-null   object \n",
      "dtypes: float64(1), int64(1), object(16)\n",
      "memory usage: 1.1+ MB\n"
     ]
    }
   ],
   "source": [
    "#Averiguamos la tipología de la columna correspondiente a la fecha(date) y vemos que es de tipo object\n",
    "fichero.info()"
   ]
  },
  {
   "cell_type": "code",
   "execution_count": 170,
   "metadata": {},
   "outputs": [
    {
     "data": {
      "text/html": [
       "<div>\n",
       "<style scoped>\n",
       "    .dataframe tbody tr th:only-of-type {\n",
       "        vertical-align: middle;\n",
       "    }\n",
       "\n",
       "    .dataframe tbody tr th {\n",
       "        vertical-align: top;\n",
       "    }\n",
       "\n",
       "    .dataframe thead th {\n",
       "        text-align: right;\n",
       "    }\n",
       "</style>\n",
       "<table border=\"1\" class=\"dataframe\">\n",
       "  <thead>\n",
       "    <tr style=\"text-align: right;\">\n",
       "      <th></th>\n",
       "      <th>case_number</th>\n",
       "      <th>unnamed:_0</th>\n",
       "      <th>year</th>\n",
       "      <th>type</th>\n",
       "      <th>country</th>\n",
       "      <th>area</th>\n",
       "      <th>location</th>\n",
       "      <th>activity</th>\n",
       "      <th>name</th>\n",
       "      <th>sex_</th>\n",
       "      <th>age</th>\n",
       "      <th>time</th>\n",
       "      <th>species_</th>\n",
       "      <th>href</th>\n",
       "      <th>siglo</th>\n",
       "      <th>fatal_(y/n)</th>\n",
       "      <th>injury</th>\n",
       "      <th>date</th>\n",
       "    </tr>\n",
       "  </thead>\n",
       "  <tbody>\n",
       "    <tr>\n",
       "      <th>2584</th>\n",
       "      <td>2009.09.26</td>\n",
       "      <td>1083</td>\n",
       "      <td>NaN</td>\n",
       "      <td>NaN</td>\n",
       "      <td>NaN</td>\n",
       "      <td>NaN</td>\n",
       "      <td>NaN</td>\n",
       "      <td>NaN</td>\n",
       "      <td>NaN</td>\n",
       "      <td>NaN</td>\n",
       "      <td>NaN</td>\n",
       "      <td>NaN</td>\n",
       "      <td>NaN</td>\n",
       "      <td>NaN</td>\n",
       "      <td>NaN</td>\n",
       "      <td>N</td>\n",
       "      <td>Laceration to right foot</td>\n",
       "      <td>26-Sep-2009</td>\n",
       "    </tr>\n",
       "  </tbody>\n",
       "</table>\n",
       "</div>"
      ],
      "text/plain": [
       "     case_number  unnamed:_0  year type country area location activity name  \\\n",
       "2584  2009.09.26        1083   NaN  NaN     NaN  NaN      NaN      NaN  NaN   \n",
       "\n",
       "     sex_  age time species_ href siglo fatal_(y/n)                    injury  \\\n",
       "2584  NaN  NaN  NaN      NaN  NaN   NaN           N  Laceration to right foot   \n",
       "\n",
       "             date  \n",
       "2584  26-Sep-2009  "
      ]
     },
     "execution_count": 170,
     "metadata": {},
     "output_type": "execute_result"
    }
   ],
   "source": [
    "# observamos varios ejemplos de como sacan los datos la columna date.\n",
    "fichero.sample()"
   ]
  },
  {
   "cell_type": "code",
   "execution_count": 171,
   "metadata": {},
   "outputs": [],
   "source": [
    "\n",
    "def sacar_mes(columna):\n",
    "    patron = \"-(\\w+)-\"\n",
    "    #patron2 = \"(\\d+)-(\\w+)-(\\d+)\"\n",
    "    try:\n",
    "        mes =re.findall(patron, columna)\n",
    "        return mes\n",
    "          \n",
    "    except:\n",
    "        return np.nan\n",
    "        "
   ]
  },
  {
   "cell_type": "code",
   "execution_count": 172,
   "metadata": {},
   "outputs": [],
   "source": [
    "fichero[\"mes\"] = fichero[\"date\"].apply(sacar_mes)"
   ]
  },
  {
   "cell_type": "code",
   "execution_count": 173,
   "metadata": {},
   "outputs": [
    {
     "data": {
      "text/html": [
       "<div>\n",
       "<style scoped>\n",
       "    .dataframe tbody tr th:only-of-type {\n",
       "        vertical-align: middle;\n",
       "    }\n",
       "\n",
       "    .dataframe tbody tr th {\n",
       "        vertical-align: top;\n",
       "    }\n",
       "\n",
       "    .dataframe thead th {\n",
       "        text-align: right;\n",
       "    }\n",
       "</style>\n",
       "<table border=\"1\" class=\"dataframe\">\n",
       "  <thead>\n",
       "    <tr style=\"text-align: right;\">\n",
       "      <th></th>\n",
       "      <th>case_number</th>\n",
       "      <th>unnamed:_0</th>\n",
       "      <th>year</th>\n",
       "      <th>type</th>\n",
       "      <th>country</th>\n",
       "      <th>area</th>\n",
       "      <th>location</th>\n",
       "      <th>activity</th>\n",
       "      <th>name</th>\n",
       "      <th>sex_</th>\n",
       "      <th>age</th>\n",
       "      <th>time</th>\n",
       "      <th>species_</th>\n",
       "      <th>href</th>\n",
       "      <th>siglo</th>\n",
       "      <th>fatal_(y/n)</th>\n",
       "      <th>injury</th>\n",
       "      <th>date</th>\n",
       "      <th>mes</th>\n",
       "    </tr>\n",
       "  </thead>\n",
       "  <tbody>\n",
       "    <tr>\n",
       "      <th>3572</th>\n",
       "      <td>2000.01.05</td>\n",
       "      <td>2071</td>\n",
       "      <td>NaN</td>\n",
       "      <td>NaN</td>\n",
       "      <td>NaN</td>\n",
       "      <td>NaN</td>\n",
       "      <td>NaN</td>\n",
       "      <td>NaN</td>\n",
       "      <td>NaN</td>\n",
       "      <td>NaN</td>\n",
       "      <td>NaN</td>\n",
       "      <td>NaN</td>\n",
       "      <td>NaN</td>\n",
       "      <td>NaN</td>\n",
       "      <td>NaN</td>\n",
       "      <td>Y</td>\n",
       "      <td>FATAL</td>\n",
       "      <td>05-Jan-2000</td>\n",
       "      <td>[Jan]</td>\n",
       "    </tr>\n",
       "    <tr>\n",
       "      <th>2236</th>\n",
       "      <td>2012.09.24</td>\n",
       "      <td>735</td>\n",
       "      <td>NaN</td>\n",
       "      <td>NaN</td>\n",
       "      <td>NaN</td>\n",
       "      <td>NaN</td>\n",
       "      <td>NaN</td>\n",
       "      <td>NaN</td>\n",
       "      <td>NaN</td>\n",
       "      <td>NaN</td>\n",
       "      <td>NaN</td>\n",
       "      <td>NaN</td>\n",
       "      <td>NaN</td>\n",
       "      <td>NaN</td>\n",
       "      <td>NaN</td>\n",
       "      <td>N</td>\n",
       "      <td>Left foot bitten</td>\n",
       "      <td>24-Sep-2012</td>\n",
       "      <td>[Sep]</td>\n",
       "    </tr>\n",
       "  </tbody>\n",
       "</table>\n",
       "</div>"
      ],
      "text/plain": [
       "     case_number  unnamed:_0  year type country area location activity name  \\\n",
       "3572  2000.01.05        2071   NaN  NaN     NaN  NaN      NaN      NaN  NaN   \n",
       "2236  2012.09.24         735   NaN  NaN     NaN  NaN      NaN      NaN  NaN   \n",
       "\n",
       "     sex_  age time species_ href siglo fatal_(y/n)            injury  \\\n",
       "3572  NaN  NaN  NaN      NaN  NaN   NaN           Y             FATAL   \n",
       "2236  NaN  NaN  NaN      NaN  NaN   NaN           N  Left foot bitten   \n",
       "\n",
       "             date    mes  \n",
       "3572  05-Jan-2000  [Jan]  \n",
       "2236  24-Sep-2012  [Sep]  "
      ]
     },
     "execution_count": 173,
     "metadata": {},
     "output_type": "execute_result"
    }
   ],
   "source": [
    "fichero.sample(2)"
   ]
  },
  {
   "attachments": {},
   "cell_type": "markdown",
   "metadata": {},
   "source": [
    "2 Vamos con la columna fatal_(y/n). Lo primero que tenéis que hacer es evaluar los valores únicos que hay. Esperaríamos tener solo dos valores: y y n, pero tristemente no será así 😭. Cread una columna nueva y una función que devuelva únicamente y o n y que devuelva un nulo (NaN) si no se encuentra el valor."
   ]
  },
  {
   "cell_type": "code",
   "execution_count": 174,
   "metadata": {},
   "outputs": [
    {
     "data": {
      "text/plain": [
       "array(['N', 'Y', nan, 'M', 'UNKNOWN', '2017', ' N', 'N ', 'y'],\n",
       "      dtype=object)"
      ]
     },
     "execution_count": 174,
     "metadata": {},
     "output_type": "execute_result"
    }
   ],
   "source": [
    "#Sacamos el unique para ver los valores que teníamos en la columna.\n",
    "fichero[\"fatal_(y/n)\"].unique()"
   ]
  },
  {
   "cell_type": "code",
   "execution_count": 175,
   "metadata": {},
   "outputs": [],
   "source": [
    "def y_n(columna):\n",
    "    columna = str(columna)\n",
    "    columna = columna.upper().replace(\" \",\"\")\n",
    "    if columna == \"N\":\n",
    "        return columna\n",
    "    elif columna == \"Y\":\n",
    "        return columna\n",
    "    else:\n",
    "        return np.nan\n"
   ]
  },
  {
   "cell_type": "code",
   "execution_count": 176,
   "metadata": {},
   "outputs": [],
   "source": [
    "fichero[\"fatal_(y/n)2\"] = fichero[\"fatal_(y/n)\"].apply(y_n)"
   ]
  },
  {
   "cell_type": "code",
   "execution_count": 179,
   "metadata": {},
   "outputs": [
    {
     "data": {
      "text/plain": [
       "array(['N', 'Y', nan], dtype=object)"
      ]
     },
     "execution_count": 179,
     "metadata": {},
     "output_type": "execute_result"
    }
   ],
   "source": [
    "#Volvemos a sacar el unique para comprobar que la función ha funcionado.\n",
    "fichero[\"fatal_(y/n)2\"].unique()"
   ]
  },
  {
   "attachments": {},
   "cell_type": "markdown",
   "metadata": {},
   "source": [
    "3 Seguid la misma lógica que en el ejercicio anterior pero con la columna sex. Pero en este caso vamos a incluir un retito más: En este caso querremos tener dos valores únicos F y M. De nuevo en la columna hay otros carácteres raros como 'M ', 'lli', 'N', '.'. En esos casos, queremos que se reemplacen por M o F de forma aleatoria (tendréis que usar la librería random). En caso de que sea nulo, que la función devuelva nulo (np.nan)."
   ]
  },
  {
   "cell_type": "code",
   "execution_count": 180,
   "metadata": {},
   "outputs": [
    {
     "data": {
      "text/plain": [
       "array(['F', 'M', 'lli', nan], dtype=object)"
      ]
     },
     "execution_count": 180,
     "metadata": {},
     "output_type": "execute_result"
    }
   ],
   "source": [
    "fichero[\"sex_\"].unique()"
   ]
  },
  {
   "attachments": {},
   "cell_type": "markdown",
   "metadata": {},
   "source": [
    "4 Una vez que hayáis terminado eliminad las columnas originales conservando las nuevas."
   ]
  },
  {
   "attachments": {},
   "cell_type": "markdown",
   "metadata": {},
   "source": [
    "5 Guardad el dataframe en un csv que usaremos más adelante."
   ]
  }
 ],
 "metadata": {
  "kernelspec": {
   "display_name": "base",
   "language": "python",
   "name": "python3"
  },
  "language_info": {
   "codemirror_mode": {
    "name": "ipython",
    "version": 3
   },
   "file_extension": ".py",
   "mimetype": "text/x-python",
   "name": "python",
   "nbconvert_exporter": "python",
   "pygments_lexer": "ipython3",
   "version": "3.9.7"
  },
  "orig_nbformat": 4,
  "vscode": {
   "interpreter": {
    "hash": "b3191f930eabfdf0eb39086a24df618ea48425015dbb471465fb2c793fed20fd"
   }
  }
 },
 "nbformat": 4,
 "nbformat_minor": 2
}
