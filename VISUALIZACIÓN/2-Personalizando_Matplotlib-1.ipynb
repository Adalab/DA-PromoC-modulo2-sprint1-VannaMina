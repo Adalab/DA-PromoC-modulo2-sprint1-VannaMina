{
 "cells": [
  {
   "cell_type": "code",
   "execution_count": 37,
   "metadata": {},
   "outputs": [],
   "source": [
    "import matplotlib.pyplot as plt\n",
    "import numpy as np \n",
    "import pandas as pd\n"
   ]
  },
  {
   "cell_type": "code",
   "execution_count": 38,
   "metadata": {},
   "outputs": [],
   "source": [
    "#trabajaremos con el csv que generamos en el ejercicio de pair programming de Pandas V, ese en el que habíamos unido distintos csv en uno.\n",
    "\n",
    "fichero = pd.read_csv(\"Visualizacion_2/attacks_pandas5_Visual.csv\")"
   ]
  },
  {
   "cell_type": "markdown",
   "metadata": {},
   "source": [
    "1. Ayer creamos un par de gráficas para USA y España, donde visualizamos el número de ataques en cada país a lo largo de los años y el tipo de los ataques. \n",
    "\n",
    "    Hoy tendréis que hacer dos gráficas con subplots:"
   ]
  },
  {
   "cell_type": "code",
   "execution_count": null,
   "metadata": {},
   "outputs": [],
   "source": [
    "#averiguamos los nombres de la columnas\n",
    "fichero.columns"
   ]
  },
  {
   "cell_type": "code",
   "execution_count": null,
   "metadata": {},
   "outputs": [],
   "source": [
    "#averiguamos los nombres de los paises, USA y SPAIN\n",
    "fichero[\"country\"].unique()"
   ]
  },
  {
   "cell_type": "code",
   "execution_count": 41,
   "metadata": {},
   "outputs": [],
   "source": [
    "usa = fichero[fichero[\"country\"] == \"USA\"]\n",
    "españa =  fichero[fichero[\"country\"] == \"SPAIN\"]"
   ]
  },
  {
   "cell_type": "code",
   "execution_count": 58,
   "metadata": {},
   "outputs": [
    {
     "data": {
      "text/html": [
       "<div>\n",
       "<style scoped>\n",
       "    .dataframe tbody tr th:only-of-type {\n",
       "        vertical-align: middle;\n",
       "    }\n",
       "\n",
       "    .dataframe tbody tr th {\n",
       "        vertical-align: top;\n",
       "    }\n",
       "\n",
       "    .dataframe thead th {\n",
       "        text-align: right;\n",
       "    }\n",
       "</style>\n",
       "<table border=\"1\" class=\"dataframe\">\n",
       "  <thead>\n",
       "    <tr style=\"text-align: right;\">\n",
       "      <th></th>\n",
       "      <th>case_number</th>\n",
       "      <th>unnamed:_0</th>\n",
       "      <th>year</th>\n",
       "      <th>type</th>\n",
       "      <th>country</th>\n",
       "      <th>area</th>\n",
       "      <th>location</th>\n",
       "      <th>activity</th>\n",
       "      <th>name</th>\n",
       "      <th>sex_</th>\n",
       "      <th>age</th>\n",
       "      <th>time</th>\n",
       "      <th>species_</th>\n",
       "      <th>href</th>\n",
       "      <th>siglo</th>\n",
       "      <th>fatal_(y/n)</th>\n",
       "      <th>injury</th>\n",
       "      <th>date</th>\n",
       "    </tr>\n",
       "  </thead>\n",
       "  <tbody>\n",
       "    <tr>\n",
       "      <th>0</th>\n",
       "      <td>2018.06.25</td>\n",
       "      <td>0</td>\n",
       "      <td>2018.0</td>\n",
       "      <td>Boating</td>\n",
       "      <td>USA</td>\n",
       "      <td>California</td>\n",
       "      <td>Oceanside, San Diego County</td>\n",
       "      <td>Paddling</td>\n",
       "      <td>Julie Wolfe</td>\n",
       "      <td>F</td>\n",
       "      <td>57</td>\n",
       "      <td>18h00</td>\n",
       "      <td>White shark</td>\n",
       "      <td>http://sharkattackfile.net/spreadsheets/pdf_di...</td>\n",
       "      <td>siglo XXI</td>\n",
       "      <td>N</td>\n",
       "      <td>No injury to occupant, outrigger canoe and pad...</td>\n",
       "      <td>25-Jun-2018</td>\n",
       "    </tr>\n",
       "    <tr>\n",
       "      <th>2</th>\n",
       "      <td>2018.05.26.b</td>\n",
       "      <td>8</td>\n",
       "      <td>2018.0</td>\n",
       "      <td>Unprovoked</td>\n",
       "      <td>USA</td>\n",
       "      <td>Florida</td>\n",
       "      <td>Cocoa Beach, Brevard  County</td>\n",
       "      <td>Walking</td>\n",
       "      <td>Cody High</td>\n",
       "      <td>M</td>\n",
       "      <td>15</td>\n",
       "      <td>17h00</td>\n",
       "      <td>Bull shark, 6'</td>\n",
       "      <td>http://sharkattackfile.net/spreadsheets/pdf_di...</td>\n",
       "      <td>siglo XXI</td>\n",
       "      <td>N</td>\n",
       "      <td>Lower left leg bitten</td>\n",
       "      <td>26-May-2018</td>\n",
       "    </tr>\n",
       "    <tr>\n",
       "      <th>10</th>\n",
       "      <td>2018.03.31</td>\n",
       "      <td>35</td>\n",
       "      <td>2018.0</td>\n",
       "      <td>Unprovoked</td>\n",
       "      <td>USA</td>\n",
       "      <td>Hawaii</td>\n",
       "      <td>Kukio Beach</td>\n",
       "      <td>Stand-Up Paddleboarding</td>\n",
       "      <td>male</td>\n",
       "      <td>M</td>\n",
       "      <td>25</td>\n",
       "      <td>09h30</td>\n",
       "      <td>Tiger shark, 12'</td>\n",
       "      <td>http://sharkattackfile.net/spreadsheets/pdf_di...</td>\n",
       "      <td>siglo XXI</td>\n",
       "      <td>N</td>\n",
       "      <td>Injuries to right leg &amp; hand</td>\n",
       "      <td>31-Mar-2018</td>\n",
       "    </tr>\n",
       "    <tr>\n",
       "      <th>17</th>\n",
       "      <td>2017.12.31</td>\n",
       "      <td>53</td>\n",
       "      <td>2017.0</td>\n",
       "      <td>Unprovoked</td>\n",
       "      <td>USA</td>\n",
       "      <td>Hawaii</td>\n",
       "      <td>Hultin's Beach, Oahu</td>\n",
       "      <td>Surfing</td>\n",
       "      <td>Marjorie Mariano</td>\n",
       "      <td>F</td>\n",
       "      <td>54</td>\n",
       "      <td>18h00</td>\n",
       "      <td>Tiger shark</td>\n",
       "      <td>http://sharkattackfile.net/spreadsheets/pdf_di...</td>\n",
       "      <td>siglo XXI</td>\n",
       "      <td>N</td>\n",
       "      <td>Severe lacerations to left thigh &amp; knee</td>\n",
       "      <td>31-Dec-2017</td>\n",
       "    </tr>\n",
       "    <tr>\n",
       "      <th>18</th>\n",
       "      <td>2017.11.24</td>\n",
       "      <td>60</td>\n",
       "      <td>2017.0</td>\n",
       "      <td>Unprovoked</td>\n",
       "      <td>USA</td>\n",
       "      <td>California</td>\n",
       "      <td>Stillwater Cove, Monterey County</td>\n",
       "      <td>Spearfishing</td>\n",
       "      <td>Grigor Azatian</td>\n",
       "      <td>M</td>\n",
       "      <td>25</td>\n",
       "      <td>13h45</td>\n",
       "      <td>White shark, 4.6 m</td>\n",
       "      <td>http://sharkattackfile.net/spreadsheets/pdf_di...</td>\n",
       "      <td>siglo XXI</td>\n",
       "      <td>N</td>\n",
       "      <td>Right leg bitten</td>\n",
       "      <td>24-Nov-2017</td>\n",
       "    </tr>\n",
       "  </tbody>\n",
       "</table>\n",
       "</div>"
      ],
      "text/plain": [
       "     case_number  unnamed:_0    year        type country        area  \\\n",
       "0     2018.06.25           0  2018.0     Boating     USA  California   \n",
       "2   2018.05.26.b           8  2018.0  Unprovoked     USA     Florida   \n",
       "10    2018.03.31          35  2018.0  Unprovoked     USA      Hawaii   \n",
       "17    2017.12.31          53  2017.0  Unprovoked     USA      Hawaii   \n",
       "18    2017.11.24          60  2017.0  Unprovoked     USA  California   \n",
       "\n",
       "                            location                 activity  \\\n",
       "0        Oceanside, San Diego County                 Paddling   \n",
       "2       Cocoa Beach, Brevard  County                  Walking   \n",
       "10                       Kukio Beach  Stand-Up Paddleboarding   \n",
       "17              Hultin's Beach, Oahu                  Surfing   \n",
       "18  Stillwater Cove, Monterey County             Spearfishing   \n",
       "\n",
       "                name sex_ age   time            species_  \\\n",
       "0        Julie Wolfe    F  57  18h00         White shark   \n",
       "2          Cody High    M  15  17h00      Bull shark, 6'   \n",
       "10              male    M  25  09h30    Tiger shark, 12'   \n",
       "17  Marjorie Mariano    F  54  18h00         Tiger shark   \n",
       "18    Grigor Azatian    M  25  13h45  White shark, 4.6 m   \n",
       "\n",
       "                                                 href      siglo fatal_(y/n)  \\\n",
       "0   http://sharkattackfile.net/spreadsheets/pdf_di...  siglo XXI           N   \n",
       "2   http://sharkattackfile.net/spreadsheets/pdf_di...  siglo XXI           N   \n",
       "10  http://sharkattackfile.net/spreadsheets/pdf_di...  siglo XXI           N   \n",
       "17  http://sharkattackfile.net/spreadsheets/pdf_di...  siglo XXI           N   \n",
       "18  http://sharkattackfile.net/spreadsheets/pdf_di...  siglo XXI           N   \n",
       "\n",
       "                                               injury         date  \n",
       "0   No injury to occupant, outrigger canoe and pad...  25-Jun-2018  \n",
       "2                               Lower left leg bitten  26-May-2018  \n",
       "10                       Injuries to right leg & hand  31-Mar-2018  \n",
       "17            Severe lacerations to left thigh & knee  31-Dec-2017  \n",
       "18                                   Right leg bitten  24-Nov-2017  "
      ]
     },
     "execution_count": 58,
     "metadata": {},
     "output_type": "execute_result"
    }
   ],
   "source": [
    "usa.head()"
   ]
  },
  {
   "cell_type": "code",
   "execution_count": 60,
   "metadata": {},
   "outputs": [
    {
     "data": {
      "text/html": [
       "<div>\n",
       "<style scoped>\n",
       "    .dataframe tbody tr th:only-of-type {\n",
       "        vertical-align: middle;\n",
       "    }\n",
       "\n",
       "    .dataframe tbody tr th {\n",
       "        vertical-align: top;\n",
       "    }\n",
       "\n",
       "    .dataframe thead th {\n",
       "        text-align: right;\n",
       "    }\n",
       "</style>\n",
       "<table border=\"1\" class=\"dataframe\">\n",
       "  <thead>\n",
       "    <tr style=\"text-align: right;\">\n",
       "      <th></th>\n",
       "      <th>index</th>\n",
       "      <th>type</th>\n",
       "    </tr>\n",
       "  </thead>\n",
       "  <tbody>\n",
       "    <tr>\n",
       "      <th>0</th>\n",
       "      <td>Unprovoked</td>\n",
       "      <td>632</td>\n",
       "    </tr>\n",
       "    <tr>\n",
       "      <th>1</th>\n",
       "      <td>Provoked</td>\n",
       "      <td>49</td>\n",
       "    </tr>\n",
       "    <tr>\n",
       "      <th>2</th>\n",
       "      <td>Invalid</td>\n",
       "      <td>48</td>\n",
       "    </tr>\n",
       "    <tr>\n",
       "      <th>3</th>\n",
       "      <td>Boating</td>\n",
       "      <td>11</td>\n",
       "    </tr>\n",
       "    <tr>\n",
       "      <th>4</th>\n",
       "      <td>Sea Disaster</td>\n",
       "      <td>1</td>\n",
       "    </tr>\n",
       "  </tbody>\n",
       "</table>\n",
       "</div>"
      ],
      "text/plain": [
       "          index  type\n",
       "0    Unprovoked   632\n",
       "1      Provoked    49\n",
       "2       Invalid    48\n",
       "3       Boating    11\n",
       "4  Sea Disaster     1"
      ]
     },
     "execution_count": 60,
     "metadata": {},
     "output_type": "execute_result"
    }
   ],
   "source": [
    "#usa_conteo = pd.DataFrame(usa[\"type\"].value_counts())\n",
    "usa_conteo = pd.DataFrame(usa.type.value_counts()).reset_index()\n",
    "#españa_conteo = españa.value_counts()\n",
    "usa_conteo.head()"
   ]
  },
  {
   "cell_type": "code",
   "execution_count": 63,
   "metadata": {},
   "outputs": [
    {
     "data": {
      "image/png": "[encoded data removed]",
      "text/plain": [
       "<Figure size 432x288 with 1 Axes>"
      ]
     },
     "metadata": {
      "needs_background": "light"
     },
     "output_type": "display_data"
    }
   ],
   "source": [
    "plt.figure()\n",
    "plt.plot(usa_conteo[\"index\"],usa_conteo[\"type\"])\n",
    "plt.show()"
   ]
  },
  {
   "cell_type": "code",
   "execution_count": 57,
   "metadata": {},
   "outputs": [],
   "source": [
    "usa_conteo_1 = usa.shape[0]\n",
    "españa_conteo_1 = españa.shape[0]"
   ]
  },
  {
   "cell_type": "markdown",
   "metadata": {},
   "source": [
    "En la primera debéis mostrar los tipos ataques en USA y España, cada subplot corresponderá a un país.\n",
    "    \n",
    "- Poner nombre a los ejes de cada uno de los subplots\n",
    "- Poner un títulos a cada uno de los subplots\n",
    "- Poner el color de las líneas en negro.\n",
    "- Establecer el tamaño de la gráfica a 15 x 5\n",
    "- Ponerle marcadores a las gráficas\n",
    "\n",
    "    `No incluir leyenda`"
   ]
  },
  {
   "cell_type": "code",
   "execution_count": 54,
   "metadata": {},
   "outputs": [],
   "source": [
    "#i = usa[\"case_number\"].value_counts()\n",
    "#l = españa[\"case_number\"].value_counts()"
   ]
  },
  {
   "cell_type": "code",
   "execution_count": 56,
   "metadata": {},
   "outputs": [
    {
     "ename": "SyntaxError",
     "evalue": "invalid syntax (3613245428.py, line 5)",
     "output_type": "error",
     "traceback": [
      "\u001b[0;36m  File \u001b[0;32m\"/var/folders/66/3gn2x5sj3tlfxjp4wp1zg9n00000gn/T/ipykernel_12048/3613245428.py\"\u001b[0;36m, line \u001b[0;32m5\u001b[0m\n\u001b[0;31m    ax[0].scatter(usa,?)\u001b[0m\n\u001b[0m                      ^\u001b[0m\n\u001b[0;31mSyntaxError\u001b[0m\u001b[0;31m:\u001b[0m invalid syntax\n"
     ]
    }
   ],
   "source": [
    "#plt.subplots((numero_filas, numero_columnas), figsize= (ancho,alto)))\n",
    "\n",
    "fig,ax = plt.subplots(1,2)\n",
    "\n",
    "ax[0].scatter(usa,?)\n",
    "ax[1].scatter(españa,?)\n",
    "\n",
    "plt.show()\n",
    "\n",
    "\n"
   ]
  },
  {
   "cell_type": "markdown",
   "metadata": {},
   "source": [
    "En la segunda debéis mostrar los ataques por año para cada uno de los países.\n",
    "\n",
    "- De nuevo tendréis que ponerle nombre a los ejes y título a cada gráfica.\n",
    "\n",
    "- En este caso el subplot deberá tener dos filas y una columna\n",
    "\n",
    "- No incluir leyenda\n",
    "\n",
    "- Cambiar el color de las barras"
   ]
  },
  {
   "cell_type": "markdown",
   "metadata": {},
   "source": [
    " \n",
    " 2. Cread un único gráfico donde juntéis las gráficas de los tipos de ataques en una sola.\n",
    " \n",
    "- Poner leyenda a la gráfica\n",
    "\n",
    "- Cada línea debe ir en un color\n",
    "\n",
    "- Ponerle nombre a los ejes y a la gráfica.\n",
    "\n",
    "- Poner marcadores a las lineas."
   ]
  },
  {
   "cell_type": "markdown",
   "metadata": {},
   "source": [
    "3. Guardad las figuras creadas en cada caso. Podéis usar el formato que queráis. Guarda todas las fotos en una carpeta llamada Visualizacion-II."
   ]
  }
 ],
 "metadata": {
  "kernelspec": {
   "display_name": "Python 3.9.7 ('base')",
   "language": "python",
   "name": "python3"
  },
  "language_info": {
   "codemirror_mode": {
    "name": "ipython",
    "version": 3
   },
   "file_extension": ".py",
   "mimetype": "text/x-python",
   "name": "python",
   "nbconvert_exporter": "python",
   "pygments_lexer": "ipython3",
   "version": "3.9.7"
  },
  "orig_nbformat": 4,
  "vscode": {
   "interpreter": {
    "hash": "651c3b7b3f466eb030aa737f279c846be4db9cba49a2f229278cab5e41121ed5"
   }
  }
 },
 "nbformat": 4,
 "nbformat_minor": 2
}
