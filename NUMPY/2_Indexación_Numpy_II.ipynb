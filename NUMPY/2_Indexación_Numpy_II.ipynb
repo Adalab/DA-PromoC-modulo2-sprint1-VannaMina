{
 "cells": [
  {
   "cell_type": "code",
   "execution_count": 21,
   "metadata": {},
   "outputs": [],
   "source": [
    "import numpy as np"
   ]
  },
  {
   "cell_type": "markdown",
   "metadata": {},
   "source": [
    "1. Cread un array de dos dimensiones de 5 filas y 3 columnas. Sobre el array creado anteriormente, extraed:"
   ]
  },
  {
   "cell_type": "code",
   "execution_count": 22,
   "metadata": {},
   "outputs": [
    {
     "data": {
      "text/plain": [
       "array([[0.46, 0.85, 0.4 ],\n",
       "       [0.03, 0.42, 0.13],\n",
       "       [0.98, 0.22, 0.41],\n",
       "       [0.28, 0.62, 0.04],\n",
       "       [0.76, 0.8 , 0.62]])"
      ]
     },
     "execution_count": 22,
     "metadata": {},
     "output_type": "execute_result"
    }
   ],
   "source": [
    "array_1 = np.random.rand(5,3).round(2)\n",
    "array_1"
   ]
  },
  {
   "cell_type": "markdown",
   "metadata": {},
   "source": [
    "El valor de la primera fila y la segunda columna."
   ]
  },
  {
   "cell_type": "code",
   "execution_count": 23,
   "metadata": {},
   "outputs": [
    {
     "data": {
      "text/plain": [
       "0.85"
      ]
     },
     "execution_count": 23,
     "metadata": {},
     "output_type": "execute_result"
    }
   ],
   "source": [
    "array_1[0,1]"
   ]
  },
  {
   "cell_type": "markdown",
   "metadata": {},
   "source": [
    "Los valores de la segunda fila y las dos primeras columnas."
   ]
  },
  {
   "cell_type": "code",
   "execution_count": 24,
   "metadata": {},
   "outputs": [
    {
     "data": {
      "text/plain": [
       "array([0.03, 0.42])"
      ]
     },
     "execution_count": 24,
     "metadata": {},
     "output_type": "execute_result"
    }
   ],
   "source": [
    "array_1[1,:2]"
   ]
  },
  {
   "cell_type": "markdown",
   "metadata": {},
   "source": [
    "Extraed las filas pares (incluyendo la 0) y todas las columnas."
   ]
  },
  {
   "cell_type": "code",
   "execution_count": 25,
   "metadata": {},
   "outputs": [
    {
     "data": {
      "text/plain": [
       "array([[0.46, 0.85, 0.4 ],\n",
       "       [0.98, 0.22, 0.41],\n",
       "       [0.76, 0.8 , 0.62]])"
      ]
     },
     "execution_count": 25,
     "metadata": {},
     "output_type": "execute_result"
    }
   ],
   "source": [
    "array_1[0::2,:]"
   ]
  },
  {
   "cell_type": "markdown",
   "metadata": {},
   "source": [
    "Extraed los valores que sean mayores que 0.5."
   ]
  },
  {
   "cell_type": "code",
   "execution_count": 26,
   "metadata": {},
   "outputs": [
    {
     "data": {
      "text/plain": [
       "array([0.85, 0.98, 0.62, 0.76, 0.8 , 0.62])"
      ]
     },
     "execution_count": 26,
     "metadata": {},
     "output_type": "execute_result"
    }
   ],
   "source": [
    "array_1[array_1>0.5]"
   ]
  },
  {
   "cell_type": "markdown",
   "metadata": {},
   "source": [
    "Extraed los valores menores que 0.2 o mayores que 0.5"
   ]
  },
  {
   "cell_type": "code",
   "execution_count": 27,
   "metadata": {},
   "outputs": [
    {
     "data": {
      "text/plain": [
       "array([0.85, 0.03, 0.13, 0.98, 0.62, 0.04, 0.76, 0.8 , 0.62])"
      ]
     },
     "execution_count": 27,
     "metadata": {},
     "output_type": "execute_result"
    }
   ],
   "source": [
    "array_1[(array_1<0.2) | (array_1>0.5)]"
   ]
  },
  {
   "cell_type": "markdown",
   "metadata": {},
   "source": [
    "2. Cread dos array de tres dimensiones:"
   ]
  },
  {
   "cell_type": "markdown",
   "metadata": {},
   "source": [
    "El primero de 2 matrices, 5 filas y 3 columnas."
   ]
  },
  {
   "cell_type": "code",
   "execution_count": 31,
   "metadata": {},
   "outputs": [
    {
     "name": "stdout",
     "output_type": "stream",
     "text": [
      "[[[0.24 0.2  0.32]\n",
      "  [0.31 0.32 0.74]\n",
      "  [0.61 0.21 0.9 ]\n",
      "  [0.22 0.35 0.58]\n",
      "  [0.61 0.54 0.49]]\n",
      "\n",
      " [[0.99 0.29 0.53]\n",
      "  [0.27 0.77 0.98]\n",
      "  [0.43 0.77 0.38]\n",
      "  [0.72 0.71 0.98]\n",
      "  [0.16 0.61 0.74]]]\n"
     ]
    }
   ],
   "source": [
    "array_2 = np.random.rand(2,5,3).round(2)\n",
    "print(array_2)\n"
   ]
  },
  {
   "cell_type": "markdown",
   "metadata": {},
   "source": [
    "El segundo de 3 matrices, 2 filas y 5 columnas"
   ]
  },
  {
   "cell_type": "code",
   "execution_count": 32,
   "metadata": {},
   "outputs": [
    {
     "name": "stdout",
     "output_type": "stream",
     "text": [
      "[[[0.63 0.82 0.63 0.52 0.25]\n",
      "  [0.9  0.99 0.85 0.27 0.68]]\n",
      "\n",
      " [[0.21 0.42 0.99 0.56 0.13]\n",
      "  [0.4  0.66 0.1  0.37 0.47]]\n",
      "\n",
      " [[0.39 0.72 0.8  0.55 0.19]\n",
      "  [0.22 0.61 0.16 0.48 0.32]]]\n"
     ]
    }
   ],
   "source": [
    "array_3 = np.random.rand(3,2,5).round(2)\n",
    "print(array_3)"
   ]
  },
  {
   "cell_type": "markdown",
   "metadata": {},
   "source": [
    "Haced un análisis exploratorio de los array creados. Recordad que en el ejercicio de ayer nos creamos una función para esto."
   ]
  },
  {
   "cell_type": "code",
   "execution_count": 33,
   "metadata": {},
   "outputs": [],
   "source": [
    "def informar_arrays(array_a_comprobar):\n",
    "    array_a_comprobar.shape\n",
    "    array_a_comprobar.size\n",
    "    array_a_comprobar.dtype\n",
    "    array_a_comprobar.ndim\n",
    "    return print(f\"La forma de nuestra array es {array_a_comprobar.shape}. El tamaño de nuestra array es de {array_a_comprobar.size}. El tipo de nuestra array es {array_a_comprobar.dtype}. Y la dimensión de nuestra array es {array_a_comprobar.ndim}.\")"
   ]
  },
  {
   "cell_type": "code",
   "execution_count": 34,
   "metadata": {},
   "outputs": [
    {
     "name": "stdout",
     "output_type": "stream",
     "text": [
      "La forma de nuestra array es (2, 5, 3). El tamaño de nuestra array es de 30. El tipo de nuestra array es float64. Y la dimensión de nuestra array es 3.\n"
     ]
    }
   ],
   "source": [
    "informar_arrays(array_2)"
   ]
  },
  {
   "cell_type": "code",
   "execution_count": 36,
   "metadata": {},
   "outputs": [
    {
     "name": "stdout",
     "output_type": "stream",
     "text": [
      "La forma de nuestra array es (3, 2, 5). El tamaño de nuestra array es de 30. El tipo de nuestra array es float64. Y la dimensión de nuestra array es 3.\n"
     ]
    }
   ],
   "source": [
    "informar_arrays(array_3)"
   ]
  },
  {
   "cell_type": "markdown",
   "metadata": {},
   "source": [
    "Sumad los dos arrays. ¿Podéis? ¿Por qué?"
   ]
  },
  {
   "cell_type": "code",
   "execution_count": 37,
   "metadata": {},
   "outputs": [
    {
     "ename": "ValueError",
     "evalue": "operands could not be broadcast together with shapes (2,5,3) (3,2,5) ",
     "output_type": "error",
     "traceback": [
      "\u001b[0;31m---------------------------------------------------------------------------\u001b[0m",
      "\u001b[0;31mValueError\u001b[0m                                Traceback (most recent call last)",
      "\u001b[0;32m/var/folders/66/3gn2x5sj3tlfxjp4wp1zg9n00000gn/T/ipykernel_24667/2958271391.py\u001b[0m in \u001b[0;36m<module>\u001b[0;34m\u001b[0m\n\u001b[0;32m----> 1\u001b[0;31m \u001b[0mnp\u001b[0m\u001b[0;34m.\u001b[0m\u001b[0madd\u001b[0m\u001b[0;34m(\u001b[0m\u001b[0marray_2\u001b[0m\u001b[0;34m,\u001b[0m\u001b[0marray_3\u001b[0m\u001b[0;34m)\u001b[0m\u001b[0;34m\u001b[0m\u001b[0;34m\u001b[0m\u001b[0m\n\u001b[0m",
      "\u001b[0;31mValueError\u001b[0m: operands could not be broadcast together with shapes (2,5,3) (3,2,5) "
     ]
    }
   ],
   "source": [
    "np.add(array_2,array_3)"
   ]
  },
  {
   "cell_type": "markdown",
   "metadata": {},
   "source": [
    "No se puede sumar porque las dos *arrays* no tienen la misma *shape*/forma."
   ]
  },
  {
   "cell_type": "markdown",
   "metadata": {},
   "source": [
    "Para cambiar la forma de un array y poder hacer operaciones entre arrays que tienen distintas formas hemos aprendido dos métodos:\n",
    "- reshape()\n",
    "- transpose()"
   ]
  },
  {
   "cell_type": "code",
   "execution_count": 39,
   "metadata": {},
   "outputs": [
    {
     "data": {
      "text/plain": [
       "array([[[0.63, 0.21, 0.39],\n",
       "        [0.82, 0.42, 0.72],\n",
       "        [0.63, 0.99, 0.8 ],\n",
       "        [0.52, 0.56, 0.55],\n",
       "        [0.25, 0.13, 0.19]],\n",
       "\n",
       "       [[0.9 , 0.4 , 0.22],\n",
       "        [0.99, 0.66, 0.61],\n",
       "        [0.85, 0.1 , 0.16],\n",
       "        [0.27, 0.37, 0.48],\n",
       "        [0.68, 0.47, 0.32]]])"
      ]
     },
     "execution_count": 39,
     "metadata": {},
     "output_type": "execute_result"
    }
   ],
   "source": [
    "array_3_cambiada = np.transpose(array_3,(1,2,0))\n",
    "array_3_cambiada"
   ]
  },
  {
   "cell_type": "code",
   "execution_count": 40,
   "metadata": {},
   "outputs": [
    {
     "data": {
      "text/plain": [
       "array([[[0.63, 0.82, 0.63],\n",
       "        [0.52, 0.25, 0.9 ],\n",
       "        [0.99, 0.85, 0.27],\n",
       "        [0.68, 0.21, 0.42],\n",
       "        [0.99, 0.56, 0.13]],\n",
       "\n",
       "       [[0.4 , 0.66, 0.1 ],\n",
       "        [0.37, 0.47, 0.39],\n",
       "        [0.72, 0.8 , 0.55],\n",
       "        [0.19, 0.22, 0.61],\n",
       "        [0.16, 0.48, 0.32]]])"
      ]
     },
     "execution_count": 40,
     "metadata": {},
     "output_type": "execute_result"
    }
   ],
   "source": [
    "array_3_shape = np.reshape(array_3,(2,5,3))\n",
    "array_3_shape"
   ]
  },
  {
   "cell_type": "markdown",
   "metadata": {},
   "source": [
    "Utiliza estas dos funciones para cambiar la forma de los array y hacer operaciones entre ellos."
   ]
  },
  {
   "cell_type": "code",
   "execution_count": 41,
   "metadata": {},
   "outputs": [
    {
     "data": {
      "text/plain": [
       "array([[[0.87, 0.41, 0.71],\n",
       "        [1.13, 0.74, 1.46],\n",
       "        [1.24, 1.2 , 1.7 ],\n",
       "        [0.74, 0.91, 1.13],\n",
       "        [0.86, 0.67, 0.68]],\n",
       "\n",
       "       [[1.89, 0.69, 0.75],\n",
       "        [1.26, 1.43, 1.59],\n",
       "        [1.28, 0.87, 0.54],\n",
       "        [0.99, 1.08, 1.46],\n",
       "        [0.84, 1.08, 1.06]]])"
      ]
     },
     "execution_count": 41,
     "metadata": {},
     "output_type": "execute_result"
    }
   ],
   "source": [
    "array_suma = np.add(array_2,array_3_cambiada)\n",
    "array_suma"
   ]
  },
  {
   "cell_type": "code",
   "execution_count": 42,
   "metadata": {},
   "outputs": [
    {
     "data": {
      "text/plain": [
       "array([[[-0.39, -0.62, -0.31],\n",
       "        [-0.21,  0.07, -0.16],\n",
       "        [-0.38, -0.64,  0.63],\n",
       "        [-0.46,  0.14,  0.16],\n",
       "        [-0.38, -0.02,  0.36]],\n",
       "\n",
       "       [[ 0.59, -0.37,  0.43],\n",
       "        [-0.1 ,  0.3 ,  0.59],\n",
       "        [-0.29, -0.03, -0.17],\n",
       "        [ 0.53,  0.49,  0.37],\n",
       "        [ 0.  ,  0.13,  0.42]]])"
      ]
     },
     "execution_count": 42,
     "metadata": {},
     "output_type": "execute_result"
    }
   ],
   "source": [
    "array_resta = np.subtract(array_2,array_3_shape)\n",
    "array_resta"
   ]
  },
  {
   "cell_type": "code",
   "execution_count": 46,
   "metadata": {},
   "outputs": [
    {
     "data": {
      "text/plain": [
       "array([[[0.15, 0.04, 0.12],\n",
       "        [0.25, 0.13, 0.53],\n",
       "        [0.38, 0.21, 0.72],\n",
       "        [0.11, 0.2 , 0.32],\n",
       "        [0.15, 0.07, 0.09]],\n",
       "\n",
       "       [[0.89, 0.12, 0.12],\n",
       "        [0.27, 0.51, 0.6 ],\n",
       "        [0.37, 0.08, 0.06],\n",
       "        [0.19, 0.26, 0.47],\n",
       "        [0.11, 0.29, 0.24]]])"
      ]
     },
     "execution_count": 46,
     "metadata": {},
     "output_type": "execute_result"
    }
   ],
   "source": [
    "array_multi = np.multiply(array_2, array_3_cambiada).round(2)\n",
    "array_multi"
   ]
  },
  {
   "cell_type": "code",
   "execution_count": 45,
   "metadata": {},
   "outputs": [
    {
     "data": {
      "text/plain": [
       "array([[[0.38, 0.24, 0.51],\n",
       "        [0.6 , 1.28, 0.82],\n",
       "        [0.62, 0.25, 3.33],\n",
       "        [0.32, 1.67, 1.38],\n",
       "        [0.62, 0.96, 3.77]],\n",
       "\n",
       "       [[2.47, 0.44, 5.3 ],\n",
       "        [0.73, 1.64, 2.51],\n",
       "        [0.6 , 0.96, 0.69],\n",
       "        [3.79, 3.23, 1.61],\n",
       "        [1.  , 1.27, 2.31]]])"
      ]
     },
     "execution_count": 45,
     "metadata": {},
     "output_type": "execute_result"
    }
   ],
   "source": [
    "array_division = np.divide(array_2,array_3_shape).round(2)\n",
    "array_division"
   ]
  }
 ],
 "metadata": {
  "kernelspec": {
   "display_name": "Python 3.9.7 ('base')",
   "language": "python",
   "name": "python3"
  },
  "language_info": {
   "codemirror_mode": {
    "name": "ipython",
    "version": 3
   },
   "file_extension": ".py",
   "mimetype": "text/x-python",
   "name": "python",
   "nbconvert_exporter": "python",
   "pygments_lexer": "ipython3",
   "version": "3.9.7"
  },
  "orig_nbformat": 4,
  "vscode": {
   "interpreter": {
    "hash": "651c3b7b3f466eb030aa737f279c846be4db9cba49a2f229278cab5e41121ed5"
   }
  }
 },
 "nbformat": 4,
 "nbformat_minor": 2
}
