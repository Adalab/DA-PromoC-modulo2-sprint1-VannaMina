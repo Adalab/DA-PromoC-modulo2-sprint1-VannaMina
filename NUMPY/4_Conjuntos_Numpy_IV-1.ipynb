{
 "cells": [
  {
   "cell_type": "code",
   "execution_count": 3,
   "metadata": {},
   "outputs": [],
   "source": [
    "import numpy as np\n",
    "import random"
   ]
  },
  {
   "cell_type": "markdown",
   "metadata": {},
   "source": [
    "1. ¿Cómo podemos crear dos arrays de dos dimensiones usando el método random_sample que tengan los mismos valores?"
   ]
  },
  {
   "cell_type": "code",
   "execution_count": 20,
   "metadata": {},
   "outputs": [],
   "source": [
    "np.random.seed(42)\n",
    "arr_1 = np.random.random_sample((2,5))\n",
    "np.random.seed(42)\n",
    "arr_2 = np.random.random_sample((2,5))"
   ]
  },
  {
   "cell_type": "code",
   "execution_count": 21,
   "metadata": {},
   "outputs": [
    {
     "name": "stdout",
     "output_type": "stream",
     "text": [
      "[[0.37454012 0.95071431 0.73199394 0.59865848 0.15601864]\n",
      " [0.15599452 0.05808361 0.86617615 0.60111501 0.70807258]]\n",
      "[[0.37454012 0.95071431 0.73199394 0.59865848 0.15601864]\n",
      " [0.15599452 0.05808361 0.86617615 0.60111501 0.70807258]]\n"
     ]
    }
   ],
   "source": [
    "#Aqui podemos ver que los dos arrays son iguales\n",
    "print(arr_1)\n",
    "print(arr_2)"
   ]
  },
  {
   "cell_type": "markdown",
   "metadata": {},
   "source": [
    "2. Cread los siguientes arrays:\n",
    "    \n",
    "    - Un array de tres dimensiones con distribución uniforme de 2 x 3 x 5, con números entre 0 y 10, que no tengan decimales y extrae sus valores únicos almacenándolos en una variable.\n",
    "\n",
    "    - Un array de tres dimensiones con distribución binomial de 2 x 3 x 5, con probabilidad de 0.3 y número de pruebas igual a 10. Igual que antes, extrae sus valores únicos y guarda los datos en una variable."
   ]
  },
  {
   "cell_type": "code",
   "execution_count": 73,
   "metadata": {},
   "outputs": [
    {
     "data": {
      "text/plain": [
       "array([[[ 3.,  2.,  9.,  6.,  4.],\n",
       "        [ 5.,  9.,  2.,  6.,  5.],\n",
       "        [ 6.,  0.,  9.,  9.,  6.]],\n",
       "\n",
       "       [[ 7.,  9.,  7.,  2.,  6.],\n",
       "        [ 6.,  4.,  7.,  9.,  9.],\n",
       "        [ 5.,  1., 10.,  8.,  1.]]])"
      ]
     },
     "execution_count": 73,
     "metadata": {},
     "output_type": "execute_result"
    }
   ],
   "source": [
    "arr_uniforme =np.round(np.random.uniform(0,10, size=(2,3,5)))\n",
    "arr_uniforme"
   ]
  },
  {
   "cell_type": "code",
   "execution_count": 29,
   "metadata": {},
   "outputs": [
    {
     "data": {
      "text/plain": [
       "array([[[3, 2, 1, 2, 5],\n",
       "        [2, 3, 4, 2, 6],\n",
       "        [6, 2, 3, 2, 2]],\n",
       "\n",
       "       [[1, 3, 3, 1, 2],\n",
       "        [5, 2, 1, 3, 6],\n",
       "        [2, 4, 4, 2, 4]]])"
      ]
     },
     "execution_count": 29,
     "metadata": {},
     "output_type": "execute_result"
    }
   ],
   "source": [
    "arr_bin = np.random.binomial(10, 0.3, size = (2,3,5))\n",
    "arr_bin"
   ]
  },
  {
   "cell_type": "markdown",
   "metadata": {},
   "source": [
    "3. Usando los arrays de elementos únicos obtenidos en el ejercicio anterior realizad las siguientes operaciones:"
   ]
  },
  {
   "cell_type": "markdown",
   "metadata": {},
   "source": [
    "    --    ⚠️ Explicar cada uno de los outputs que os salgan. --\n",
    "\n",
    "    --    Que significa cada una de estas operaciones que hemos ido extrayendo? --"
   ]
  },
  {
   "cell_type": "markdown",
   "metadata": {},
   "source": [
    "- Elementos comunes entre los dos arrays"
   ]
  },
  {
   "cell_type": "code",
   "execution_count": 40,
   "metadata": {},
   "outputs": [
    {
     "data": {
      "text/plain": [
       "array([ 0.,  1.,  2.,  3.,  4.,  5.,  6.,  7.,  8.,  9., 10.])"
      ]
     },
     "execution_count": 40,
     "metadata": {},
     "output_type": "execute_result"
    }
   ],
   "source": [
    "arr_unique_1 = np.unique(arr_uniforme)\n",
    "arr_unique_1"
   ]
  },
  {
   "cell_type": "code",
   "execution_count": 41,
   "metadata": {},
   "outputs": [
    {
     "data": {
      "text/plain": [
       "array([1, 2, 3, 4, 5, 6])"
      ]
     },
     "execution_count": 41,
     "metadata": {},
     "output_type": "execute_result"
    }
   ],
   "source": [
    "arr_unique_2 = np.unique(arr_bin)\n",
    "arr_unique_2"
   ]
  },
  {
   "cell_type": "code",
   "execution_count": 45,
   "metadata": {},
   "outputs": [
    {
     "data": {
      "text/plain": [
       "array([1., 2., 3., 4., 5., 6.])"
      ]
     },
     "execution_count": 45,
     "metadata": {},
     "output_type": "execute_result"
    }
   ],
   "source": [
    "arr_comunes = np.intersect1d(arr_unique_1,arr_unique_2)\n",
    "arr_comunes\n",
    "\n",
    "# hemos mirado los elementos unicos de los arrays con el metodo unique, porque como son de tres dimensiones así nos devolvia un array de una dimension.\n",
    "# Asi podiamos usar el metodo intersect1d que solo admite una array de una dimension."
   ]
  },
  {
   "cell_type": "markdown",
   "metadata": {},
   "source": [
    "- Unión de los dos arrays"
   ]
  },
  {
   "cell_type": "code",
   "execution_count": 48,
   "metadata": {},
   "outputs": [
    {
     "data": {
      "text/plain": [
       "array([ 0.,  1.,  2.,  3.,  4.,  5.,  6.,  7.,  8.,  9., 10.])"
      ]
     },
     "execution_count": 48,
     "metadata": {},
     "output_type": "execute_result"
    }
   ],
   "source": [
    "arr_union = np.union1d(arr_unique_1,arr_unique_2)\n",
    "arr_union\n",
    "\n",
    "# Siguiendo el exemplo de antes usamos el metodo union para unir los valores unicos de cada array.\n"
   ]
  },
  {
   "cell_type": "markdown",
   "metadata": {},
   "source": [
    "- ¿Qué elementos están en el array derivado de la distribución uniforme y no en los únicos de la distribución binomial? Extrae los valores númericos"
   ]
  },
  {
   "cell_type": "code",
   "execution_count": 50,
   "metadata": {},
   "outputs": [
    {
     "name": "stdout",
     "output_type": "stream",
     "text": [
      "[ 0.  1.  2.  3.  4.  5.  6.  7.  8.  9. 10.]\n",
      "[1 2 3 4 5 6]\n"
     ]
    }
   ],
   "source": [
    "print(arr_unique_1)\n",
    "print(arr_unique_2)"
   ]
  },
  {
   "cell_type": "code",
   "execution_count": 49,
   "metadata": {},
   "outputs": [
    {
     "data": {
      "text/plain": [
       "array([ 0.,  7.,  8.,  9., 10.])"
      ]
     },
     "execution_count": 49,
     "metadata": {},
     "output_type": "execute_result"
    }
   ],
   "source": [
    "arr_diferencia = np.setdiff1d(arr_unique_1, arr_unique_2)\n",
    "arr_diferencia\n",
    "\n",
    "# nos devuelve los elementos unicos que hay en la array_1 pero no hay en la array_2."
   ]
  },
  {
   "cell_type": "markdown",
   "metadata": {},
   "source": [
    "4. Cread dos arrays usando el método random.randint de Numpy con 80 elementos cada uno con números del 1-100, con los siguientes nombres array1 y array2."
   ]
  },
  {
   "cell_type": "code",
   "execution_count": 57,
   "metadata": {},
   "outputs": [
    {
     "name": "stdout",
     "output_type": "stream",
     "text": [
      "[42 41  6 52 26 64 98 59 56 59 70 33 53 22 21 70 70  4 94 75 62 62 94 95\n",
      " 24 55  9  3 31 40 36 24 95  6 66 84 92 75  4 79  6 94 51 62 57 66 79 75\n",
      "  8 26 51 45 44  5 70 26 68 19 84 97 20 12 47  1 90 14 64 38 37 11 77  3\n",
      " 33  6 50 10  5 23 10 44]\n",
      "[ 2 13 40  2 84 65 63 73 17  9 75 15 24 38 35 94 95 49 69 62 60 50 78 75\n",
      "  9 34 76 99 35  1 40 64 22 60 64 93 72 11 14 60 30 35 85 37  5 83 78 26\n",
      " 62  4 89 42 89 18 40 72 39 14 32 51 38 97 23 63 15 97 25 17 97 66 78 53\n",
      " 51 39 51 70  6 67  7 51]\n"
     ]
    }
   ],
   "source": [
    "array1 = np.random.randint(1,100, 80)\n",
    "array2 = np.random.randint(1,100, 80)\n",
    "\n",
    "print(array1)\n",
    "print(array2)"
   ]
  },
  {
   "cell_type": "markdown",
   "metadata": {},
   "source": [
    "- Extraed los valores únicos de cada uno de los arrays y los guardáis en variables en las que se les llame array1 y array2."
   ]
  },
  {
   "cell_type": "code",
   "execution_count": 58,
   "metadata": {},
   "outputs": [
    {
     "name": "stdout",
     "output_type": "stream",
     "text": [
      "[ 1  3  4  5  6  8  9 10 11 12 14 19 20 21 22 23 24 26 31 33 36 37 38 40\n",
      " 41 42 44 45 47 50 51 52 53 55 56 57 59 62 64 66 68 70 75 77 79 84 90 92\n",
      " 94 95 97 98]\n",
      "[ 1  2  4  5  6  7  9 11 13 14 15 17 18 22 23 24 25 26 30 32 34 35 37 38\n",
      " 39 40 42 49 50 51 53 60 62 63 64 65 66 67 69 70 72 73 75 76 78 83 84 85\n",
      " 89 93 94 95 97 99]\n"
     ]
    }
   ],
   "source": [
    "array1 = np.unique(array1)\n",
    "array2 = np.unique(array2)\n",
    "\n",
    "print(array1)\n",
    "print(array2)"
   ]
  },
  {
   "cell_type": "markdown",
   "metadata": {},
   "source": [
    "- Identificad los elementos presentes en el array1 pero no en el array2 y asiganarlo a una variable que se llame array3."
   ]
  },
  {
   "cell_type": "code",
   "execution_count": 59,
   "metadata": {},
   "outputs": [
    {
     "data": {
      "text/plain": [
       "array([ 3,  8, 10, 12, 19, 20, 21, 31, 33, 36, 41, 44, 45, 47, 52, 55, 56,\n",
       "       57, 59, 68, 77, 79, 90, 92, 98])"
      ]
     },
     "execution_count": 59,
     "metadata": {},
     "output_type": "execute_result"
    }
   ],
   "source": [
    "array3 = np.setdiff1d(array1, array2)\n",
    "array3"
   ]
  },
  {
   "cell_type": "markdown",
   "metadata": {},
   "source": [
    "- Identificad los elementos presentes en el array2 pero no en el array1 y asiganarlo a una variable que se llame array4."
   ]
  },
  {
   "cell_type": "code",
   "execution_count": 60,
   "metadata": {},
   "outputs": [
    {
     "data": {
      "text/plain": [
       "array([ 2,  7, 13, 15, 17, 18, 25, 30, 32, 34, 35, 39, 49, 60, 63, 65, 67,\n",
       "       69, 72, 73, 76, 78, 83, 85, 89, 93, 99])"
      ]
     },
     "execution_count": 60,
     "metadata": {},
     "output_type": "execute_result"
    }
   ],
   "source": [
    "array4 = np.setdiff1d(array2, array1)\n",
    "array4"
   ]
  },
  {
   "cell_type": "markdown",
   "metadata": {},
   "source": [
    "- Identificad los elementos presentes en ambos arrays y asiganarlos a una variable que se llame array5."
   ]
  },
  {
   "cell_type": "code",
   "execution_count": 61,
   "metadata": {},
   "outputs": [
    {
     "data": {
      "text/plain": [
       "array([ 1,  4,  5,  6,  9, 11, 14, 22, 23, 24, 26, 37, 38, 40, 42, 50, 51,\n",
       "       53, 62, 64, 66, 70, 75, 84, 94, 95, 97])"
      ]
     },
     "execution_count": 61,
     "metadata": {},
     "output_type": "execute_result"
    }
   ],
   "source": [
    "array5 = np.intersect1d(array1,array2)\n",
    "array5"
   ]
  },
  {
   "cell_type": "markdown",
   "metadata": {},
   "source": [
    "- ¿Cuál es la relación que existe entre todos estos arrays?\n",
    "\n"
   ]
  },
  {
   "cell_type": "code",
   "execution_count": 63,
   "metadata": {},
   "outputs": [
    {
     "name": "stdout",
     "output_type": "stream",
     "text": [
      "52\n",
      "54\n",
      "25\n",
      "27\n",
      "27\n"
     ]
    }
   ],
   "source": [
    "print(len(array1))\n",
    "print(len(array2))\n",
    "print(len(array3))\n",
    "print(len(array4))\n",
    "print(len(array5))\n"
   ]
  },
  {
   "cell_type": "code",
   "execution_count": 64,
   "metadata": {},
   "outputs": [
    {
     "data": {
      "text/plain": [
       "False"
      ]
     },
     "execution_count": 64,
     "metadata": {},
     "output_type": "execute_result"
    }
   ],
   "source": [
    "(len(array1) + len(array2)) == len(array3)"
   ]
  },
  {
   "cell_type": "code",
   "execution_count": 65,
   "metadata": {},
   "outputs": [
    {
     "data": {
      "text/plain": [
       "True"
      ]
     },
     "execution_count": 65,
     "metadata": {},
     "output_type": "execute_result"
    }
   ],
   "source": [
    "len(array5) + (len(array4)) == len(array2)"
   ]
  },
  {
   "cell_type": "code",
   "execution_count": 71,
   "metadata": {},
   "outputs": [
    {
     "data": {
      "text/plain": [
       "True"
      ]
     },
     "execution_count": 71,
     "metadata": {},
     "output_type": "execute_result"
    }
   ],
   "source": [
    "len(array5) + (len(array3)) == len(array1)"
   ]
  },
  {
   "cell_type": "markdown",
   "metadata": {},
   "source": [
    "    --💡 Pista 💡 Tendréis que usar las longitudes de cada uno de los arrays creados. --"
   ]
  }
 ],
 "metadata": {
  "kernelspec": {
   "display_name": "Python 3.9.7 ('base')",
   "language": "python",
   "name": "python3"
  },
  "language_info": {
   "codemirror_mode": {
    "name": "ipython",
    "version": 3
   },
   "file_extension": ".py",
   "mimetype": "text/x-python",
   "name": "python",
   "nbconvert_exporter": "python",
   "pygments_lexer": "ipython3",
   "version": "3.9.7"
  },
  "orig_nbformat": 4,
  "vscode": {
   "interpreter": {
    "hash": "651c3b7b3f466eb030aa737f279c846be4db9cba49a2f229278cab5e41121ed5"
   }
  }
 },
 "nbformat": 4,
 "nbformat_minor": 2
}
