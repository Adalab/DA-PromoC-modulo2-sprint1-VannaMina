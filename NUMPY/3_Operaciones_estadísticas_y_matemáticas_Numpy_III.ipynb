{
 "cells": [
  {
   "cell_type": "code",
   "execution_count": 15,
   "metadata": {},
   "outputs": [],
   "source": [
    "import numpy as np"
   ]
  },
  {
   "cell_type": "markdown",
   "metadata": {},
   "source": [
    "Cread un array de tres dimensiones de 2 matrices, 3 filas y 5 \n",
    "columnas cuyos valores solo tengan 1 decimales. "
   ]
  },
  {
   "cell_type": "code",
   "execution_count": 22,
   "metadata": {},
   "outputs": [
    {
     "data": {
      "text/plain": [
       "array([[[0.1, 0.1, 0.1, 1. , 0.7],\n",
       "        [0.4, 0.1, 0.7, 0. , 0.8],\n",
       "        [0.6, 0.6, 0.6, 0. , 0.5]],\n",
       "\n",
       "       [[0.9, 0.2, 0.8, 0.3, 0.1],\n",
       "        [0.9, 0.1, 0.6, 0.9, 1. ],\n",
       "        [0.5, 0.9, 0.3, 0.6, 0.3]]])"
      ]
     },
     "execution_count": 22,
     "metadata": {},
     "output_type": "execute_result"
    }
   ],
   "source": [
    "array = np.round(np.random.random_sample((2,3,5)), decimals = 1)\n",
    "array"
   ]
  },
  {
   "cell_type": "markdown",
   "metadata": {},
   "source": [
    "Calculad la media del array y almacenarlos en una variable. Redondead a un decimal."
   ]
  },
  {
   "cell_type": "code",
   "execution_count": 23,
   "metadata": {},
   "outputs": [
    {
     "data": {
      "text/plain": [
       "0.5"
      ]
     },
     "execution_count": 23,
     "metadata": {},
     "output_type": "execute_result"
    }
   ],
   "source": [
    "array_media = np.round(np.mean(array),decimals = 1)\n",
    "array_media"
   ]
  },
  {
   "cell_type": "markdown",
   "metadata": {},
   "source": [
    "Calculad el valor máximo del array y almacenarlos en una variable. Redondead a un decimal."
   ]
  },
  {
   "cell_type": "code",
   "execution_count": 24,
   "metadata": {},
   "outputs": [
    {
     "data": {
      "text/plain": [
       "1.0"
      ]
     },
     "execution_count": 24,
     "metadata": {},
     "output_type": "execute_result"
    }
   ],
   "source": [
    "array_max = np.round(np.max(array),decimals = 1)\n",
    "array_max"
   ]
  },
  {
   "cell_type": "markdown",
   "metadata": {},
   "source": [
    "Calculad el valor mínimo del array y almacenarlos en una variable. Redondead a un decimal."
   ]
  },
  {
   "cell_type": "code",
   "execution_count": 25,
   "metadata": {},
   "outputs": [
    {
     "data": {
      "text/plain": [
       "0.0"
      ]
     },
     "execution_count": 25,
     "metadata": {},
     "output_type": "execute_result"
    }
   ],
   "source": [
    "array_min = np.round(np.min(array), decimals = 1)\n",
    "array_min"
   ]
  },
  {
   "cell_type": "markdown",
   "metadata": {},
   "source": [
    "Cread un array vacío con la misma forma y dimensiones que el array creado anteriormente."
   ]
  },
  {
   "cell_type": "code",
   "execution_count": 26,
   "metadata": {},
   "outputs": [
    {
     "data": {
      "text/plain": [
       "array([[['', '', '', '', ''],\n",
       "        ['', '', '', '', ''],\n",
       "        ['', '', '', '', '']],\n",
       "\n",
       "       [['', '', '', '', ''],\n",
       "        ['', '', '', '', ''],\n",
       "        ['', '', '', '', '']]], dtype='<U1')"
      ]
     },
     "execution_count": 26,
     "metadata": {},
     "output_type": "execute_result"
    }
   ],
   "source": [
    "array_vacio = np.empty_like(array, str)\n",
    "array_vacio\n",
    "\n",
    "#Teniendo en cuenta que tendré que sostituir letras con numeros, pido que el array vacio\n",
    "#tenga strings"
   ]
  },
  {
   "cell_type": "markdown",
   "metadata": {},
   "source": [
    "Vamos a reemplazar los valores de la matriz vacía que nos acabamos de crear pero basándonos en los valores del primer array bajo las siguientes condiciones:\n",
    "\n",
    "- Si el valor del array es igual que la media, se reemplaza por \"A\".\n",
    "- Si el valor del array es mayor que la media, se reemplaza por \"B\".\n",
    "- Si el valor del array es menor que la media, se reemplaza por \"C\".\n",
    "- Si el valor es igual que el máximo, se reemplaza por \"D\".\n",
    "- Si el valor es igual que el mínimo, se reemplaza por \"E\"."
   ]
  },
  {
   "cell_type": "code",
   "execution_count": 98,
   "metadata": {},
   "outputs": [
    {
     "name": "stdout",
     "output_type": "stream",
     "text": [
      "[[['C' 'C' 'C' 'D' 'B']\n",
      "  ['C' 'C' 'B' 'E' 'B']\n",
      "  ['B' 'B' 'B' 'E' 'A']]\n",
      "\n",
      " [['B' 'C' 'B' 'C' 'C']\n",
      "  ['B' 'C' 'B' 'B' 'D']\n",
      "  ['A' 'B' 'C' 'B' 'C']]]\n"
     ]
    }
   ],
   "source": [
    "array_media = np.round(np.mean(array), decimals = 1)\n",
    "array_max = np.round(np.max(array), decimals = 1)\n",
    "array_min = np.round(np.min(array), decimals = 1)\n",
    "\n",
    "for matriz in range(len(array)):\n",
    "    #print(matriz) \n",
    "    for fila in range(len(array[matriz])):\n",
    "            #print(fila)\n",
    "            for columna in range(len(array[matriz][fila])):\n",
    "                #print(columna)\n",
    "                if array[matriz][fila][columna] == array_media:\n",
    "                    array_vacio[matriz][fila][columna] = \"A\"\n",
    "                elif array[matriz][fila][columna] == array_max:\n",
    "                    array_vacio[matriz][fila][columna] = \"D\"\n",
    "                elif array[matriz][fila][columna] == array_min:\n",
    "                    array_vacio[matriz][fila][columna] = \"E\"\n",
    "                elif array[matriz][fila][columna] < array_media:\n",
    "                    array_vacio[matriz][fila][columna] = \"C\"\n",
    "                elif array[matriz][fila][columna] > array_media:\n",
    "                    array_vacio[matriz][fila][columna] = \"B\"\n",
    "                \n",
    "array_letras = array_vacio.copy()\n",
    "print(array_letras)"
   ]
  },
  {
   "cell_type": "markdown",
   "metadata": {},
   "source": [
    "Ahora realizaremos un ejercicio similar al anterior, pero en este caso nos crearemos un array vacío unidimensional de 30 elementos. \n",
    "\n",
    "\n",
    "-- Si el valor del array creado en el ejercicio anterior es \"A\" o \"B\" lo reemplazaremos por 1\n",
    "\n",
    "-- Si el valor del array creado en el ejercicio anterior es \"C\" o \"D\" lo reemplazaremos por 2\n",
    "\n",
    "-- Si el valor del array creado en el ejercicio anterior es \"E\" lo reemplazaremos por 3."
   ]
  },
  {
   "cell_type": "code",
   "execution_count": 108,
   "metadata": {},
   "outputs": [
    {
     "ename": "NameError",
     "evalue": "name 'values' is not defined",
     "output_type": "error",
     "traceback": [
      "\u001b[0;31m---------------------------------------------------------------------------\u001b[0m",
      "\u001b[0;31mNameError\u001b[0m                                 Traceback (most recent call last)",
      "\u001b[0;32m/var/folders/66/3gn2x5sj3tlfxjp4wp1zg9n00000gn/T/ipykernel_28641/2107399675.py\u001b[0m in \u001b[0;36m<module>\u001b[0;34m\u001b[0m\n\u001b[0;32m----> 1\u001b[0;31m \u001b[0mvalues\u001b[0m\u001b[0;34m(\u001b[0m\u001b[0marray_letras\u001b[0m\u001b[0;34m)\u001b[0m\u001b[0;34m\u001b[0m\u001b[0;34m\u001b[0m\u001b[0m\n\u001b[0m",
      "\u001b[0;31mNameError\u001b[0m: name 'values' is not defined"
     ]
    }
   ],
   "source": [
    "values(array_letras)"
   ]
  },
  {
   "cell_type": "code",
   "execution_count": 109,
   "metadata": {},
   "outputs": [
    {
     "name": "stdout",
     "output_type": "stream",
     "text": [
      "[2, 2, 2, 2, 1, 2, 2, 1, 3, 1, 1, 1, 1, 3, 1, 1, 2, 1, 2, 2, 1, 2, 1, 1, 2, 1, 1, 2, 1, 2]\n"
     ]
    }
   ],
   "source": [
    "unidemnsional = []\n",
    "\n",
    "for value in array_letras:\n",
    "    #print(value)\n",
    "    for subvalue in value:\n",
    "        #print(subvalue)\n",
    "        for subvalue2 in subvalue:    \n",
    "            #print(subvalue2)\n",
    "            if np.any(subvalue2 == \"A\"):\n",
    "                unidemnsional.append(1,)\n",
    "            elif np.any(subvalue2 == \"B\"):\n",
    "                unidemnsional.append(1,)\n",
    "            elif np.any(subvalue2 == \"C\"):\n",
    "                unidemnsional.append(2,)\n",
    "            elif np.any(subvalue2 == \"D\"):\n",
    "                unidemnsional.append(2,)\n",
    "            else:\n",
    "                unidemnsional.append(3,)\n",
    "\n",
    "print(unidemnsional)"
   ]
  },
  {
   "cell_type": "markdown",
   "metadata": {},
   "source": [
    "Al final de este ejercicio acabaremos teniendo un array de tres dimensiones con la misma forma que el primero que nos creamos."
   ]
  },
  {
   "cell_type": "code",
   "execution_count": 110,
   "metadata": {},
   "outputs": [
    {
     "data": {
      "text/plain": [
       "array([2, 2, 2, 2, 1, 2, 2, 1, 3, 1, 1, 1, 1, 3, 1, 1, 2, 1, 2, 2, 1, 2,\n",
       "       1, 1, 2, 1, 1, 2, 1, 2])"
      ]
     },
     "execution_count": 110,
     "metadata": {},
     "output_type": "execute_result"
    }
   ],
   "source": [
    "array_unidemnsional = np.array(unidemnsional)\n",
    "array_unidemnsional"
   ]
  },
  {
   "cell_type": "code",
   "execution_count": 111,
   "metadata": {},
   "outputs": [
    {
     "data": {
      "text/plain": [
       "array([[[2, 2, 2, 2, 1],\n",
       "        [2, 2, 1, 3, 1],\n",
       "        [1, 1, 1, 3, 1]],\n",
       "\n",
       "       [[1, 2, 1, 2, 2],\n",
       "        [1, 2, 1, 1, 2],\n",
       "        [1, 1, 2, 1, 2]]])"
      ]
     },
     "execution_count": 111,
     "metadata": {},
     "output_type": "execute_result"
    }
   ],
   "source": [
    "array_final = np.reshape(array_unidemnsional,(2,3,5))\n",
    "\n",
    "array_final"
   ]
  },
  {
   "cell_type": "markdown",
   "metadata": {},
   "source": [
    "------------------------------------------------------------------------------------------"
   ]
  },
  {
   "cell_type": "markdown",
   "metadata": {},
   "source": [
    "Otra forma"
   ]
  },
  {
   "cell_type": "code",
   "execution_count": 35,
   "metadata": {},
   "outputs": [
    {
     "data": {
      "text/plain": [
       "array([0.94308059, 0.4456214 , 0.5734602 , 0.41318416, 0.12175674,\n",
       "       0.39093774, 0.0336535 , 0.46264478, 0.68491035, 0.2491607 ,\n",
       "       0.92984855, 0.24130013, 0.38079644, 0.30926805, 0.00678156,\n",
       "       0.82417153, 0.97801406, 0.38460766, 0.20512525, 0.50082044,\n",
       "       0.88519793, 0.74233133, 0.77672805, 0.27783531, 0.86868783,\n",
       "       0.03545535, 0.39874504, 0.53298827, 0.37693497, 0.56949674])"
      ]
     },
     "execution_count": 35,
     "metadata": {},
     "output_type": "execute_result"
    }
   ],
   "source": [
    "array_1 = np.empty(30)\n",
    "array_1"
   ]
  },
  {
   "cell_type": "code",
   "execution_count": 85,
   "metadata": {},
   "outputs": [
    {
     "data": {
      "text/plain": [
       "(2, 3, 5)"
      ]
     },
     "execution_count": 85,
     "metadata": {},
     "output_type": "execute_result"
    }
   ],
   "source": [
    "array_letras.shape"
   ]
  },
  {
   "cell_type": "code",
   "execution_count": 116,
   "metadata": {},
   "outputs": [
    {
     "ename": "TypeError",
     "evalue": "'numpy.ndarray' object is not callable",
     "output_type": "error",
     "traceback": [
      "\u001b[0;31m---------------------------------------------------------------------------\u001b[0m",
      "\u001b[0;31mTypeError\u001b[0m                                 Traceback (most recent call last)",
      "\u001b[0;32m/var/folders/66/3gn2x5sj3tlfxjp4wp1zg9n00000gn/T/ipykernel_28641/1653980795.py\u001b[0m in \u001b[0;36m<module>\u001b[0;34m\u001b[0m\n\u001b[1;32m      5\u001b[0m             \u001b[0;32mfor\u001b[0m \u001b[0mletras\u001b[0m \u001b[0;32min\u001b[0m \u001b[0mfilas\u001b[0m\u001b[0;34m:\u001b[0m\u001b[0;34m\u001b[0m\u001b[0;34m\u001b[0m\u001b[0m\n\u001b[1;32m      6\u001b[0m                 \u001b[0;31m#print(fila)\u001b[0m\u001b[0;34m\u001b[0m\u001b[0;34m\u001b[0m\u001b[0m\n\u001b[0;32m----> 7\u001b[0;31m                     \u001b[0;32mif\u001b[0m \u001b[0marray_letras\u001b[0m\u001b[0;34m(\u001b[0m\u001b[0mletras\u001b[0m\u001b[0;34m)\u001b[0m \u001b[0;34m==\u001b[0m \u001b[0;34m\"A\"\u001b[0m\u001b[0;34m:\u001b[0m\u001b[0;34m\u001b[0m\u001b[0;34m\u001b[0m\u001b[0m\n\u001b[0m\u001b[1;32m      8\u001b[0m                        \u001b[0marray_1\u001b[0m\u001b[0;34m[\u001b[0m\u001b[0marray_letras\u001b[0m\u001b[0;34m(\u001b[0m\u001b[0;34m\"A\"\u001b[0m\u001b[0;34m)\u001b[0m\u001b[0;34m]\u001b[0m\u001b[0;34m.\u001b[0m\u001b[0mappend\u001b[0m\u001b[0;34m(\u001b[0m\u001b[0;36m1\u001b[0m\u001b[0;34m,\u001b[0m\u001b[0;34m)\u001b[0m\u001b[0;34m\u001b[0m\u001b[0;34m\u001b[0m\u001b[0m\n\u001b[1;32m      9\u001b[0m                     \u001b[0;32melif\u001b[0m \u001b[0mnp\u001b[0m\u001b[0;34m.\u001b[0m\u001b[0many\u001b[0m\u001b[0;34m(\u001b[0m\u001b[0msubvalue2\u001b[0m \u001b[0;34m==\u001b[0m \u001b[0;34m\"B\"\u001b[0m\u001b[0;34m)\u001b[0m\u001b[0;34m:\u001b[0m\u001b[0;34m\u001b[0m\u001b[0;34m\u001b[0m\u001b[0m\n",
      "\u001b[0;31mTypeError\u001b[0m: 'numpy.ndarray' object is not callable"
     ]
    }
   ],
   "source": [
    "for matriz in array_letras:\n",
    "    #print(letras) \n",
    "    for filas in matriz:\n",
    "            #print(columna)\n",
    "            for letras in filas:\n",
    "                #print(fila)\n",
    "                    if array_letras(letras) == \"A\":\n",
    "                       array_1[array_letras(\"A\")].append(1,)\n",
    "                    elif np.any(subvalue2 == \"B\"):\n",
    "                        unidemnsional.append(1,)\n",
    "                    elif np.any(subvalue2 == \"C\"):\n",
    "                        unidemnsional.append(2,)\n",
    "                    elif np.any(subvalue2 == \"D\"):\n",
    "                        unidemnsional.append(2,)\n",
    "                    else:\n",
    "                        unidemnsional.append(3,)\n"
   ]
  },
  {
   "cell_type": "code",
   "execution_count": 59,
   "metadata": {},
   "outputs": [
    {
     "data": {
      "text/plain": [
       "array([1.        , 1.        , 2.        , 1.        , 2.        ,\n",
       "       0.39093774, 0.0336535 , 0.46264478, 0.68491035, 0.2491607 ,\n",
       "       0.92984855, 0.24130013, 0.38079644, 0.30926805, 0.00678156,\n",
       "       0.82417153, 0.97801406, 0.38460766, 0.20512525, 0.50082044,\n",
       "       0.88519793, 0.74233133, 0.77672805, 0.27783531, 0.86868783,\n",
       "       0.03545535, 0.39874504, 0.53298827, 0.37693497, 0.56949674])"
      ]
     },
     "execution_count": 59,
     "metadata": {},
     "output_type": "execute_result"
    }
   ],
   "source": [
    "array_1"
   ]
  },
  {
   "cell_type": "code",
   "execution_count": 56,
   "metadata": {},
   "outputs": [
    {
     "data": {
      "text/plain": [
       "0.2491607019231078"
      ]
     },
     "execution_count": 56,
     "metadata": {},
     "output_type": "execute_result"
    }
   ],
   "source": [
    "array_1[9]"
   ]
  }
 ],
 "metadata": {
  "kernelspec": {
   "display_name": "Python 3.9.7 ('base')",
   "language": "python",
   "name": "python3"
  },
  "language_info": {
   "codemirror_mode": {
    "name": "ipython",
    "version": 3
   },
   "file_extension": ".py",
   "mimetype": "text/x-python",
   "name": "python",
   "nbconvert_exporter": "python",
   "pygments_lexer": "ipython3",
   "version": "3.9.7"
  },
  "orig_nbformat": 4,
  "vscode": {
   "interpreter": {
    "hash": "651c3b7b3f466eb030aa737f279c846be4db9cba49a2f229278cab5e41121ed5"
   }
  }
 },
 "nbformat": 4,
 "nbformat_minor": 2
}
