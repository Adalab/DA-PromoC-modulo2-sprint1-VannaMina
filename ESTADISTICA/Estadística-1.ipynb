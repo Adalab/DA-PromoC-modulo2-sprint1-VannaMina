{
 "cells": [
  {
   "cell_type": "markdown",
   "metadata": {},
   "source": [
    "    Para todas los ejercicios de pair programming de Estadística I, II y III usaremos el dataframe que se tome para el desarrollo de este ejercicio de pair programming."
   ]
  },
  {
   "cell_type": "code",
   "execution_count": 1,
   "metadata": {},
   "outputs": [],
   "source": [
    "import numpy as np\n",
    "from scipy import stats \n",
    "import seaborn as sns\n",
    "import pandas as pd\n",
    "import matplotlib.pyplot as plt\n"
   ]
  },
  {
   "cell_type": "markdown",
   "metadata": {},
   "source": [
    "## Objectivos"
   ]
  },
  {
   "cell_type": "markdown",
   "metadata": {
    "tags": []
   },
   "source": [
    "1. Buscar un conjunto de datos a analizar:\n",
    " - Se recomienda que el conjunto de datos a analizar tenga variables numéricas y categóricas. Ya que también se analizarán."
   ]
  },
  {
   "cell_type": "code",
   "execution_count": 2,
   "metadata": {},
   "outputs": [
    {
     "data": {
      "text/html": [
       "<div>\n",
       "<style scoped>\n",
       "    .dataframe tbody tr th:only-of-type {\n",
       "        vertical-align: middle;\n",
       "    }\n",
       "\n",
       "    .dataframe tbody tr th {\n",
       "        vertical-align: top;\n",
       "    }\n",
       "\n",
       "    .dataframe thead th {\n",
       "        text-align: right;\n",
       "    }\n",
       "</style>\n",
       "<table border=\"1\" class=\"dataframe\">\n",
       "  <thead>\n",
       "    <tr style=\"text-align: right;\">\n",
       "      <th></th>\n",
       "      <th>Unnamed: 0</th>\n",
       "      <th>city</th>\n",
       "      <th>country</th>\n",
       "      <th>x1</th>\n",
       "      <th>x2</th>\n",
       "      <th>x3</th>\n",
       "      <th>x4</th>\n",
       "      <th>x5</th>\n",
       "      <th>x6</th>\n",
       "      <th>x7</th>\n",
       "      <th>...</th>\n",
       "      <th>x47</th>\n",
       "      <th>x48</th>\n",
       "      <th>x49</th>\n",
       "      <th>x50</th>\n",
       "      <th>x51</th>\n",
       "      <th>x52</th>\n",
       "      <th>x53</th>\n",
       "      <th>x54</th>\n",
       "      <th>x55</th>\n",
       "      <th>data_quality</th>\n",
       "    </tr>\n",
       "  </thead>\n",
       "  <tbody>\n",
       "    <tr>\n",
       "      <th>1365</th>\n",
       "      <td>1365</td>\n",
       "      <td>Brahmanbaria</td>\n",
       "      <td>Bangladesh</td>\n",
       "      <td>1.87</td>\n",
       "      <td>5.62</td>\n",
       "      <td>3.75</td>\n",
       "      <td>4.68</td>\n",
       "      <td>3.75</td>\n",
       "      <td>1.40</td>\n",
       "      <td>0.33</td>\n",
       "      <td>...</td>\n",
       "      <td>32.77</td>\n",
       "      <td>NaN</td>\n",
       "      <td>51.70</td>\n",
       "      <td>76.05</td>\n",
       "      <td>60.45</td>\n",
       "      <td>NaN</td>\n",
       "      <td>NaN</td>\n",
       "      <td>97.30</td>\n",
       "      <td>12.00</td>\n",
       "      <td>0</td>\n",
       "    </tr>\n",
       "    <tr>\n",
       "      <th>1112</th>\n",
       "      <td>1112</td>\n",
       "      <td>Rahimyar Khan</td>\n",
       "      <td>Pakistan</td>\n",
       "      <td>1.11</td>\n",
       "      <td>5.35</td>\n",
       "      <td>2.90</td>\n",
       "      <td>NaN</td>\n",
       "      <td>NaN</td>\n",
       "      <td>1.56</td>\n",
       "      <td>0.18</td>\n",
       "      <td>...</td>\n",
       "      <td>13.37</td>\n",
       "      <td>44.55</td>\n",
       "      <td>22.28</td>\n",
       "      <td>89.10</td>\n",
       "      <td>66.83</td>\n",
       "      <td>1184.41</td>\n",
       "      <td>942.09</td>\n",
       "      <td>153.15</td>\n",
       "      <td>9.50</td>\n",
       "      <td>0</td>\n",
       "    </tr>\n",
       "    <tr>\n",
       "      <th>7</th>\n",
       "      <td>7</td>\n",
       "      <td>Guangzhou</td>\n",
       "      <td>China</td>\n",
       "      <td>4.05</td>\n",
       "      <td>27.94</td>\n",
       "      <td>4.89</td>\n",
       "      <td>0.84</td>\n",
       "      <td>1.68</td>\n",
       "      <td>3.41</td>\n",
       "      <td>0.44</td>\n",
       "      <td>...</td>\n",
       "      <td>46.25</td>\n",
       "      <td>523.26</td>\n",
       "      <td>311.48</td>\n",
       "      <td>1218.89</td>\n",
       "      <td>675.11</td>\n",
       "      <td>12650.42</td>\n",
       "      <td>5325.41</td>\n",
       "      <td>1189.07</td>\n",
       "      <td>5.11</td>\n",
       "      <td>1</td>\n",
       "    </tr>\n",
       "    <tr>\n",
       "      <th>4312</th>\n",
       "      <td>4312</td>\n",
       "      <td>Bermejo</td>\n",
       "      <td>Bolivia</td>\n",
       "      <td>1.45</td>\n",
       "      <td>10.12</td>\n",
       "      <td>4.34</td>\n",
       "      <td>2.60</td>\n",
       "      <td>1.45</td>\n",
       "      <td>0.72</td>\n",
       "      <td>0.58</td>\n",
       "      <td>...</td>\n",
       "      <td>21.69</td>\n",
       "      <td>NaN</td>\n",
       "      <td>NaN</td>\n",
       "      <td>NaN</td>\n",
       "      <td>433.78</td>\n",
       "      <td>NaN</td>\n",
       "      <td>NaN</td>\n",
       "      <td>NaN</td>\n",
       "      <td>5.50</td>\n",
       "      <td>0</td>\n",
       "    </tr>\n",
       "    <tr>\n",
       "      <th>862</th>\n",
       "      <td>862</td>\n",
       "      <td>Joinvile</td>\n",
       "      <td>Brazil</td>\n",
       "      <td>5.12</td>\n",
       "      <td>26.09</td>\n",
       "      <td>5.59</td>\n",
       "      <td>2.05</td>\n",
       "      <td>3.73</td>\n",
       "      <td>1.75</td>\n",
       "      <td>0.97</td>\n",
       "      <td>...</td>\n",
       "      <td>56.92</td>\n",
       "      <td>251.56</td>\n",
       "      <td>181.68</td>\n",
       "      <td>428.58</td>\n",
       "      <td>350.31</td>\n",
       "      <td>1016.97</td>\n",
       "      <td>894.86</td>\n",
       "      <td>304.66</td>\n",
       "      <td>10.11</td>\n",
       "      <td>1</td>\n",
       "    </tr>\n",
       "    <tr>\n",
       "      <th>2146</th>\n",
       "      <td>2146</td>\n",
       "      <td>Jinotega</td>\n",
       "      <td>Nicaragua</td>\n",
       "      <td>3.63</td>\n",
       "      <td>16.20</td>\n",
       "      <td>4.19</td>\n",
       "      <td>1.25</td>\n",
       "      <td>1.82</td>\n",
       "      <td>1.17</td>\n",
       "      <td>0.65</td>\n",
       "      <td>...</td>\n",
       "      <td>53.05</td>\n",
       "      <td>100.00</td>\n",
       "      <td>80.00</td>\n",
       "      <td>180.00</td>\n",
       "      <td>150.00</td>\n",
       "      <td>1300.00</td>\n",
       "      <td>1000.00</td>\n",
       "      <td>279.25</td>\n",
       "      <td>NaN</td>\n",
       "      <td>0</td>\n",
       "    </tr>\n",
       "    <tr>\n",
       "      <th>1803</th>\n",
       "      <td>1803</td>\n",
       "      <td>Split</td>\n",
       "      <td>Croatia</td>\n",
       "      <td>8.94</td>\n",
       "      <td>41.27</td>\n",
       "      <td>5.92</td>\n",
       "      <td>2.75</td>\n",
       "      <td>2.75</td>\n",
       "      <td>1.82</td>\n",
       "      <td>2.20</td>\n",
       "      <td>...</td>\n",
       "      <td>90.27</td>\n",
       "      <td>487.70</td>\n",
       "      <td>355.96</td>\n",
       "      <td>819.93</td>\n",
       "      <td>613.72</td>\n",
       "      <td>3761.67</td>\n",
       "      <td>2845.34</td>\n",
       "      <td>943.57</td>\n",
       "      <td>2.89</td>\n",
       "      <td>1</td>\n",
       "    </tr>\n",
       "    <tr>\n",
       "      <th>1265</th>\n",
       "      <td>1265</td>\n",
       "      <td>Al Kharj</td>\n",
       "      <td>Saudi Arabia</td>\n",
       "      <td>4.66</td>\n",
       "      <td>27.94</td>\n",
       "      <td>5.06</td>\n",
       "      <td>1.20</td>\n",
       "      <td>1.33</td>\n",
       "      <td>2.93</td>\n",
       "      <td>0.75</td>\n",
       "      <td>...</td>\n",
       "      <td>93.14</td>\n",
       "      <td>443.59</td>\n",
       "      <td>NaN</td>\n",
       "      <td>NaN</td>\n",
       "      <td>NaN</td>\n",
       "      <td>399.15</td>\n",
       "      <td>NaN</td>\n",
       "      <td>2445.73</td>\n",
       "      <td>4.60</td>\n",
       "      <td>0</td>\n",
       "    </tr>\n",
       "    <tr>\n",
       "      <th>4443</th>\n",
       "      <td>4443</td>\n",
       "      <td>San Rafael del Sur</td>\n",
       "      <td>Nicaragua</td>\n",
       "      <td>3.00</td>\n",
       "      <td>NaN</td>\n",
       "      <td>6.00</td>\n",
       "      <td>1.50</td>\n",
       "      <td>2.25</td>\n",
       "      <td>3.00</td>\n",
       "      <td>0.70</td>\n",
       "      <td>...</td>\n",
       "      <td>80.00</td>\n",
       "      <td>NaN</td>\n",
       "      <td>NaN</td>\n",
       "      <td>NaN</td>\n",
       "      <td>NaN</td>\n",
       "      <td>NaN</td>\n",
       "      <td>NaN</td>\n",
       "      <td>NaN</td>\n",
       "      <td>22.00</td>\n",
       "      <td>0</td>\n",
       "    </tr>\n",
       "    <tr>\n",
       "      <th>1606</th>\n",
       "      <td>1606</td>\n",
       "      <td>Erfurt</td>\n",
       "      <td>Germany</td>\n",
       "      <td>9.87</td>\n",
       "      <td>41.55</td>\n",
       "      <td>9.86</td>\n",
       "      <td>3.69</td>\n",
       "      <td>3.12</td>\n",
       "      <td>2.98</td>\n",
       "      <td>2.18</td>\n",
       "      <td>...</td>\n",
       "      <td>173.98</td>\n",
       "      <td>571.28</td>\n",
       "      <td>431.06</td>\n",
       "      <td>1194.50</td>\n",
       "      <td>796.33</td>\n",
       "      <td>4102.85</td>\n",
       "      <td>3079.74</td>\n",
       "      <td>2672.57</td>\n",
       "      <td>2.53</td>\n",
       "      <td>0</td>\n",
       "    </tr>\n",
       "  </tbody>\n",
       "</table>\n",
       "<p>10 rows × 59 columns</p>\n",
       "</div>"
      ],
      "text/plain": [
       "      Unnamed: 0                city       country    x1     x2    x3    x4  \\\n",
       "1365        1365        Brahmanbaria    Bangladesh  1.87   5.62  3.75  4.68   \n",
       "1112        1112       Rahimyar Khan      Pakistan  1.11   5.35  2.90   NaN   \n",
       "7              7           Guangzhou         China  4.05  27.94  4.89  0.84   \n",
       "4312        4312             Bermejo       Bolivia  1.45  10.12  4.34  2.60   \n",
       "862          862            Joinvile        Brazil  5.12  26.09  5.59  2.05   \n",
       "2146        2146            Jinotega     Nicaragua  3.63  16.20  4.19  1.25   \n",
       "1803        1803               Split       Croatia  8.94  41.27  5.92  2.75   \n",
       "1265        1265            Al Kharj  Saudi Arabia  4.66  27.94  5.06  1.20   \n",
       "4443        4443  San Rafael del Sur     Nicaragua  3.00    NaN  6.00  1.50   \n",
       "1606        1606              Erfurt       Germany  9.87  41.55  9.86  3.69   \n",
       "\n",
       "        x5    x6    x7  ...     x47     x48     x49      x50     x51  \\\n",
       "1365  3.75  1.40  0.33  ...   32.77     NaN   51.70    76.05   60.45   \n",
       "1112   NaN  1.56  0.18  ...   13.37   44.55   22.28    89.10   66.83   \n",
       "7     1.68  3.41  0.44  ...   46.25  523.26  311.48  1218.89  675.11   \n",
       "4312  1.45  0.72  0.58  ...   21.69     NaN     NaN      NaN  433.78   \n",
       "862   3.73  1.75  0.97  ...   56.92  251.56  181.68   428.58  350.31   \n",
       "2146  1.82  1.17  0.65  ...   53.05  100.00   80.00   180.00  150.00   \n",
       "1803  2.75  1.82  2.20  ...   90.27  487.70  355.96   819.93  613.72   \n",
       "1265  1.33  2.93  0.75  ...   93.14  443.59     NaN      NaN     NaN   \n",
       "4443  2.25  3.00  0.70  ...   80.00     NaN     NaN      NaN     NaN   \n",
       "1606  3.12  2.98  2.18  ...  173.98  571.28  431.06  1194.50  796.33   \n",
       "\n",
       "           x52      x53      x54    x55  data_quality  \n",
       "1365       NaN      NaN    97.30  12.00             0  \n",
       "1112   1184.41   942.09   153.15   9.50             0  \n",
       "7     12650.42  5325.41  1189.07   5.11             1  \n",
       "4312       NaN      NaN      NaN   5.50             0  \n",
       "862    1016.97   894.86   304.66  10.11             1  \n",
       "2146   1300.00  1000.00   279.25    NaN             0  \n",
       "1803   3761.67  2845.34   943.57   2.89             1  \n",
       "1265    399.15      NaN  2445.73   4.60             0  \n",
       "4443       NaN      NaN      NaN  22.00             0  \n",
       "1606   4102.85  3079.74  2672.57   2.53             0  \n",
       "\n",
       "[10 rows x 59 columns]"
      ]
     },
     "execution_count": 2,
     "metadata": {},
     "output_type": "execute_result"
    }
   ],
   "source": [
    "fichero = pd.read_csv(\"archive/cost-of-living.csv\")\n",
    "fichero.sample(10)"
   ]
  },
  {
   "cell_type": "code",
   "execution_count": 3,
   "metadata": {},
   "outputs": [
    {
     "name": "stdout",
     "output_type": "stream",
     "text": [
      "<class 'pandas.core.frame.DataFrame'>\n",
      "RangeIndex: 4874 entries, 0 to 4873\n",
      "Data columns (total 59 columns):\n",
      " #   Column        Non-Null Count  Dtype  \n",
      "---  ------        --------------  -----  \n",
      " 0   Unnamed: 0    4874 non-null   int64  \n",
      " 1   city          4874 non-null   object \n",
      " 2   country       4874 non-null   object \n",
      " 3   x1            4449 non-null   float64\n",
      " 4   x2            4432 non-null   float64\n",
      " 5   x3            4552 non-null   float64\n",
      " 6   x4            4385 non-null   float64\n",
      " 7   x5            4445 non-null   float64\n",
      " 8   x6            4540 non-null   float64\n",
      " 9   x7            4438 non-null   float64\n",
      " 10  x8            4571 non-null   float64\n",
      " 11  x9            4494 non-null   float64\n",
      " 12  x10           4457 non-null   float64\n",
      " 13  x11           4538 non-null   float64\n",
      " 14  x12           4369 non-null   float64\n",
      " 15  x13           4393 non-null   float64\n",
      " 16  x14           4318 non-null   float64\n",
      " 17  x15           4312 non-null   float64\n",
      " 18  x16           4509 non-null   float64\n",
      " 19  x17           4499 non-null   float64\n",
      " 20  x18           4439 non-null   float64\n",
      " 21  x19           4410 non-null   float64\n",
      " 22  x20           4444 non-null   float64\n",
      " 23  x21           4447 non-null   float64\n",
      " 24  x22           4379 non-null   float64\n",
      " 25  x23           4490 non-null   float64\n",
      " 26  x24           4414 non-null   float64\n",
      " 27  x25           4149 non-null   float64\n",
      " 28  x26           4223 non-null   float64\n",
      " 29  x27           4389 non-null   float64\n",
      " 30  x28           3401 non-null   float64\n",
      " 31  x29           2750 non-null   float64\n",
      " 32  x30           4013 non-null   float64\n",
      " 33  x31           3869 non-null   float64\n",
      " 34  x32           3506 non-null   float64\n",
      " 35  x33           4296 non-null   float64\n",
      " 36  x34           3839 non-null   float64\n",
      " 37  x35           3904 non-null   float64\n",
      " 38  x36           4400 non-null   float64\n",
      " 39  x37           3702 non-null   float64\n",
      " 40  x38           4534 non-null   float64\n",
      " 41  x39           3523 non-null   float64\n",
      " 42  x40           2508 non-null   float64\n",
      " 43  x41           4405 non-null   float64\n",
      " 44  x42           3761 non-null   float64\n",
      " 45  x43           3230 non-null   float64\n",
      " 46  x44           4413 non-null   float64\n",
      " 47  x45           4273 non-null   float64\n",
      " 48  x46           4388 non-null   float64\n",
      " 49  x47           4337 non-null   float64\n",
      " 50  x48           3533 non-null   float64\n",
      " 51  x49           3465 non-null   float64\n",
      " 52  x50           3418 non-null   float64\n",
      " 53  x51           3385 non-null   float64\n",
      " 54  x52           2681 non-null   float64\n",
      " 55  x53           2609 non-null   float64\n",
      " 56  x54           3459 non-null   float64\n",
      " 57  x55           3894 non-null   float64\n",
      " 58  data_quality  4874 non-null   int64  \n",
      "dtypes: float64(55), int64(2), object(2)\n",
      "memory usage: 2.2+ MB\n"
     ]
    }
   ],
   "source": [
    "fichero.info()\n",
    "#para ver la tipologia de datos, la mayoria son float, menos city y country que son objects."
   ]
  },
  {
   "cell_type": "code",
   "execution_count": 4,
   "metadata": {},
   "outputs": [
    {
     "data": {
      "text/plain": [
       "(4874, 59)"
      ]
     },
     "execution_count": 4,
     "metadata": {},
     "output_type": "execute_result"
    }
   ],
   "source": [
    "fichero.shape\n",
    "#tenemos 4874 filas / entradas y 59 columnas."
   ]
  },
  {
   "cell_type": "code",
   "execution_count": 5,
   "metadata": {},
   "outputs": [
    {
     "data": {
      "text/plain": [
       "Victoria     4\n",
       "Hamilton     3\n",
       "Toledo       3\n",
       "Salamanca    3\n",
       "Cordoba      3\n",
       "            ..\n",
       "Green Bay    1\n",
       "Kharagpur    1\n",
       "Waitakere    1\n",
       "Fargo        1\n",
       "Neiafu       1\n",
       "Name: city, Length: 4816, dtype: int64"
      ]
     },
     "execution_count": 5,
     "metadata": {},
     "output_type": "execute_result"
    }
   ],
   "source": [
    "fichero[\"city\"].value_counts()\n",
    "#Miramos el value count porque queremos intender que es cada entry.\n",
    "#La conclusion despues de haber mirado el fichero es que cada entry es la respuesta de una persona.\n",
    "#Tambien hemos averiguado en la pagina web https://www.numbeo.com/cost-of-living/"
   ]
  },
  {
   "cell_type": "code",
   "execution_count": 6,
   "metadata": {},
   "outputs": [
    {
     "data": {
      "text/plain": [
       "Unnamed: 0         0\n",
       "city               0\n",
       "country            0\n",
       "x1               425\n",
       "x2               442\n",
       "x3               322\n",
       "x4               489\n",
       "x5               429\n",
       "x6               334\n",
       "x7               436\n",
       "x8               303\n",
       "x9               380\n",
       "x10              417\n",
       "x11              336\n",
       "x12              505\n",
       "x13              481\n",
       "x14              556\n",
       "x15              562\n",
       "x16              365\n",
       "x17              375\n",
       "x18              435\n",
       "x19              464\n",
       "x20              430\n",
       "x21              427\n",
       "x22              495\n",
       "x23              384\n",
       "x24              460\n",
       "x25              725\n",
       "x26              651\n",
       "x27              485\n",
       "x28             1473\n",
       "x29             2124\n",
       "x30              861\n",
       "x31             1005\n",
       "x32             1368\n",
       "x33              578\n",
       "x34             1035\n",
       "x35              970\n",
       "x36              474\n",
       "x37             1172\n",
       "x38              340\n",
       "x39             1351\n",
       "x40             2366\n",
       "x41              469\n",
       "x42             1113\n",
       "x43             1644\n",
       "x44              461\n",
       "x45              601\n",
       "x46              486\n",
       "x47              537\n",
       "x48             1341\n",
       "x49             1409\n",
       "x50             1456\n",
       "x51             1489\n",
       "x52             2193\n",
       "x53             2265\n",
       "x54             1415\n",
       "x55              980\n",
       "data_quality       0\n",
       "dtype: int64"
      ]
     },
     "execution_count": 6,
     "metadata": {},
     "output_type": "execute_result"
    }
   ],
   "source": [
    "fichero.isnull().sum()\n",
    "#Aqui hemos averiguado los nulos y nos hemos dado cuenta que hay muchos nulos\n",
    "# en la categorias de ocio por ejemplo (tennis court, Gym, etc.) o de la compra de un piso.\n",
    "# y asumimos que no todas la personas tienen la misma capacidad economica para\n",
    "#comprar un piso o que tengan los mismo gusto de ocio.\n"
   ]
  },
  {
   "cell_type": "code",
   "execution_count": 7,
   "metadata": {},
   "outputs": [
    {
     "data": {
      "text/plain": [
       "0"
      ]
     },
     "execution_count": 7,
     "metadata": {},
     "output_type": "execute_result"
    }
   ],
   "source": [
    "fichero.duplicated().sum()\n",
    "#no hay duplicados"
   ]
  },
  {
   "cell_type": "code",
   "execution_count": 8,
   "metadata": {},
   "outputs": [
    {
     "data": {
      "text/html": [
       "<div>\n",
       "<style scoped>\n",
       "    .dataframe tbody tr th:only-of-type {\n",
       "        vertical-align: middle;\n",
       "    }\n",
       "\n",
       "    .dataframe tbody tr th {\n",
       "        vertical-align: top;\n",
       "    }\n",
       "\n",
       "    .dataframe thead th {\n",
       "        text-align: right;\n",
       "    }\n",
       "</style>\n",
       "<table border=\"1\" class=\"dataframe\">\n",
       "  <thead>\n",
       "    <tr style=\"text-align: right;\">\n",
       "      <th></th>\n",
       "      <th>Unnamed: 0</th>\n",
       "      <th>x1</th>\n",
       "      <th>x2</th>\n",
       "      <th>x3</th>\n",
       "      <th>x4</th>\n",
       "      <th>x5</th>\n",
       "      <th>x6</th>\n",
       "      <th>x7</th>\n",
       "      <th>x8</th>\n",
       "      <th>x9</th>\n",
       "      <th>...</th>\n",
       "      <th>x47</th>\n",
       "      <th>x48</th>\n",
       "      <th>x49</th>\n",
       "      <th>x50</th>\n",
       "      <th>x51</th>\n",
       "      <th>x52</th>\n",
       "      <th>x53</th>\n",
       "      <th>x54</th>\n",
       "      <th>x55</th>\n",
       "      <th>data_quality</th>\n",
       "    </tr>\n",
       "  </thead>\n",
       "  <tbody>\n",
       "    <tr>\n",
       "      <th>count</th>\n",
       "      <td>4874.000000</td>\n",
       "      <td>4449.000000</td>\n",
       "      <td>4432.000000</td>\n",
       "      <td>4552.000000</td>\n",
       "      <td>4385.000000</td>\n",
       "      <td>4445.000000</td>\n",
       "      <td>4540.000000</td>\n",
       "      <td>4438.000000</td>\n",
       "      <td>4571.000000</td>\n",
       "      <td>4494.000000</td>\n",
       "      <td>...</td>\n",
       "      <td>4337.000000</td>\n",
       "      <td>3533.000000</td>\n",
       "      <td>3465.000000</td>\n",
       "      <td>3418.000000</td>\n",
       "      <td>3385.000000</td>\n",
       "      <td>2681.000000</td>\n",
       "      <td>2609.000000</td>\n",
       "      <td>3459.000000</td>\n",
       "      <td>3894.000000</td>\n",
       "      <td>4874.000000</td>\n",
       "    </tr>\n",
       "    <tr>\n",
       "      <th>mean</th>\n",
       "      <td>2436.500000</td>\n",
       "      <td>10.321643</td>\n",
       "      <td>43.213592</td>\n",
       "      <td>6.875426</td>\n",
       "      <td>3.376732</td>\n",
       "      <td>3.937287</td>\n",
       "      <td>2.742822</td>\n",
       "      <td>1.513053</td>\n",
       "      <td>1.110768</td>\n",
       "      <td>1.139455</td>\n",
       "      <td>...</td>\n",
       "      <td>85.420108</td>\n",
       "      <td>710.696156</td>\n",
       "      <td>559.472898</td>\n",
       "      <td>1252.427627</td>\n",
       "      <td>973.603867</td>\n",
       "      <td>3207.173025</td>\n",
       "      <td>2323.089766</td>\n",
       "      <td>1817.033501</td>\n",
       "      <td>6.527214</td>\n",
       "      <td>0.186705</td>\n",
       "    </tr>\n",
       "    <tr>\n",
       "      <th>std</th>\n",
       "      <td>1407.146936</td>\n",
       "      <td>7.165507</td>\n",
       "      <td>25.365827</td>\n",
       "      <td>2.669017</td>\n",
       "      <td>2.080606</td>\n",
       "      <td>2.088773</td>\n",
       "      <td>1.353734</td>\n",
       "      <td>0.905525</td>\n",
       "      <td>0.749957</td>\n",
       "      <td>0.513458</td>\n",
       "      <td>...</td>\n",
       "      <td>40.328050</td>\n",
       "      <td>650.404203</td>\n",
       "      <td>529.592777</td>\n",
       "      <td>1222.803640</td>\n",
       "      <td>926.552107</td>\n",
       "      <td>6222.564176</td>\n",
       "      <td>3536.720519</td>\n",
       "      <td>1626.482870</td>\n",
       "      <td>5.423472</td>\n",
       "      <td>0.389714</td>\n",
       "    </tr>\n",
       "    <tr>\n",
       "      <th>min</th>\n",
       "      <td>0.000000</td>\n",
       "      <td>0.450000</td>\n",
       "      <td>3.250000</td>\n",
       "      <td>1.060000</td>\n",
       "      <td>0.320000</td>\n",
       "      <td>0.310000</td>\n",
       "      <td>0.220000</td>\n",
       "      <td>0.110000</td>\n",
       "      <td>0.070000</td>\n",
       "      <td>0.260000</td>\n",
       "      <td>...</td>\n",
       "      <td>7.570000</td>\n",
       "      <td>21.690000</td>\n",
       "      <td>12.200000</td>\n",
       "      <td>61.200000</td>\n",
       "      <td>27.110000</td>\n",
       "      <td>109.530000</td>\n",
       "      <td>48.010000</td>\n",
       "      <td>18.000000</td>\n",
       "      <td>0.600000</td>\n",
       "      <td>0.000000</td>\n",
       "    </tr>\n",
       "    <tr>\n",
       "      <th>25%</th>\n",
       "      <td>1218.250000</td>\n",
       "      <td>4.310000</td>\n",
       "      <td>22.350000</td>\n",
       "      <td>4.910000</td>\n",
       "      <td>1.590000</td>\n",
       "      <td>2.220000</td>\n",
       "      <td>1.560000</td>\n",
       "      <td>0.750000</td>\n",
       "      <td>0.470000</td>\n",
       "      <td>0.820000</td>\n",
       "      <td>...</td>\n",
       "      <td>57.620000</td>\n",
       "      <td>254.440000</td>\n",
       "      <td>168.970000</td>\n",
       "      <td>465.720000</td>\n",
       "      <td>325.920000</td>\n",
       "      <td>1118.030000</td>\n",
       "      <td>778.890000</td>\n",
       "      <td>478.255000</td>\n",
       "      <td>3.000000</td>\n",
       "      <td>0.000000</td>\n",
       "    </tr>\n",
       "    <tr>\n",
       "      <th>50%</th>\n",
       "      <td>2436.500000</td>\n",
       "      <td>9.830000</td>\n",
       "      <td>40.000000</td>\n",
       "      <td>6.960000</td>\n",
       "      <td>3.000000</td>\n",
       "      <td>3.640000</td>\n",
       "      <td>2.630000</td>\n",
       "      <td>1.450000</td>\n",
       "      <td>1.040000</td>\n",
       "      <td>1.040000</td>\n",
       "      <td>...</td>\n",
       "      <td>83.100000</td>\n",
       "      <td>519.350000</td>\n",
       "      <td>400.000000</td>\n",
       "      <td>934.000000</td>\n",
       "      <td>720.710000</td>\n",
       "      <td>2077.390000</td>\n",
       "      <td>1558.040000</td>\n",
       "      <td>1298.370000</td>\n",
       "      <td>5.210000</td>\n",
       "      <td>0.000000</td>\n",
       "    </tr>\n",
       "    <tr>\n",
       "      <th>75%</th>\n",
       "      <td>3654.750000</td>\n",
       "      <td>15.000000</td>\n",
       "      <td>60.000000</td>\n",
       "      <td>8.500000</td>\n",
       "      <td>5.000000</td>\n",
       "      <td>5.190000</td>\n",
       "      <td>3.722500</td>\n",
       "      <td>2.080000</td>\n",
       "      <td>1.570000</td>\n",
       "      <td>1.300000</td>\n",
       "      <td>...</td>\n",
       "      <td>106.670000</td>\n",
       "      <td>986.760000</td>\n",
       "      <td>791.670000</td>\n",
       "      <td>1700.000000</td>\n",
       "      <td>1367.330000</td>\n",
       "      <td>3782.820000</td>\n",
       "      <td>2796.500000</td>\n",
       "      <td>2742.500000</td>\n",
       "      <td>8.497500</td>\n",
       "      <td>0.000000</td>\n",
       "    </tr>\n",
       "    <tr>\n",
       "      <th>max</th>\n",
       "      <td>4873.000000</td>\n",
       "      <td>56.980000</td>\n",
       "      <td>211.350000</td>\n",
       "      <td>21.810000</td>\n",
       "      <td>15.000000</td>\n",
       "      <td>17.500000</td>\n",
       "      <td>10.000000</td>\n",
       "      <td>8.000000</td>\n",
       "      <td>5.770000</td>\n",
       "      <td>6.810000</td>\n",
       "      <td>...</td>\n",
       "      <td>542.740000</td>\n",
       "      <td>12608.830000</td>\n",
       "      <td>8989.370000</td>\n",
       "      <td>27006.110000</td>\n",
       "      <td>17868.180000</td>\n",
       "      <td>237522.540000</td>\n",
       "      <td>79174.180000</td>\n",
       "      <td>12681.260000</td>\n",
       "      <td>61.330000</td>\n",
       "      <td>1.000000</td>\n",
       "    </tr>\n",
       "  </tbody>\n",
       "</table>\n",
       "<p>8 rows × 57 columns</p>\n",
       "</div>"
      ],
      "text/plain": [
       "        Unnamed: 0           x1           x2           x3           x4  \\\n",
       "count  4874.000000  4449.000000  4432.000000  4552.000000  4385.000000   \n",
       "mean   2436.500000    10.321643    43.213592     6.875426     3.376732   \n",
       "std    1407.146936     7.165507    25.365827     2.669017     2.080606   \n",
       "min       0.000000     0.450000     3.250000     1.060000     0.320000   \n",
       "25%    1218.250000     4.310000    22.350000     4.910000     1.590000   \n",
       "50%    2436.500000     9.830000    40.000000     6.960000     3.000000   \n",
       "75%    3654.750000    15.000000    60.000000     8.500000     5.000000   \n",
       "max    4873.000000    56.980000   211.350000    21.810000    15.000000   \n",
       "\n",
       "                x5           x6           x7           x8           x9  ...  \\\n",
       "count  4445.000000  4540.000000  4438.000000  4571.000000  4494.000000  ...   \n",
       "mean      3.937287     2.742822     1.513053     1.110768     1.139455  ...   \n",
       "std       2.088773     1.353734     0.905525     0.749957     0.513458  ...   \n",
       "min       0.310000     0.220000     0.110000     0.070000     0.260000  ...   \n",
       "25%       2.220000     1.560000     0.750000     0.470000     0.820000  ...   \n",
       "50%       3.640000     2.630000     1.450000     1.040000     1.040000  ...   \n",
       "75%       5.190000     3.722500     2.080000     1.570000     1.300000  ...   \n",
       "max      17.500000    10.000000     8.000000     5.770000     6.810000  ...   \n",
       "\n",
       "               x47           x48          x49           x50           x51  \\\n",
       "count  4337.000000   3533.000000  3465.000000   3418.000000   3385.000000   \n",
       "mean     85.420108    710.696156   559.472898   1252.427627    973.603867   \n",
       "std      40.328050    650.404203   529.592777   1222.803640    926.552107   \n",
       "min       7.570000     21.690000    12.200000     61.200000     27.110000   \n",
       "25%      57.620000    254.440000   168.970000    465.720000    325.920000   \n",
       "50%      83.100000    519.350000   400.000000    934.000000    720.710000   \n",
       "75%     106.670000    986.760000   791.670000   1700.000000   1367.330000   \n",
       "max     542.740000  12608.830000  8989.370000  27006.110000  17868.180000   \n",
       "\n",
       "                 x52           x53           x54          x55  data_quality  \n",
       "count    2681.000000   2609.000000   3459.000000  3894.000000   4874.000000  \n",
       "mean     3207.173025   2323.089766   1817.033501     6.527214      0.186705  \n",
       "std      6222.564176   3536.720519   1626.482870     5.423472      0.389714  \n",
       "min       109.530000     48.010000     18.000000     0.600000      0.000000  \n",
       "25%      1118.030000    778.890000    478.255000     3.000000      0.000000  \n",
       "50%      2077.390000   1558.040000   1298.370000     5.210000      0.000000  \n",
       "75%      3782.820000   2796.500000   2742.500000     8.497500      0.000000  \n",
       "max    237522.540000  79174.180000  12681.260000    61.330000      1.000000  \n",
       "\n",
       "[8 rows x 57 columns]"
      ]
     },
     "execution_count": 8,
     "metadata": {},
     "output_type": "execute_result"
    }
   ],
   "source": [
    "fichero.describe()\n",
    "#el describe nos devuelve los principales estadisticos de la tabla."
   ]
  },
  {
   "cell_type": "markdown",
   "metadata": {},
   "source": [
    "# Añadimos la leyenda del significado de las columnas\n",
    "\n",
    "- city\tName of the city\n",
    "- country\tName of the country\n",
    "- x1\tMeal, Inexpensive Restaurant (USD)\n",
    "- x2\tMeal for 2 People, Mid-range Restaurant, Three-course (USD)\n",
    "- x3\tMcMeal at McDonalds (or Equivalent Combo Meal) (USD)\n",
    "- x4\tDomestic Beer (0.5 liter draught, in restaurants) (USD)\n",
    "- x5\tImported Beer (0.33 liter bottle, in restaurants) (USD)\n",
    "- x6\tCappuccino (regular, in restaurants) (USD)\n",
    "- x7\tCoke/Pepsi (0.33 liter bottle, in restaurants) (USD)\n",
    "- x8\tWater (0.33 liter bottle, in restaurants) (USD)\n",
    "- x9\tMilk (regular), (1 liter) (USD)\n",
    "- x10\tLoaf of Fresh White Bread (500g) (USD)\n",
    "- x11\tRice (white), (1kg) (USD)\n",
    "- x12\tEggs (regular) (12) (USD)\n",
    "- x13\tLocal Cheese (1kg) (USD)\n",
    "- x14\tChicken Fillets (1kg) (USD)\n",
    "- x15\tBeef Round (1kg) (or Equivalent Back Leg Red Meat) (USD)\n",
    "- x16\tApples (1kg) (USD)\n",
    "- x17\tBanana (1kg) (USD)\n",
    "- x18\tOranges (1kg) (USD)\n",
    "- x19\tTomato (1kg) (USD)\n",
    "- x20\tPotato (1kg) (USD)\n",
    "- x21\tOnion (1kg) (USD)\n",
    "- x22\tLettuce (1 head) (USD)\n",
    "- x23\tWater (1.5 liter bottle, at the market) (USD)\n",
    "- x24\tBottle of Wine (Mid-Range, at the market) (USD)\n",
    "- x25\tDomestic Beer (0.5 liter bottle, at the market) (USD)\n",
    "- x26\tImported Beer (0.33 liter bottle, at the market) (USD)\n",
    "- x27\tCigarettes 20 Pack (Marlboro) (USD)\n",
    "- x28\tOne-way Ticket (Local Transport) (USD)\n",
    "- x29\tMonthly Pass (Regular Price) (USD)\n",
    "- x30\tTaxi Start (Normal Tariff) (USD)\n",
    "- x31\tTaxi 1km (Normal Tariff) (USD)\n",
    "- x32\tTaxi 1hour Waiting (Normal Tariff) (USD)\n",
    "- x33\tGasoline (1 liter) (USD)\n",
    "- x34\tVolkswagen Golf 1.4 90 KW Trendline (Or Equivalent New Car) (USD)\n",
    "- x35\tToyota Corolla Sedan 1.6l 97kW Comfort (Or Equivalent New Car) (USD)\n",
    "- x36\tBasic (Electricity, Heating, Cooling, Water, Garbage) for 85m2 Apartment (USD)\n",
    "- x37\t1 min. of Prepaid Mobile Tariff Local (No Discounts or Plans) (USD)\n",
    "- x38\tInternet (60 Mbps or More, Unlimited Data, Cable/ADSL) (USD)\n",
    "- x39\tFitness Club, Monthly Fee for 1 Adult (USD)\n",
    "- x40\tTennis Court Rent (1 Hour on Weekend) (USD)\n",
    "- x41\tCinema, International Release, 1 Seat (USD)\n",
    "- x42\tPreschool (or Kindergarten), Full Day, Private, Monthly for 1 Child (USD)\n",
    "- x43\tInternational Primary School, Yearly for 1 Child (USD)\n",
    "- x44\t1 Pair of Jeans (Levis 501 Or Similar) (USD)\n",
    "- x45\t1 Summer Dress in a Chain Store (Zara, H&M, …) (USD)\n",
    "- x46\t1 Pair of Nike Running Shoes (Mid-Range) (USD)\n",
    "- x47\t1 Pair of Men Leather Business Shoes (USD)\n",
    "- x48\tApartment (1 bedroom) in City Centre (USD)\n",
    "- x49\tApartment (1 bedroom) Outside of Centre (USD)\n",
    "- x50\tApartment (3 bedrooms) in City Centre (USD)\n",
    "- x51\tApartment (3 bedrooms) Outside of Centre (USD)\n",
    "- x52\tPrice per Square Meter to Buy Apartment in City Centre (USD)\n",
    "- x53\tPrice per Square Meter to Buy Apartment Outside of Centre (USD)\n",
    "- x54\tAverage Monthly Net Salary (After Tax) (USD)\n",
    "- x55\tMortgage Interest Rate in Percentages (%), Yearly, for 20 Years Fixed-Rate\n",
    "- data_quality\t0 if Numbeo considers that more contributors are needed to increase data quality, else 1"
   ]
  },
  {
   "cell_type": "markdown",
   "metadata": {},
   "source": [
    "2. Extraer los siguentes estadísiticos del conjunto de datos para varias de las variables disponibles:\n",
    "- Media\n",
    "- Desviación con respecto de la media\n",
    "- Varianza\n",
    "- Desviación típica\n",
    "- Moda\n",
    "- Mediana\n",
    "- Media ponderada\n",
    "- Robustez\n",
    "- Coeficiente de variación"
   ]
  },
  {
   "attachments": {},
   "cell_type": "markdown",
   "metadata": {},
   "source": [
    "Vamos a basar nuestros ejercicios en la muestra del país de Estados Unidos y sobre la columna de Salario neto:\n",
    "\n",
    "- x54\t= Average Monthly Net Salary (After Tax) (USD)"
   ]
  },
  {
   "cell_type": "code",
   "execution_count": 9,
   "metadata": {},
   "outputs": [
    {
     "data": {
      "text/plain": [
       "United States            1074\n",
       "Italy                     185\n",
       "India                     167\n",
       "Brazil                    166\n",
       "United Kingdom            161\n",
       "                         ... \n",
       "Saint Lucia                 1\n",
       "Sao Tome And Principe       1\n",
       "Vanuatu                     1\n",
       "Bermuda                     1\n",
       "Comoros                     1\n",
       "Name: country, Length: 204, dtype: int64"
      ]
     },
     "execution_count": 9,
     "metadata": {},
     "output_type": "execute_result"
    }
   ],
   "source": [
    "fichero[\"country\"].value_counts()\n",
    "#utilizamos el Value Count para elegir 5 de los paises que tienen mas registros."
   ]
  },
  {
   "cell_type": "code",
   "execution_count": 10,
   "metadata": {},
   "outputs": [],
   "source": [
    "#Filtramos los datos por los paises que tienen más entradas y empezaremos por Estados Unidos.\n",
    "\n",
    "fichero_us = fichero[fichero[\"country\"]== \"United States\"]\n",
    "fichero_it = fichero[fichero[\"country\"]== \"Italy\"]\n",
    "fichero_in = fichero[fichero[\"country\"]== \"India\"]\n",
    "fichero_br = fichero[fichero[\"country\"]== \"Brazil\"]\n",
    "fichero_uk = fichero[fichero[\"country\"]== \"United Kingdom\"]"
   ]
  },
  {
   "cell_type": "code",
   "execution_count": 11,
   "metadata": {},
   "outputs": [
    {
     "name": "stdout",
     "output_type": "stream",
     "text": [
      "El salario neto en Estados unidos es de media 3987.08\n"
     ]
    }
   ],
   "source": [
    "#media\n",
    "media_salario_us = round(fichero_us[\"x54\"].mean(),2)\n",
    "print(f\"El salario neto en Estados unidos es de media {media_salario_us}\")\n"
   ]
  },
  {
   "cell_type": "code",
   "execution_count": 12,
   "metadata": {},
   "outputs": [
    {
     "data": {
      "text/plain": [
       "20      2079.30\n",
       "32      1453.61\n",
       "45       827.40\n",
       "73       229.62\n",
       "86       910.63\n",
       "         ...   \n",
       "4849        NaN\n",
       "4850        NaN\n",
       "4851        NaN\n",
       "4857        NaN\n",
       "4858     653.75\n",
       "Name: x54, Length: 1074, dtype: float64"
      ]
     },
     "execution_count": 12,
     "metadata": {},
     "output_type": "execute_result"
    }
   ],
   "source": [
    "#Desviación con respecto de la media\n",
    "\n",
    "diferencia_us = fichero_us[\"x54\"] - media_salario_us\n",
    "#calculamos la diferencia entre la columna de salario de US y la media.\n",
    "\n",
    "desviacion_us = np.abs(diferencia_us)\n",
    "desviacion_us\n"
   ]
  },
  {
   "cell_type": "code",
   "execution_count": 13,
   "metadata": {},
   "outputs": [
    {
     "data": {
      "text/plain": [
       "2010919.840769498"
      ]
     },
     "execution_count": 13,
     "metadata": {},
     "output_type": "execute_result"
    }
   ],
   "source": [
    "#Varianza\n",
    "\n",
    "varianza_us = fichero_us[\"x54\"].var()\n",
    "varianza_us"
   ]
  },
  {
   "cell_type": "code",
   "execution_count": 14,
   "metadata": {},
   "outputs": [
    {
     "data": {
      "text/plain": [
       "1418.0690535970023"
      ]
     },
     "execution_count": 14,
     "metadata": {},
     "output_type": "execute_result"
    }
   ],
   "source": [
    "#Desviación típica\n",
    "\n",
    "desviacion_tipica_us = fichero_us[\"x54\"].std()\n",
    "desviacion_tipica_us"
   ]
  },
  {
   "cell_type": "code",
   "execution_count": 15,
   "metadata": {},
   "outputs": [
    {
     "data": {
      "text/plain": [
       "5000.0"
      ]
     },
     "execution_count": 15,
     "metadata": {},
     "output_type": "execute_result"
    }
   ],
   "source": [
    "#Moda\n",
    "\n",
    "moda_us = fichero_us[\"x54\"].mode()\n",
    "moda_us[0]"
   ]
  },
  {
   "cell_type": "code",
   "execution_count": 16,
   "metadata": {},
   "outputs": [
    {
     "data": {
      "text/plain": [
       "3750.0"
      ]
     },
     "execution_count": 16,
     "metadata": {},
     "output_type": "execute_result"
    }
   ],
   "source": [
    "#Mediana\n",
    "mediana_us = fichero_us[\"x54\"].median()\n",
    "mediana_us\n"
   ]
  },
  {
   "cell_type": "code",
   "execution_count": 17,
   "metadata": {},
   "outputs": [],
   "source": [
    "#Media ponderata\n",
    "# Para hacer la media ponderada hacemos un df con los 5 paises que tienen más registros en el df y como pesos usaremos sus entradas \n",
    "# y también eliminaremos los null.\n",
    "\n",
    "fichero_5_paises = fichero[(fichero[\"country\"] == \"United States\") | (fichero[\"country\"] == \"Italy\") | (fichero[\"country\"] == \"India\") | (fichero[\"country\"] == \"Brazil\") | (fichero[\"country\"] == \"United Kingdom\")]\n"
   ]
  },
  {
   "cell_type": "code",
   "execution_count": 18,
   "metadata": {},
   "outputs": [
    {
     "data": {
      "text/plain": [
       "United States     1074\n",
       "Italy              185\n",
       "India              167\n",
       "Brazil             166\n",
       "United Kingdom     161\n",
       "Name: country, dtype: int64"
      ]
     },
     "execution_count": 18,
     "metadata": {},
     "output_type": "execute_result"
    }
   ],
   "source": [
    "# Miramos las entradas para asignar los pesos\n",
    "\n",
    "fichero_5_paises[\"country\"].value_counts()"
   ]
  },
  {
   "cell_type": "code",
   "execution_count": null,
   "metadata": {},
   "outputs": [],
   "source": [
    "# Creamos una columna donde hacemos la relación del peso con los paises\n",
    "\n",
    "def cat_peso(colum): \n",
    "    if colum == \"United States\":\n",
    "        return 1074\n",
    "    elif colum == \"Italy\":\n",
    "        return 185\n",
    "    elif colum == \"India\":\n",
    "        return 167\n",
    "    elif colum == \"Brazil\":\n",
    "        return 166\n",
    "    else:\n",
    "        return 161\n",
    "\n",
    "\n",
    "fichero_5_paises[\"pesos_pais\"] = (fichero_5_paises[\"country\"].apply(cat_peso))"
   ]
  },
  {
   "cell_type": "code",
   "execution_count": 20,
   "metadata": {},
   "outputs": [
    {
     "data": {
      "text/html": [
       "<div>\n",
       "<style scoped>\n",
       "    .dataframe tbody tr th:only-of-type {\n",
       "        vertical-align: middle;\n",
       "    }\n",
       "\n",
       "    .dataframe tbody tr th {\n",
       "        vertical-align: top;\n",
       "    }\n",
       "\n",
       "    .dataframe thead th {\n",
       "        text-align: right;\n",
       "    }\n",
       "</style>\n",
       "<table border=\"1\" class=\"dataframe\">\n",
       "  <thead>\n",
       "    <tr style=\"text-align: right;\">\n",
       "      <th></th>\n",
       "      <th>Unnamed: 0</th>\n",
       "      <th>city</th>\n",
       "      <th>country</th>\n",
       "      <th>x1</th>\n",
       "      <th>x2</th>\n",
       "      <th>x3</th>\n",
       "      <th>x4</th>\n",
       "      <th>x5</th>\n",
       "      <th>x6</th>\n",
       "      <th>x7</th>\n",
       "      <th>...</th>\n",
       "      <th>x48</th>\n",
       "      <th>x49</th>\n",
       "      <th>x50</th>\n",
       "      <th>x51</th>\n",
       "      <th>x52</th>\n",
       "      <th>x53</th>\n",
       "      <th>x54</th>\n",
       "      <th>x55</th>\n",
       "      <th>data_quality</th>\n",
       "      <th>pesos_pais</th>\n",
       "    </tr>\n",
       "  </thead>\n",
       "  <tbody>\n",
       "    <tr>\n",
       "      <th>4122</th>\n",
       "      <td>4122</td>\n",
       "      <td>Streamwood</td>\n",
       "      <td>United States</td>\n",
       "      <td>15.0</td>\n",
       "      <td>70.0</td>\n",
       "      <td>8.0</td>\n",
       "      <td>3.5</td>\n",
       "      <td>5.55</td>\n",
       "      <td>4.4</td>\n",
       "      <td>2.5</td>\n",
       "      <td>...</td>\n",
       "      <td>NaN</td>\n",
       "      <td>NaN</td>\n",
       "      <td>NaN</td>\n",
       "      <td>NaN</td>\n",
       "      <td>NaN</td>\n",
       "      <td>NaN</td>\n",
       "      <td>NaN</td>\n",
       "      <td>5.43</td>\n",
       "      <td>0</td>\n",
       "      <td>1074</td>\n",
       "    </tr>\n",
       "  </tbody>\n",
       "</table>\n",
       "<p>1 rows × 60 columns</p>\n",
       "</div>"
      ],
      "text/plain": [
       "      Unnamed: 0        city        country    x1    x2   x3   x4    x5   x6  \\\n",
       "4122        4122  Streamwood  United States  15.0  70.0  8.0  3.5  5.55  4.4   \n",
       "\n",
       "       x7  ...  x48  x49  x50  x51  x52  x53  x54   x55  data_quality  \\\n",
       "4122  2.5  ...  NaN  NaN  NaN  NaN  NaN  NaN  NaN  5.43             0   \n",
       "\n",
       "      pesos_pais  \n",
       "4122        1074  \n",
       "\n",
       "[1 rows x 60 columns]"
      ]
     },
     "execution_count": 20,
     "metadata": {},
     "output_type": "execute_result"
    }
   ],
   "source": [
    "# Comprobamos que se ha creado la columna\n",
    "fichero_5_paises.sample()"
   ]
  },
  {
   "cell_type": "code",
   "execution_count": 21,
   "metadata": {},
   "outputs": [
    {
     "data": {
      "text/plain": [
       "619"
      ]
     },
     "execution_count": 21,
     "metadata": {},
     "output_type": "execute_result"
    }
   ],
   "source": [
    "# Vemos los null, que tenemos 619, y como es una columna de salario decidimos quitarlos en otro df para sacar la media ponderada.\n",
    "\n",
    "fichero_5_paises[\"x54\"].isnull().sum()"
   ]
  },
  {
   "cell_type": "code",
   "execution_count": 22,
   "metadata": {},
   "outputs": [
    {
     "data": {
      "text/plain": [
       "(1753, 60)"
      ]
     },
     "execution_count": 22,
     "metadata": {},
     "output_type": "execute_result"
    }
   ],
   "source": [
    "# Comprobamos las filas que tenemos para comprobar después si se eliminan los nulos\n",
    "fichero_5_paises.shape"
   ]
  },
  {
   "cell_type": "code",
   "execution_count": 23,
   "metadata": {},
   "outputs": [],
   "source": [
    "# Creamos una copia y eliminamos los nulos\n",
    "\n",
    "fichero_5_paises_no_null = fichero_5_paises.copy()\n",
    "\n",
    "fichero_5_paises_no_null = fichero_5_paises_no_null.dropna(subset= [\"x54\"])"
   ]
  },
  {
   "cell_type": "code",
   "execution_count": 24,
   "metadata": {},
   "outputs": [
    {
     "data": {
      "text/plain": [
       "(1134, 60)"
      ]
     },
     "execution_count": 24,
     "metadata": {},
     "output_type": "execute_result"
    }
   ],
   "source": [
    "# Comprobamos que se han eliminado las 619 entradas nulas que teníamos\n",
    "\n",
    "fichero_5_paises_no_null.shape"
   ]
  },
  {
   "cell_type": "code",
   "execution_count": 25,
   "metadata": {},
   "outputs": [
    {
     "data": {
      "text/plain": [
       "3671.01"
      ]
     },
     "execution_count": 25,
     "metadata": {},
     "output_type": "execute_result"
    }
   ],
   "source": [
    "# Y por fín sacamos la media ponderada\n",
    "\n",
    "average_5_paises = np.average(fichero_5_paises_no_null[\"x54\"],  weights= fichero_5_paises_no_null[\"pesos_pais\"])\n",
    "round(average_5_paises,2)"
   ]
  },
  {
   "cell_type": "code",
   "execution_count": 26,
   "metadata": {},
   "outputs": [
    {
     "data": {
      "text/plain": [
       "0.000931098696461825"
      ]
     },
     "execution_count": 26,
     "metadata": {},
     "output_type": "execute_result"
    }
   ],
   "source": [
    "# Robustez\n",
    "# Volvemos a trabajar sobre los datos de Estados Unidos, para simplificar.\n",
    "\n",
    "robustez = 1/fichero_us.shape[0]\n",
    "robustez\n",
    "\n",
    "# Entendemos con este resultado son de datos bastante robustos ya que cuanto más cerca de 0 más robustos son los datos."
   ]
  },
  {
   "cell_type": "code",
   "execution_count": 27,
   "metadata": {},
   "outputs": [
    {
     "name": "stdout",
     "output_type": "stream",
     "text": [
      "El coeficiente de variación es de 2.81, con una media de 3987.08\n"
     ]
    }
   ],
   "source": [
    "# Coeficiente de varación\n",
    "\n",
    "coeficiente_variacion_us = media_salario_us/desviacion_tipica_us\n",
    "print(f\"El coeficiente de variación es de {round(coeficiente_variacion_us,2)}, con una media de {media_salario_us}\")\n",
    "\n",
    "#Entendemos que es coeficiente positivo porque no se aleja mucho de 0\n",
    "\n",
    "# Pero La diferencia del coeficiente de variación con la media es de 3984.27 (3987.08 - 2.81  ) que eso si es un valor muy alto, pero no cambia \n",
    "# el resultado en dolares"
   ]
  },
  {
   "cell_type": "code",
   "execution_count": 28,
   "metadata": {},
   "outputs": [
    {
     "data": {
      "text/plain": [
       "432.5620661157025"
      ]
     },
     "execution_count": 28,
     "metadata": {},
     "output_type": "execute_result"
    }
   ],
   "source": [
    "# Sacamos también la media de la India y su coeficiente para comprar los resultados y vemos que son menos variados porque su media se acerca y sigue siendo\n",
    "# un número cercano a 0\n",
    "fichero_in[\"x54\"].mean()"
   ]
  },
  {
   "cell_type": "code",
   "execution_count": 29,
   "metadata": {},
   "outputs": [
    {
     "data": {
      "text/plain": [
       "2.4999764672192017"
      ]
     },
     "execution_count": 29,
     "metadata": {},
     "output_type": "execute_result"
    }
   ],
   "source": [
    "coe_var_in = fichero_in[\"x54\"].mean()/fichero_in[\"x54\"].std()\n",
    "coe_var_in"
   ]
  },
  {
   "cell_type": "code",
   "execution_count": 30,
   "metadata": {},
   "outputs": [
    {
     "data": {
      "image/png": "[encoded data removed]",
      "text/plain": [
       "<Figure size 432x288 with 1 Axes>"
      ]
     },
     "metadata": {
      "needs_background": "light"
     },
     "output_type": "display_data"
    }
   ],
   "source": [
    "# Para interpretar mejor los resultados hemos decidido visualizar un boxplot.\n",
    "\n",
    "plt.figure()\n",
    "\n",
    "fig= sns.boxplot(x=\"x54\", data=fichero_us)\n"
   ]
  },
  {
   "cell_type": "code",
   "execution_count": 31,
   "metadata": {},
   "outputs": [
    {
     "name": "stdout",
     "output_type": "stream",
     "text": [
      "El coeficiente de variación, que hace referencia a la relacción entre la media y desviación, valor bajo de datos son más homogeneos, 2.81\n",
      "---------------------------------------------------------------------------------------------------------------\n",
      "La robustez que es otra medida de desviación es de 0.00093. cuanto mayor cantidad de datos hayamos usado para hacer la estadística más robustos serán\n",
      "---------------------------------------------------------------------------------------------------------------\n",
      "La mediana es el valor del medio, el Q2,que es de 3750.0 dolares\n",
      "---------------------------------------------------------------------------------------------------------------\n",
      "La media es de 3987.08 dolares\n",
      "---------------------------------------------------------------------------------------------------------------\n",
      "La moda es el valor que tiene más frecuencia en nuestros datos y es de 5000.0 dolares\n",
      "---------------------------------------------------------------------------------------------------------------\n",
      "La desviación típica hace referencia a como de dispersos están los valores de los datos con respecto a la media y está en la misma unidad que estamos usando(us dollar) y es de 1418.07 dolares\n",
      "---------------------------------------------------------------------------------------------------------------\n",
      "La varianza nos da una medida de como de dispersos están los datos respecto a la varianza, habría que convertir esta unidad de medida, y es de 2010919.84\n"
     ]
    }
   ],
   "source": [
    "# Hacemos un pequeño resumen de todos los resultados que hemos sacado para verlos en conjunto\n",
    "\n",
    "print(f\"El coeficiente de variación, que hace referencia a la relacción entre la media y desviación, valor bajo de datos son más homogeneos, {round(coeficiente_variacion_us,2)}\")\n",
    "\n",
    "print(\"---------------------------------------------------------------------------------------------------------------\")\n",
    "\n",
    "print(f\"La robustez que es otra medida de desviación es de {round(robustez,5)}. cuanto mayor cantidad de datos hayamos usado para hacer la estadística más robustos serán\")\n",
    "\n",
    "print(\"---------------------------------------------------------------------------------------------------------------\")\n",
    "\n",
    "print(f\"La mediana es el valor del medio, el Q2,que es de {mediana_us} dolares\")\n",
    "\n",
    "print(\"---------------------------------------------------------------------------------------------------------------\")\n",
    "\n",
    "print(f\"La media es de {media_salario_us} dolares\")\n",
    "\n",
    "print(\"---------------------------------------------------------------------------------------------------------------\")\n",
    "\n",
    "print(f\"La moda es el valor que tiene más frecuencia en nuestros datos y es de {moda_us[0]} dolares\")\n",
    "\n",
    "print(\"---------------------------------------------------------------------------------------------------------------\")\n",
    "\n",
    "print(f\"La desviación típica hace referencia a como de dispersos están los valores de los datos con respecto a la media y está en la misma unidad que estamos usando(us dollar) y es de {round(desviacion_tipica_us,2)} dolares\")\n",
    "\n",
    "print(\"---------------------------------------------------------------------------------------------------------------\")\n",
    "\n",
    "print(f\"La varianza nos da una medida de como de dispersos están los datos respecto a la varianza, habría que convertir esta unidad de medida, y es de {round(varianza_us,2)}\")\n"
   ]
  },
  {
   "cell_type": "markdown",
   "metadata": {},
   "source": [
    "3. Interpretación de los resultados.\n",
    "- Ahora interpreta los resultados obtenidos de los diferentes estadísticos estudiados haciendo hincapié en aspectos interesantes de tus datos y explica lo mejor posible la naturaleza de los mismos."
   ]
  },
  {
   "attachments": {},
   "cell_type": "markdown",
   "metadata": {},
   "source": [
    "Nuestra idea principal era poder comparar el poder adquisitivo respecto a algunos productos básicos de alimentación y vivienda y además hacer una comparación entre los 5 países que tenían más registros. No obstante por tiempo nos hemos centrado en averiguar los datos estadísticos sobre el salrio del país con más entradas, estados Unidos.\n",
    "\n",
    "- Sacamos de conclusión que es un país con un sueldo con IQR que va de 3000 a 5000 dolares. \n",
    "\n",
    "- Nos llama mucho la atención que la media y la mediana tienen una diferencia entre ellas de poco menos de 200 dolares, como un 5%, con lo cual entendemos los datos son robustos dentro del IQR.\n",
    "\n",
    "- También nos llama la atención que a pesar de tener unos outliers bastante altos no afectan demasiado a la media y mediana, por lo que deudcimos que son muy pocos para que no afecten a las otras medidas\n",
    "\n",
    "- Como conclusión sacamos que según los datos de Estados Unidos el sueldo es bastante más alto que la media Española y entendemos que esto es debido a que al ser un país mucho más consumista requiere de sueldos altos para cumplir con ese tipo de sociedad "
   ]
  },
  {
   "cell_type": "code",
   "execution_count": 32,
   "metadata": {},
   "outputs": [],
   "source": [
    "#No hemos podido concluir nuestra idea inicial pero lo dejamos aquí abajo."
   ]
  },
  {
   "attachments": {},
   "cell_type": "markdown",
   "metadata": {},
   "source": [
    "Otras columnas que nos parecen interesantes para investigar\n",
    "\n",
    "La columnas que nos centraremos seran de producto basico:\n",
    "\n",
    "- x9 = leche (litro)\n",
    "- x11 = rice (1 kg)\n",
    "- x12 = eggs (12 ud.)\n",
    "- x14 = chicken fillets (1 kg)\n",
    "- x16 = apples (1 kg)\n",
    "- x19 = tomato (1 kg)\n",
    "\n",
    "Las columnas de vivienda:\n",
    "\n",
    "- x48 = Apartment (1 bedroom) in City Centre (USD)\n",
    "- x49\t= Apartment (1 bedroom) Outside of Centre (USD)\n",
    "- x50\t= Apartment (3 bedrooms) in City Centre (USD)\n",
    "- x51\t= Apartment (3 bedrooms) Outside of Centre (USD)\n",
    "- x52\t= Price per Square Meter to Buy Apartment in City Centre (USD)\n",
    "- x53\t= Price per Square Meter to Buy Apartment Outside of Centre (USD)\n",
    "\n"
   ]
  },
  {
   "cell_type": "code",
   "execution_count": 33,
   "metadata": {},
   "outputs": [
    {
     "name": "stdout",
     "output_type": "stream",
     "text": [
      "El salario neto en Italy es de media 1466.23\n",
      "El salario neto en India es de media 432.56\n",
      "El salario neto en Brazil es de media 362.87\n",
      "El salario neto en United Kingdom es de media 2662.26\n"
     ]
    }
   ],
   "source": [
    "\n",
    "salario_it = round(fichero_it[\"x54\"].mean(),2)\n",
    "print(f\"El salario neto en Italy es de media {salario_it}\")\n",
    "\n",
    "salario_in = round(fichero_in[\"x54\"].mean(),2)\n",
    "print(f\"El salario neto en India es de media {salario_in}\")\n",
    "\n",
    "salario_br = round(fichero_br[\"x54\"].mean(),2)\n",
    "print(f\"El salario neto en Brazil es de media {salario_br}\")\n",
    "\n",
    "salario_uk = round(fichero_uk[\"x54\"].mean(),2)\n",
    "print(f\"El salario neto en United Kingdom es de media {salario_uk}\")"
   ]
  }
 ],
 "metadata": {
  "kernelspec": {
   "display_name": "Python 3.9.7 ('base')",
   "language": "python",
   "name": "python3"
  },
  "language_info": {
   "codemirror_mode": {
    "name": "ipython",
    "version": 3
   },
   "file_extension": ".py",
   "mimetype": "text/x-python",
   "name": "python",
   "nbconvert_exporter": "python",
   "pygments_lexer": "ipython3",
   "version": "3.9.7"
  },
  "orig_nbformat": 4,
  "vscode": {
   "interpreter": {
    "hash": "651c3b7b3f466eb030aa737f279c846be4db9cba49a2f229278cab5e41121ed5"
   }
  }
 },
 "nbformat": 4,
 "nbformat_minor": 2
}
