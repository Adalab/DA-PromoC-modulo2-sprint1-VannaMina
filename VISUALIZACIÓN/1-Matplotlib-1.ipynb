{
 "cells": [
  {
   "cell_type": "code",
   "execution_count": 1,
   "metadata": {},
   "outputs": [],
   "source": [
    "import pandas as pd\n",
    "import matplotlib.pyplot as plt\n",
    "import numpy as np\n",
    "import os"
   ]
  },
  {
   "cell_type": "code",
   "execution_count": 2,
   "metadata": {},
   "outputs": [],
   "source": [
    "fichero = pd.read_csv(\"PANDAS/DATOS/attacks_sin_columnas.csv\")"
   ]
  },
  {
   "attachments": {},
   "cell_type": "markdown",
   "metadata": {},
   "source": [
    "1. ¿Cuál es la frecuencia de cada una de las categorías de la columna sex?"
   ]
  },
  {
   "cell_type": "code",
   "execution_count": 3,
   "metadata": {},
   "outputs": [
    {
     "data": {
      "text/html": [
       "<div>\n",
       "<style scoped>\n",
       "    .dataframe tbody tr th:only-of-type {\n",
       "        vertical-align: middle;\n",
       "    }\n",
       "\n",
       "    .dataframe tbody tr th {\n",
       "        vertical-align: top;\n",
       "    }\n",
       "\n",
       "    .dataframe thead th {\n",
       "        text-align: right;\n",
       "    }\n",
       "</style>\n",
       "<table border=\"1\" class=\"dataframe\">\n",
       "  <thead>\n",
       "    <tr style=\"text-align: right;\">\n",
       "      <th></th>\n",
       "      <th>case_number</th>\n",
       "      <th>unnamed:_0</th>\n",
       "      <th>year</th>\n",
       "      <th>type</th>\n",
       "      <th>country</th>\n",
       "      <th>area</th>\n",
       "      <th>location</th>\n",
       "      <th>activity</th>\n",
       "      <th>name</th>\n",
       "      <th>sex_</th>\n",
       "      <th>age</th>\n",
       "      <th>time</th>\n",
       "      <th>species_</th>\n",
       "      <th>href</th>\n",
       "    </tr>\n",
       "  </thead>\n",
       "  <tbody>\n",
       "    <tr>\n",
       "      <th>0</th>\n",
       "      <td>2018.06.25</td>\n",
       "      <td>0</td>\n",
       "      <td>2018.0</td>\n",
       "      <td>Boating</td>\n",
       "      <td>USA</td>\n",
       "      <td>California</td>\n",
       "      <td>Oceanside, San Diego County</td>\n",
       "      <td>Paddling</td>\n",
       "      <td>Julie Wolfe</td>\n",
       "      <td>F</td>\n",
       "      <td>57</td>\n",
       "      <td>18h00</td>\n",
       "      <td>White shark</td>\n",
       "      <td>http://sharkattackfile.net/spreadsheets/pdf_di...</td>\n",
       "    </tr>\n",
       "    <tr>\n",
       "      <th>1</th>\n",
       "      <td>2018.06.18</td>\n",
       "      <td>1</td>\n",
       "      <td>2018.0</td>\n",
       "      <td>Unprovoked</td>\n",
       "      <td>USA</td>\n",
       "      <td>Georgia</td>\n",
       "      <td>St. Simon Island, Glynn County</td>\n",
       "      <td>Standing</td>\n",
       "      <td>Adyson McNeely</td>\n",
       "      <td>F</td>\n",
       "      <td>11</td>\n",
       "      <td>14h00  -15h00</td>\n",
       "      <td>NaN</td>\n",
       "      <td>http://sharkattackfile.net/spreadsheets/pdf_di...</td>\n",
       "    </tr>\n",
       "  </tbody>\n",
       "</table>\n",
       "</div>"
      ],
      "text/plain": [
       "  case_number  unnamed:_0    year        type country        area  \\\n",
       "0  2018.06.25           0  2018.0     Boating     USA  California   \n",
       "1  2018.06.18           1  2018.0  Unprovoked     USA     Georgia   \n",
       "\n",
       "                         location  activity             name sex_ age  \\\n",
       "0     Oceanside, San Diego County  Paddling      Julie Wolfe    F  57   \n",
       "1  St. Simon Island, Glynn County  Standing  Adyson McNeely     F  11   \n",
       "\n",
       "            time     species_  \\\n",
       "0          18h00  White shark   \n",
       "1  14h00  -15h00          NaN   \n",
       "\n",
       "                                                href  \n",
       "0  http://sharkattackfile.net/spreadsheets/pdf_di...  \n",
       "1  http://sharkattackfile.net/spreadsheets/pdf_di...  "
      ]
     },
     "execution_count": 3,
     "metadata": {},
     "output_type": "execute_result"
    }
   ],
   "source": [
    "fichero.head(2)"
   ]
  },
  {
   "cell_type": "code",
   "execution_count": 4,
   "metadata": {},
   "outputs": [
    {
     "data": {
      "text/plain": [
       "M      4939\n",
       "F       619\n",
       "M         2\n",
       "N         2\n",
       "lli       1\n",
       ".         1\n",
       "Name: sex_, dtype: int64"
      ]
     },
     "execution_count": 4,
     "metadata": {},
     "output_type": "execute_result"
    }
   ],
   "source": [
    "cantidad_sex = fichero[\"sex_\"].value_counts()\n",
    "cantidad_sex\n"
   ]
  },
  {
   "cell_type": "code",
   "execution_count": 5,
   "metadata": {},
   "outputs": [
    {
     "data": {
      "text/html": [
       "<div>\n",
       "<style scoped>\n",
       "    .dataframe tbody tr th:only-of-type {\n",
       "        vertical-align: middle;\n",
       "    }\n",
       "\n",
       "    .dataframe tbody tr th {\n",
       "        vertical-align: top;\n",
       "    }\n",
       "\n",
       "    .dataframe thead th {\n",
       "        text-align: right;\n",
       "    }\n",
       "</style>\n",
       "<table border=\"1\" class=\"dataframe\">\n",
       "  <thead>\n",
       "    <tr style=\"text-align: right;\">\n",
       "      <th></th>\n",
       "      <th>case_number</th>\n",
       "      <th>unnamed:_0</th>\n",
       "      <th>year</th>\n",
       "      <th>type</th>\n",
       "      <th>country</th>\n",
       "      <th>area</th>\n",
       "      <th>location</th>\n",
       "      <th>activity</th>\n",
       "      <th>name</th>\n",
       "      <th>sex_</th>\n",
       "      <th>age</th>\n",
       "      <th>time</th>\n",
       "      <th>species_</th>\n",
       "      <th>href</th>\n",
       "    </tr>\n",
       "  </thead>\n",
       "  <tbody>\n",
       "    <tr>\n",
       "      <th>1617</th>\n",
       "      <td>2004.11.11.b</td>\n",
       "      <td>1624</td>\n",
       "      <td>2004.0</td>\n",
       "      <td>Unprovoked</td>\n",
       "      <td>USA</td>\n",
       "      <td>California</td>\n",
       "      <td>Bunkers, Humboldt Bay, Eureka, Humboldt County</td>\n",
       "      <td>Surfing</td>\n",
       "      <td>Brian Kang</td>\n",
       "      <td>lli</td>\n",
       "      <td>38</td>\n",
       "      <td>13h30</td>\n",
       "      <td>5.5 m [18'] white shark</td>\n",
       "      <td>http://sharkattackfile.net/spreadsheets/pdf_di...</td>\n",
       "    </tr>\n",
       "  </tbody>\n",
       "</table>\n",
       "</div>"
      ],
      "text/plain": [
       "       case_number  unnamed:_0    year        type country        area  \\\n",
       "1617  2004.11.11.b        1624  2004.0  Unprovoked     USA  California   \n",
       "\n",
       "                                            location activity        name  \\\n",
       "1617  Bunkers, Humboldt Bay, Eureka, Humboldt County  Surfing  Brian Kang   \n",
       "\n",
       "     sex_ age   time                 species_  \\\n",
       "1617  lli  38  13h30  5.5 m [18'] white shark   \n",
       "\n",
       "                                                   href  \n",
       "1617  http://sharkattackfile.net/spreadsheets/pdf_di...  "
      ]
     },
     "execution_count": 5,
     "metadata": {},
     "output_type": "execute_result"
    }
   ],
   "source": [
    "fichero[fichero[\"sex_\"]==\"lli\"]"
   ]
  },
  {
   "cell_type": "code",
   "execution_count": 6,
   "metadata": {},
   "outputs": [
    {
     "data": {
      "image/png": "[encoded data removed]",
      "text/plain": [
       "<Figure size 432x288 with 1 Axes>"
      ]
     },
     "metadata": {},
     "output_type": "display_data"
    }
   ],
   "source": [
    "x = (4939, 619, 2, 2, 1, 1)\n",
    "plt.figure()\n",
    "plt.pie(x, labels =(\"M\", \"F\", \"M\", \"N\", \"Lli\", \".\") )\n",
    "plt.show()"
   ]
  },
  {
   "cell_type": "code",
   "execution_count": 7,
   "metadata": {},
   "outputs": [
    {
     "data": {
      "image/png": "[encoded data removed]",
      "text/plain": [
       "<Figure size 432x288 with 1 Axes>"
      ]
     },
     "metadata": {},
     "output_type": "display_data"
    }
   ],
   "source": [
    "#Otra forma de sacar el mismo gráficos sería:\n",
    "z = list(cantidad_sex.index)\n",
    "y = list(np.array(cantidad_sex))\n",
    "plt.figure()\n",
    "plt.pie(y, labels = z )\n",
    "plt.show()"
   ]
  },
  {
   "attachments": {},
   "cell_type": "markdown",
   "metadata": {},
   "source": [
    "2. ¿Cuál es el porcentaje de nulos por columna? Usa un pie chart donde incluyáis el porcentaje de cada variable en el interior del quesito. "
   ]
  },
  {
   "cell_type": "code",
   "execution_count": 8,
   "metadata": {},
   "outputs": [
    {
     "data": {
      "text/plain": [
       "case_number       1\n",
       "unnamed:_0        0\n",
       "year              0\n",
       "type              4\n",
       "country          40\n",
       "area            408\n",
       "location        488\n",
       "activity        511\n",
       "name            200\n",
       "sex_            550\n",
       "age            2666\n",
       "time           3180\n",
       "species_       2705\n",
       "href              0\n",
       "dtype: int64"
      ]
     },
     "execution_count": 8,
     "metadata": {},
     "output_type": "execute_result"
    }
   ],
   "source": [
    "fichero.isnull().sum()"
   ]
  },
  {
   "cell_type": "code",
   "execution_count": 9,
   "metadata": {},
   "outputs": [
    {
     "data": {
      "text/html": [
       "<div>\n",
       "<style scoped>\n",
       "    .dataframe tbody tr th:only-of-type {\n",
       "        vertical-align: middle;\n",
       "    }\n",
       "\n",
       "    .dataframe tbody tr th {\n",
       "        vertical-align: top;\n",
       "    }\n",
       "\n",
       "    .dataframe thead th {\n",
       "        text-align: right;\n",
       "    }\n",
       "</style>\n",
       "<table border=\"1\" class=\"dataframe\">\n",
       "  <thead>\n",
       "    <tr style=\"text-align: right;\">\n",
       "      <th></th>\n",
       "      <th>0</th>\n",
       "    </tr>\n",
       "  </thead>\n",
       "  <tbody>\n",
       "    <tr>\n",
       "      <th>case_number</th>\n",
       "      <td>1</td>\n",
       "    </tr>\n",
       "    <tr>\n",
       "      <th>unnamed:_0</th>\n",
       "      <td>0</td>\n",
       "    </tr>\n",
       "    <tr>\n",
       "      <th>year</th>\n",
       "      <td>0</td>\n",
       "    </tr>\n",
       "    <tr>\n",
       "      <th>type</th>\n",
       "      <td>4</td>\n",
       "    </tr>\n",
       "    <tr>\n",
       "      <th>country</th>\n",
       "      <td>40</td>\n",
       "    </tr>\n",
       "    <tr>\n",
       "      <th>area</th>\n",
       "      <td>408</td>\n",
       "    </tr>\n",
       "    <tr>\n",
       "      <th>location</th>\n",
       "      <td>488</td>\n",
       "    </tr>\n",
       "    <tr>\n",
       "      <th>activity</th>\n",
       "      <td>511</td>\n",
       "    </tr>\n",
       "    <tr>\n",
       "      <th>name</th>\n",
       "      <td>200</td>\n",
       "    </tr>\n",
       "    <tr>\n",
       "      <th>sex_</th>\n",
       "      <td>550</td>\n",
       "    </tr>\n",
       "    <tr>\n",
       "      <th>age</th>\n",
       "      <td>2666</td>\n",
       "    </tr>\n",
       "    <tr>\n",
       "      <th>time</th>\n",
       "      <td>3180</td>\n",
       "    </tr>\n",
       "    <tr>\n",
       "      <th>species_</th>\n",
       "      <td>2705</td>\n",
       "    </tr>\n",
       "    <tr>\n",
       "      <th>href</th>\n",
       "      <td>0</td>\n",
       "    </tr>\n",
       "  </tbody>\n",
       "</table>\n",
       "</div>"
      ],
      "text/plain": [
       "                0\n",
       "case_number     1\n",
       "unnamed:_0      0\n",
       "year            0\n",
       "type            4\n",
       "country        40\n",
       "area          408\n",
       "location      488\n",
       "activity      511\n",
       "name          200\n",
       "sex_          550\n",
       "age          2666\n",
       "time         3180\n",
       "species_     2705\n",
       "href            0"
      ]
     },
     "execution_count": 9,
     "metadata": {},
     "output_type": "execute_result"
    }
   ],
   "source": [
    "nulo = pd.DataFrame(fichero.isnull().sum())\n",
    "nulo"
   ]
  },
  {
   "cell_type": "code",
   "execution_count": 10,
   "metadata": {},
   "outputs": [],
   "source": [
    "etiqueta = list(nulo.index)\n"
   ]
  },
  {
   "cell_type": "code",
   "execution_count": 11,
   "metadata": {},
   "outputs": [
    {
     "data": {
      "image/png": "[encoded data removed]",
      "text/plain": [
       "<Figure size 432x288 with 1 Axes>"
      ]
     },
     "metadata": {},
     "output_type": "display_data"
    }
   ],
   "source": [
    "plt.figure()\n",
    "plt.pie(nulo[0], labels = etiqueta, autopct=\"%1.2f%%\", radius=4) \n",
    "plt.show()"
   ]
  },
  {
   "attachments": {},
   "cell_type": "markdown",
   "metadata": {},
   "source": [
    "3. ¿Cuál es el número total de valores únicos de cada una de las columnas categóricas del DataFrame?"
   ]
  },
  {
   "cell_type": "code",
   "execution_count": 12,
   "metadata": {},
   "outputs": [
    {
     "name": "stdout",
     "output_type": "stream",
     "text": [
      "<class 'pandas.core.frame.DataFrame'>\n",
      "RangeIndex: 6114 entries, 0 to 6113\n",
      "Data columns (total 14 columns):\n",
      " #   Column       Non-Null Count  Dtype  \n",
      "---  ------       --------------  -----  \n",
      " 0   case_number  6113 non-null   object \n",
      " 1   unnamed:_0   6114 non-null   int64  \n",
      " 2   year         6114 non-null   float64\n",
      " 3   type         6110 non-null   object \n",
      " 4   country      6074 non-null   object \n",
      " 5   area         5706 non-null   object \n",
      " 6   location     5626 non-null   object \n",
      " 7   activity     5603 non-null   object \n",
      " 8   name         5914 non-null   object \n",
      " 9   sex_         5564 non-null   object \n",
      " 10  age          3448 non-null   object \n",
      " 11  time         2934 non-null   object \n",
      " 12  species_     3409 non-null   object \n",
      " 13  href         6114 non-null   object \n",
      "dtypes: float64(1), int64(1), object(12)\n",
      "memory usage: 668.8+ KB\n"
     ]
    }
   ],
   "source": [
    "fichero.info()"
   ]
  },
  {
   "cell_type": "code",
   "execution_count": 29,
   "metadata": {},
   "outputs": [
    {
     "ename": "ValueError",
     "evalue": "The truth value of an array with more than one element is ambiguous. Use a.any() or a.all()",
     "output_type": "error",
     "traceback": [
      "\u001b[0;31m---------------------------------------------------------------------------\u001b[0m",
      "\u001b[0;31mValueError\u001b[0m                                Traceback (most recent call last)",
      "\u001b[0;32m/tmp/ipykernel_5391/533085247.py\u001b[0m in \u001b[0;36m<module>\u001b[0;34m\u001b[0m\n\u001b[1;32m      1\u001b[0m \u001b[0;32mfor\u001b[0m \u001b[0mi\u001b[0m \u001b[0;32min\u001b[0m \u001b[0mfichero\u001b[0m\u001b[0;34m.\u001b[0m\u001b[0mcolumns\u001b[0m\u001b[0;34m:\u001b[0m\u001b[0;34m\u001b[0m\u001b[0;34m\u001b[0m\u001b[0m\n\u001b[0;32m----> 2\u001b[0;31m     \u001b[0;32mif\u001b[0m \u001b[0mfichero\u001b[0m\u001b[0;34m[\u001b[0m\u001b[0mi\u001b[0m\u001b[0;34m]\u001b[0m\u001b[0;34m.\u001b[0m\u001b[0munique\u001b[0m\u001b[0;34m(\u001b[0m\u001b[0;34m)\u001b[0m \u001b[0;34m!=\u001b[0m \u001b[0mint\u001b[0m\u001b[0;34m:\u001b[0m\u001b[0;34m\u001b[0m\u001b[0;34m\u001b[0m\u001b[0m\n\u001b[0m\u001b[1;32m      3\u001b[0m         \u001b[0;31m#pd.DataFrame(fichero[i].unique())\u001b[0m\u001b[0;34m\u001b[0m\u001b[0;34m\u001b[0m\u001b[0m\n\u001b[1;32m      4\u001b[0m         \u001b[0mprint\u001b[0m\u001b[0;34m(\u001b[0m\u001b[0mi\u001b[0m\u001b[0;34m,\u001b[0m\u001b[0;34m\"----->\"\u001b[0m\u001b[0;34m,\u001b[0m \u001b[0mfichero\u001b[0m\u001b[0;34m[\u001b[0m\u001b[0mi\u001b[0m\u001b[0;34m]\u001b[0m\u001b[0;34m.\u001b[0m\u001b[0munique\u001b[0m\u001b[0;34m(\u001b[0m\u001b[0;34m)\u001b[0m\u001b[0;34m)\u001b[0m\u001b[0;34m\u001b[0m\u001b[0;34m\u001b[0m\u001b[0m\n",
      "\u001b[0;31mValueError\u001b[0m: The truth value of an array with more than one element is ambiguous. Use a.any() or a.all()"
     ]
    }
   ],
   "source": [
    "\n",
    "for i in fichero.columns:\n",
    "    if fichero[i].unique() != int:\n",
    "        #pd.DataFrame(fichero[i].unique())\n",
    "        print(i,\"----->\", fichero[i].unique())"
   ]
  },
  {
   "attachments": {},
   "cell_type": "markdown",
   "metadata": {},
   "source": [
    "4. Filtrad los datos para quedarnos solo con los datos de USA."
   ]
  },
  {
   "cell_type": "code",
   "execution_count": 35,
   "metadata": {},
   "outputs": [
    {
     "data": {
      "text/html": [
       "<div>\n",
       "<style scoped>\n",
       "    .dataframe tbody tr th:only-of-type {\n",
       "        vertical-align: middle;\n",
       "    }\n",
       "\n",
       "    .dataframe tbody tr th {\n",
       "        vertical-align: top;\n",
       "    }\n",
       "\n",
       "    .dataframe thead th {\n",
       "        text-align: right;\n",
       "    }\n",
       "</style>\n",
       "<table border=\"1\" class=\"dataframe\">\n",
       "  <thead>\n",
       "    <tr style=\"text-align: right;\">\n",
       "      <th></th>\n",
       "      <th>case_number</th>\n",
       "      <th>unnamed:_0</th>\n",
       "      <th>year</th>\n",
       "      <th>type</th>\n",
       "      <th>country</th>\n",
       "      <th>area</th>\n",
       "      <th>location</th>\n",
       "      <th>activity</th>\n",
       "      <th>name</th>\n",
       "      <th>sex_</th>\n",
       "      <th>age</th>\n",
       "      <th>time</th>\n",
       "      <th>species_</th>\n",
       "      <th>href</th>\n",
       "    </tr>\n",
       "  </thead>\n",
       "  <tbody>\n",
       "    <tr>\n",
       "      <th>0</th>\n",
       "      <td>2018.06.25</td>\n",
       "      <td>0</td>\n",
       "      <td>2018.0</td>\n",
       "      <td>Boating</td>\n",
       "      <td>USA</td>\n",
       "      <td>California</td>\n",
       "      <td>Oceanside, San Diego County</td>\n",
       "      <td>Paddling</td>\n",
       "      <td>Julie Wolfe</td>\n",
       "      <td>F</td>\n",
       "      <td>57</td>\n",
       "      <td>18h00</td>\n",
       "      <td>White shark</td>\n",
       "      <td>http://sharkattackfile.net/spreadsheets/pdf_di...</td>\n",
       "    </tr>\n",
       "    <tr>\n",
       "      <th>1</th>\n",
       "      <td>2018.06.18</td>\n",
       "      <td>1</td>\n",
       "      <td>2018.0</td>\n",
       "      <td>Unprovoked</td>\n",
       "      <td>USA</td>\n",
       "      <td>Georgia</td>\n",
       "      <td>St. Simon Island, Glynn County</td>\n",
       "      <td>Standing</td>\n",
       "      <td>Adyson McNeely</td>\n",
       "      <td>F</td>\n",
       "      <td>11</td>\n",
       "      <td>14h00  -15h00</td>\n",
       "      <td>NaN</td>\n",
       "      <td>http://sharkattackfile.net/spreadsheets/pdf_di...</td>\n",
       "    </tr>\n",
       "  </tbody>\n",
       "</table>\n",
       "</div>"
      ],
      "text/plain": [
       "  case_number  unnamed:_0    year        type country        area  \\\n",
       "0  2018.06.25           0  2018.0     Boating     USA  California   \n",
       "1  2018.06.18           1  2018.0  Unprovoked     USA     Georgia   \n",
       "\n",
       "                         location  activity             name sex_ age  \\\n",
       "0     Oceanside, San Diego County  Paddling      Julie Wolfe    F  57   \n",
       "1  St. Simon Island, Glynn County  Standing  Adyson McNeely     F  11   \n",
       "\n",
       "            time     species_  \\\n",
       "0          18h00  White shark   \n",
       "1  14h00  -15h00          NaN   \n",
       "\n",
       "                                                href  \n",
       "0  http://sharkattackfile.net/spreadsheets/pdf_di...  \n",
       "1  http://sharkattackfile.net/spreadsheets/pdf_di...  "
      ]
     },
     "execution_count": 35,
     "metadata": {},
     "output_type": "execute_result"
    }
   ],
   "source": [
    "estado_usa = fichero[fichero[\"country\"]==\"USA\"]\n",
    "estado_usa.head(2)"
   ]
  },
  {
   "attachments": {},
   "cell_type": "markdown",
   "metadata": {},
   "source": [
    "- ¿Cuántos ataques de tiburones hubo en USA a lo largo del tiempo? Muestra solo los que hayan ocurrido del 2000 en adelante."
   ]
  },
  {
   "cell_type": "code",
   "execution_count": 37,
   "metadata": {},
   "outputs": [],
   "source": [
    "siglo_xxi = estado_usa[estado_usa[\"year\"] >= 2000]\n",
    "#siglo_xxi.info()"
   ]
  },
  {
   "cell_type": "code",
   "execution_count": 44,
   "metadata": {},
   "outputs": [
    {
     "data": {
      "image/png": "[encoded data removed]",
      "text/plain": [
       "<Figure size 432x288 with 1 Axes>"
      ]
     },
     "metadata": {
      "needs_background": "light"
     },
     "output_type": "display_data"
    }
   ],
   "source": [
    "#Probamos el número de ataques por años a partir del 2000\n",
    "plt.figure()\n",
    "\n",
    "plt.hist(x= siglo_xxi[\"year\"], bins=60)\n",
    "\n",
    "plt.show()"
   ]
  },
  {
   "cell_type": "code",
   "execution_count": 47,
   "metadata": {},
   "outputs": [
    {
     "data": {
      "image/png": "[encoded data removed]",
      "text/plain": [
       "<Figure size 432x288 with 1 Axes>"
      ]
     },
     "metadata": {
      "needs_background": "light"
     },
     "output_type": "display_data"
    }
   ],
   "source": [
    "#\n",
    "plt.figure()\n",
    "\n",
    "plt.violinplot(siglo_xxi[\"year\"], showmedians=True, showmeans=True)\n",
    "\n",
    "plt.show()"
   ]
  },
  {
   "cell_type": "code",
   "execution_count": 57,
   "metadata": {},
   "outputs": [
    {
     "data": {
      "text/plain": [
       "'plt.figure()\\nplt.plot(siglo_xxi[\"year\"])\\nplt.show()'"
      ]
     },
     "execution_count": 57,
     "metadata": {},
     "output_type": "execute_result"
    }
   ],
   "source": [
    "\"\"\"plt.figure()\n",
    "plt.plot(siglo_xxi[\"year\"])\n",
    "plt.show()\"\"\""
   ]
  },
  {
   "attachments": {},
   "cell_type": "markdown",
   "metadata": {},
   "source": [
    "- En función del tipo, ¿cuántos ataques de tiburones de cada tipo hubo en USA? Muestra los resultados en un gráfico de línea."
   ]
  },
  {
   "cell_type": "code",
   "execution_count": 72,
   "metadata": {},
   "outputs": [],
   "source": [
    "cantidad_especies = estado_usa[\"species_\"].value_counts()\n",
    "la = list(cantidad_especies.index)\n",
    "le = list(np.array(cantidad_especies))\n"
   ]
  },
  {
   "cell_type": "code",
   "execution_count": 84,
   "metadata": {},
   "outputs": [
    {
     "data": {
      "text/plain": [
       "Shark involvement not confirmed                       53\n",
       "White shark                                           43\n",
       "4' shark                                              38\n",
       "Invalid                                               31\n",
       "Shark involvement prior to death was not confirmed    30\n",
       "                                                      ..\n",
       "Questionable Incident                                  1\n",
       "Mako shark, 1.8 m [6']                                 1\n",
       "2.4 m to 3.7 m [8' to 12'] shark                       1\n",
       "9'2\" white shark                                       1\n",
       "Said to be a 7.6 m [25'] shark                         1\n",
       "Name: species_, Length: 635, dtype: int64"
      ]
     },
     "execution_count": 84,
     "metadata": {},
     "output_type": "execute_result"
    }
   ],
   "source": [
    "cantidad_especies"
   ]
  },
  {
   "cell_type": "code",
   "execution_count": 80,
   "metadata": {},
   "outputs": [
    {
     "name": "stdout",
     "output_type": "stream",
     "text": [
      "<class 'pandas.core.frame.DataFrame'>\n",
      "Int64Index: 2200 entries, 0 to 6110\n",
      "Data columns (total 14 columns):\n",
      " #   Column       Non-Null Count  Dtype  \n",
      "---  ------       --------------  -----  \n",
      " 0   case_number  2199 non-null   object \n",
      " 1   unnamed:_0   2200 non-null   int64  \n",
      " 2   year         2200 non-null   float64\n",
      " 3   type         2200 non-null   object \n",
      " 4   country      2200 non-null   object \n",
      " 5   area         2197 non-null   object \n",
      " 6   location     2151 non-null   object \n",
      " 7   activity     2069 non-null   object \n",
      " 8   name         2171 non-null   object \n",
      " 9   sex_         2103 non-null   object \n",
      " 10  age          1496 non-null   object \n",
      " 11  time         1379 non-null   object \n",
      " 12  species_     1313 non-null   object \n",
      " 13  href         2200 non-null   object \n",
      "dtypes: float64(1), int64(1), object(12)\n",
      "memory usage: 257.8+ KB\n"
     ]
    }
   ],
   "source": [
    "estado_usa.info()"
   ]
  },
  {
   "cell_type": "code",
   "execution_count": 75,
   "metadata": {},
   "outputs": [],
   "source": [
    "usa_copia = estado_usa.copy()"
   ]
  },
  {
   "cell_type": "code",
   "execution_count": 77,
   "metadata": {},
   "outputs": [],
   "source": [
    "usa_copia = usa_copia[\"species_\"].dropna()"
   ]
  },
  {
   "cell_type": "code",
   "execution_count": 82,
   "metadata": {},
   "outputs": [
    {
     "data": {
      "text/plain": [
       "array(['White shark', \"Lemon shark, 3'\", \"Bull shark, 6'\", \"6' shark\",\n",
       "       \"Tiger shark, 12'\", 'Tiger shark', 'White shark, 4.6 m',\n",
       "       'Spinner shark, 4 to 5 feet', 'Tiger shark, 8 to 10 feet',\n",
       "       \"8' shark\", \"5' shark\", 'Questionable', \"4' to 5' shark\",\n",
       "       \"5' to 6' shark\", 'Nurse shark', \"White shark, 5' to 7'\",\n",
       "       'Possibly a juvenile blacktip shark', \"4' shark\",\n",
       "       \"White shark, 10'\", 'A small shark', \"Sandtiger shark  2'\",\n",
       "       '\"A small shark\"', 'Shark involvement not confirmed',\n",
       "       \"White shark, 11' to 13'\", \"White shark, 8' to 10'\",\n",
       "       \"White shark, 9'\", \"Bull shark, 4' to 5'\", 'No shark invovlement ',\n",
       "       \"3' shark\", 'Shark involvement highly doubtful',\n",
       "       'No shark invovlement - it ws a publicity stunt',\n",
       "       \"Bull shark, 5' to 7'\", \"White shark, female, 14'\",\n",
       "       \" 6' to 8' shark\", \"3' to 4' shark\", \"Tiger shark, 10'\",\n",
       "       \"Tiger shark, 10' \", 'Blacktip shark', \"Nurse shark, 4'\",\n",
       "       \"White shark, 10' to 12'\", 'dogfish shark', \"3' to 5' shark\",\n",
       "       \"Said to involve an 8' shark but more likely damage caused by debris\",\n",
       "       \"Blacktip shark, 4'\", \"Nurse shark, 2'\", \"Bull shark, 7'\",\n",
       "       \"Reef shark, 5'\", 'Bull sharks x 2', \"Tiger shark, 14'\",\n",
       "       \"9' shark\", \"Spinner shark, 7'\", \"Spinner shark, 5'\",\n",
       "       'No shark involvement', \"Tiger shark, 7'\", 'Hammerhead sp.',\n",
       "       \"Tiger shark, 13' \", \"Blacktip shark, 4' to 5'\",\n",
       "       \"Blacktip shark, 5' to 6'\", \"White shark, 19'\", 'juvenile shark',\n",
       "       \"Tiger shark, 13'\", 'Hammerhead shark', \"White shark, 11' to 12'\",\n",
       "       'Hammerhead shark.', \"4' shark?\", \"White shark, 10' to 12' \",\n",
       "       \"White shark, 13'\", \"Hammerhead shark. 6' to 7'\",\n",
       "       \"Blacktip or spinner shark, 4'\",\n",
       "       \"Thought to involve a 3' to 4' shark, but shark involvement not confirmed\",\n",
       "       'Mako shark, 100-lb', \"White shark, 7'\",\n",
       "       'Shark involvement not cofirmed', \"6' to 7' shark\", 'Bull shark',\n",
       "       'Sandtiger shark', 'small shark', 'Mako shark', \"Bull shark, 5'\",\n",
       "       'small nurse shark', '3- to 4-foot shark',\n",
       "       'Blue shark, 8 to 9 feet', 'Tiger shark, 8 to 12 feet', \"2' shark\",\n",
       "       '1.5 m shark', \"12' to 14' shark\", \"Bull shark, 3' to 4'\",\n",
       "       \"White shark, 18' to 20'\", \"8' to 10' shark\",\n",
       "       \"White shark, 12' to 14'\", 'Spinner shark',\n",
       "       'Spinner shark or blacktip shark', \"4' to 6' shark\",\n",
       "       \"Bull shark, 4.5' \", \" Bull shark, 8'\", \" Bull shark, 5'\",\n",
       "       \"4' tp 5' shark\", 'Possibly juvenile tiger shark',\n",
       "       \"6' to 8' shark\", \" White shark, 7' \", \" Sandbar shark, 3' to 4'\",\n",
       "       'Blacktip Reef shark ', 'Blacktip or spinner shark?',\n",
       "       'Oceanic whitetip shark', \"Tiger shark, 10' to 12'\",\n",
       "       \"White shark, 10 '\", \"Whitetip reef shark, 4' to 6'\",\n",
       "       'Nurse shark?', 'Salmon shark', 'Tiger shark?', \"Bull shark, 8'\",\n",
       "       \"Bull shark, 6' to 8'\", \"Tiger shark, 8' to 10' \",\n",
       "       \"Possibly a Bull shark, 3'\", \"Lemon shark, 4'\", 'Galapagos shark',\n",
       "       'Invalid', 'a small shark', 'reef shark?', \"Tiger shark, 15'\",\n",
       "       \"10' shark\", \"2' to 3' shark\", \"Tiger shark, 8'\",\n",
       "       \"Tiger shark, 10' to 12' \", \"White shark, 15' to 16' \",\n",
       "       \"3.5' to 4' shark\", \"Lemon shark, 4' to 5' \",\n",
       "       'Thought to involve a white shark', \"14' to 18'shark\",\n",
       "       'possibly a bull shark', 'a small reef shark',\n",
       "       'small blacktip shark?', 'Blacktip shark ', '18\" to 24\" shark',\n",
       "       \"Tiger shark, 8' to 9' \", \"Tiger shark, 10'  \",\n",
       "       \"Possibly a 5' to 6' bull shark\", \"7' to 8' shark \",\n",
       "       \"White shark, 15' to 16'\", \"White shark, 15'\", \"10' to 12' shark\",\n",
       "       \"6' shark, possibly a blactip or spinner shark\",\n",
       "       \"Possibly a 5' to 6' sandtiger shark\", \"White shark, 5' k\",\n",
       "       \"Sevengill shark, 6' to 8'\", \"Sandbar shark, 8'\",\n",
       "       \"Bull shark, 12'\", \"1' to 2' shark\", 'Blacktip shark pup',\n",
       "       \"Porbeagle shark, 8' \", \"White shark, 14' to 18' \",\n",
       "       'Possibly a small blacktip shark', \"Sandtiger shark, 4' to 5'\",\n",
       "       'A small spinner shark', 'Nurse shark, juvenile ',\n",
       "       \"Blue shark, 7'\", \"Lemon shark, 6'\", \"14' shark\",\n",
       "       \"Spinner shark, 6'\", \"Sandtiger shark, 8'\", 'Thresher shark',\n",
       "       'Shark involvement prior to death not confirmed',\n",
       "       \"White shark, 5' to 6' juvenile \", 'Tiger shark, 12',\n",
       "       'Bull shark?', \"Nurse shark, 6'\",\n",
       "       'Shark involvement probable, but not confirmed', \"5' to 8' shark\",\n",
       "       'blacktip or spinner shark', \"White shark, 12' to 15' female\",\n",
       "       'Thought to involve a cookie cutter shark', \"+3' shark\",\n",
       "       \"2' to 3' juvenile shark\", \"White shark, 14' to 16' \",\n",
       "       \"8' bull shark or Caribbean reef shark\", \"2' to 3' reef shark\",\n",
       "       \"4.5 to 5' shark\", \"White shark, 12' to 15'\", \"1.5' to 2' shark\",\n",
       "       \"2.5' shark\", \"Nurse shark, 10'\", \"Blacktip shark, 5'\",\n",
       "       'Shark involvement prior to death was not confirmed',\n",
       "       \"9.5' shark?\", \"Nurse shark, 2' to 3' \",\n",
       "       'Possibly a spinner shark', \"White shark, 12'\", 'Sand shark',\n",
       "       \"Possibly a 6' bull shark\", ' ', \"Possibly a 10' bull shark\",\n",
       "       \"White shark, 12' \", \"Lemon shark, 6' female \",\n",
       "       'A 10-year-old 94-pound pregnant blacktip reef shark',\n",
       "       \"Tiger shark, 14' \", \"Bull shark, 10' \", '24\" to 30\" shark',\n",
       "       \"6' to 8' shark, possibly a tiger shark\",\n",
       "       \"White shark, 12' to 15' \", '2 m to 3 m shark',\n",
       "       \"White shark, 16' \", \"1' to 4' shark\", \"3' to 3.5' shark\",\n",
       "       'small catsharks', 'White shark?',\n",
       "       'Thought to involve a mako shark, but possibly a sea lion',\n",
       "       \"Bull shark, 4' to 5' \", 'Angel shark, 1.2m ',\n",
       "       \"5' to 6' spinner or bull shark\", '1.8 m blacktip \"reef\" shark',\n",
       "       \"Possibly a 1' to 3' blacktip or spinner shark\",\n",
       "       \"Tiger shark, 8' to 12'\", \"Tiger shark, 15' female\",\n",
       "       \"Grey reef shark, 5' to 8' \", \"Bull shark, 4' to bull shark\",\n",
       "       \"5' to 7' shark\", \"12' to 18' shark\", \"12' to 14' white shark\",\n",
       "       \"18' white shark\", \"Tiger shark, less than 10'\",\n",
       "       'juvenile white shark',\n",
       "       'Possibly a sandbar shark or small blacktip shark',\n",
       "       \"1.8 m [6'] shark\", \"[4.5' to 5'] shark\", \"[4' to 5']\",\n",
       "       \"1.8 m [6'] bull shark\",\n",
       "       'Unknown, but it was reported that a shark tooth was recovered from the wound',\n",
       "       \"Mr. Burgess of ISAF announced the injury was the bite of a 1.8 m [6'], 2- to 3-year old white shark. Subsequent investigation revealed there was  no shark involvement in this incident\",\n",
       "       '\"small shark\"', '18\" to 36\" shark', \"Tiger shark, 3 m [10']\",\n",
       "       \"1.8 m [6'] blacktip shark\", 'small hammerhead shark',\n",
       "       \"Sandtiger shark, 2.1 m [7'] \", \"Nurse shark, 3' \",\n",
       "       \"Tiger shark, 2.4 m [8']\", \"1.8 m [6'] Caribbean reef shark\",\n",
       "       \"5.5 m [18'] white shark\", \"1.8 m to 2.4 m [6' to 8'] white shark\",\n",
       "       \"Tiger shark, 2.4 m to 3.7 m [8' to 12'] \",\n",
       "       'Shark involvement questionable', \"2.4 m [8'] shark\",\n",
       "       \"0.9 m to 1.2 m [3' to 4'] white shark\",\n",
       "       \"4.9 m to 5.5 m [16' to 18'] white shark\", \"1.2 m [4'] shark\",\n",
       "       \"1.2 m to 1.5 m [4' to 5'] shark\", '9\\'2\" white shark',\n",
       "       \"0.9 m to 1.5 m [3' to 5'] shark\",\n",
       "       \"2.4 m to 3.7 m [8' to 12'] shark\", \"Mako shark, 1.8 m [6']\",\n",
       "       \"1.2 m [4'] bull shark\", 'bull shark',\n",
       "       \"Tiger shark, 2.4 m to 3 m [8' to 10'] \", 'Questionable Incident',\n",
       "       '1.2 m [4\\'] \"grey-colored shark\"', 'Shark involvement doubtful',\n",
       "       \"7' shark\", \"4.5 m to 5.5 m [15' to 18'] white shark\",\n",
       "       \"1.5 m to 1.8 m [5' to 6'] shark\", \"8' great hammerhead shark\",\n",
       "       'Unidentified species', \"106 cm [3.5']  shark\",\n",
       "       '\\x93small brown shark\\x94', \"3.7 m to 4.3 m [12' to 14'] shark\",\n",
       "       '\"sand shark\"',\n",
       "       \"1.8 m [6'] reef shark - or a 2.1 m to 2.4 m [7' to 8'] grey-colored shark\",\n",
       "       \"0.9 m to 1.2 m [3' to 4'] shark\", 'A \\x93small\\x94 shark',\n",
       "       '15 cm to 20 cm [6\" to 8\"] bite diameter just below left knee',\n",
       "       \"60 cm [2'] captive shark\", 'Species unidentified',\n",
       "       \"3 m to 4.5 m [10' to 15'] white shark\",\n",
       "       \"2.4 m to 3 m [8' to 10'] grey colored shark\",\n",
       "       'Blacktip or spinner shark', \"3.5' to 4.5' shark\",\n",
       "       \"1.2 m [4'] blacktip shark\", \"3 m to 3.7 m [10' to 12'] shark\",\n",
       "       \"1' to 2' hammerhead or bonnethed shark\",\n",
       "       \"0.9 m  to 1.2 m [3' to 4'] shark\", \"Nurse shark, 1.5 m [5'] \",\n",
       "       \"1.2 m [4'] blacktip or sandbar shark\",\n",
       "       \"Bull shark, 1.8 m to 2.1 m [6' to 7'] \", 'Mako shark, 400-lb ',\n",
       "       \"1.2 m to 1.5 m [4' to 5'] shark, possibly a bull shark\",\n",
       "       \"Tiger shark, 2.4 m to 2.7 m [8' to 9']  \",\n",
       "       \"0.9 m to 1.2 m [3' to 4'] shark; Tooth fragment recovered from hand\",\n",
       "       '\\xa0 ', \"3.7 m to 4.3 m [12' to 14'] white shark\", '1 m  shark',\n",
       "       \"3' blacktip shark\", \"2.1 m to 2.4 m [7' to 8'] shark\",\n",
       "       \"3'  shark\", \"0.9 m [3'] shark\", 'Nurse shark, 1m ',\n",
       "       \"Spinner shark, 3' to 4' \", \"Tiger shark, 1.8 m [6'] \",\n",
       "       'Questionable incident - shark bite may have precipitated drowning',\n",
       "       \"2' to 3.5' shark\",\n",
       "       'A large white shark was filmed by divers on a local wreck 2 days prior to the incident.',\n",
       "       \"1.5 m [5'] shark\", 'Possibly  a blacktip or spinner shark',\n",
       "       \"3' shark, possibly  a blacktip or spinner shark\",\n",
       "       \"Blacktip shark, 5' to 6' \", \"Mako shark, 14' \",\n",
       "       \"0.9 m  [3'] shark\", \"Bull shark, 2.3 m [7.5'] \",\n",
       "       \"White shark, 2.4 m to 3 m [8' to 10'] \",\n",
       "       \"1.2 m to 1.5 m [4.5' to 5'] shark\",\n",
       "       'Possibly a juvenile blacktip or spinner shark',\n",
       "       \"Possibly a 1.5 m [5'] blacktip or spinner shark\",\n",
       "       '1 m shark, possibly whitetip reef shark',\n",
       "       \"Spinner shark, 1.2 m to 1.5 m [4' to 5'] \",\n",
       "       '1.8 m to 2.4 m [6\\' to 8\\'] \"black finned shark\"',\n",
       "       \"1.2 m to 1.8 m [4' to 6'] shark\",\n",
       "       \"Tiger shark, 1.8 m to 2.4 m [6' to 8'] \",\n",
       "       \"2.1 to 2.4 m [7' to 8'] shark\", \"Blacktip shark, 2' \",\n",
       "       \"White shark, 4.3 m [14']\", \"60 cm to 90 cm [2' to 3'] shark\",\n",
       "       \"A 2' shark was seen in the area by witnesses\",\n",
       "       \"Thought to involve a 2.7 m [9'], 400-lb bull shark\",\n",
       "       'Tiger shark, 3.7 m to 4.5 m [12\\' to 14\\'9\"]  ',\n",
       "       \"Blacktip shark, 2.4 m to 3 m [8' to 10'] \",\n",
       "       'Shark involvement  not confirmed', \"Nurse shark, 1.5 m [5']\",\n",
       "       \"1.8 m [6'] grey-colored shark\",\n",
       "       \"Lemon shark, 2.1  m to 2.4 m [7' to 8'] \",\n",
       "       \"Tiger shark, 0.9 m to 1.5 m [3' to 5'] ?\",\n",
       "       \"Nurse shark, 1.2 m [4'] \",\n",
       "       \"0.9 m [3'] shark,  probably a blacktip or spinner shark\",\n",
       "       \"Bull shark, 2.4 m [8']\",\n",
       "       \"Blacktip shark, 1.2 m to 1.8 m [4' to 6'] \",\n",
       "       \"Shortfin mako shark, 3 m to 3.4 m [10' to 11'] \",\n",
       "       \"Lemon shark, 2.7 m [9'] \", 'Unidentified', '\"a small shark\"',\n",
       "       \"Bull shark, 2.1 m [7']\", \"Blacktip shark, 1.8 m [6'] \",\n",
       "       \"3.7 m to 4.6 m [12' to 15'] shark seen in the vicinity\",\n",
       "       'Basking shark', 'A \"small shark\"',\n",
       "       \"White shark, 5 m  to 6 m [16.5' to 20'] \",\n",
       "       \"White shark, 5 m to 6 m [16.5' to 20'] \", \"Dusky shark, 12' \",\n",
       "       \"4.5' to 5' shark\",\n",
       "       \"Lemon shark, 1.5 m [5'], identified  by the surfer\",\n",
       "       \"1.8 m [6'] shark, possibly a blacktip\", \"5 m [16.5'] white shark\",\n",
       "       \"Nurse shark, 0.9 m [3'] \", \"5' spinner shark\", 'sandtiger shark',\n",
       "       \"Tiger shark, 4 m to 4.3 m [13' to 14'] \",\n",
       "       'Possibly a blacktip shark', 'small blacktip shark', '1 m shark',\n",
       "       '\"juvenile shark\"', \"1.2 m [4'] shark (spinner shark?)\",\n",
       "       'Possibly a sand shark', \"3 m to 5 m [10' to 16.5'] white shark\",\n",
       "       \"5.5 m to 6 m [18' to 20'] white shark\", '\"a young shark\"',\n",
       "       \"Tiger shark, 2.4 m [8'] \", \"6 m [20'] white shark\",\n",
       "       \"1.8 m to 2.1 m [6' to 7'] hammerhead shark\",\n",
       "       \"60 cm to 90 cm [2' to 3'] blacktip or spinner shark\",\n",
       "       'nurse shark', \"Nurse shark, 0.9 m  [3'] \",\n",
       "       'Possibly a tiger shark', \"1.2 m to 1.5 m [4' to 5']   shark\",\n",
       "       \"1.5 to 1.8 m [5' to 6'] shark\", \"4 m [13'] white shark\",\n",
       "       \"3 m to 3.7 m [10' to 12'] bull shark\",\n",
       "       \"3 m to 4 m [10' to 13'] white shark\", '\"sand\" shark',\n",
       "       \"Two 1.2 m to 1.5 m [4' to 5'] sharks\",\n",
       "       'White shark (tooth fragment recovered)',\n",
       "       \"Tiger shark, 3.7 m [12'] \", 'Possibly a bull shark',\n",
       "       \"5 m to 5.5 m [16.5' to 18'] white shark\", \"2.7 m [9'] shark\",\n",
       "       'Thought to involve a small sand shark', 'Small shark',\n",
       "       \"1.2 m [4'] spinner shark\", \"2.1 m [7'] shark\",\n",
       "       \">1.8 m [6'] shark\", \"Lemon shark, 4' \",\n",
       "       \"On 11-Jan-1994, his remains washed ashore. A 2.4 m [8'] tiger shark thought to be involved\",\n",
       "       \"4 m to 5 m [13' to 16.5'] white shark\", \"3 m [10'] bull shark\",\n",
       "       \">6 m [20'] white shark\",\n",
       "       '>6 m white shark, according to witnesses',\n",
       "       \"5.5 m to 6 m [18' to 20']  white shark\",\n",
       "       \"1.8 m to 2.4 m [6' to 8'] shark, tooth fragments recovered \",\n",
       "       'Thought to involve a tiger shark',\n",
       "       \"Tiger shark, 3.7 m [12'], (tooth fragment recovered from wound)\",\n",
       "       'Lemon shark', \"Tiger shark, 3 m to 4.9 m [10' to 16'] \",\n",
       "       \"Mako shark, 1.8 m [6']  \", \"6' to 7' blacktip shark\",\n",
       "       '5 m to 6 m white shark', 'Unidentified shark',\n",
       "       \"Tiger shark, 3 m to 3.7 m [10' to 12'] \",\n",
       "       \"2.5 m [8.25'] white shark\", \"Tiger shark, 4.3 m [14'] \",\n",
       "       \"4 m to 5 m [13' to 16.5']  white shark \", 'Questionable incident',\n",
       "       \"Nurse shark, 3', 20-lb \",\n",
       "       \"Said to involve a 6 m to 7 m [20' to 23'] white shark\",\n",
       "       \"Tiger shark, 2.4 m 3.4 m [8' to 11']  \",\n",
       "       \"5 m to 6 m [16.5' to 20'] white shark\", 'sand shark',\n",
       "       'Lemon shark, 30-lb ', \"2.1 m [7'], 140-lb reef shark\",\n",
       "       \"2.7 m [9'] bull or lemon shark\", \"7' female shark\",\n",
       "       '\"Shark had a very large girth\"', \"1.8 m [6'] shark \",\n",
       "       \"4' spinner shark\", \"1.8 m to 2.4 m [6' to 8'] shark\",\n",
       "       \"2.5 m to 3 m [8.25' to 10']  white shark\",\n",
       "       'Shark involvement prior to death could not be determined',\n",
       "       \"Two sharks seen in vicinity: 2.4 m & 4.25 m  [8' & 14'] TL\",\n",
       "       'Shark involvement suspected but not confirmed', '150-lb shark',\n",
       "       '4 to 5 m white shark', \"4 m to 5 m [13' to 16.5']  white shark\",\n",
       "       'Sandbar shark', 'Blue Shark ', \"1.8 m [6'] sandtiger shark\",\n",
       "       '5 m to 7 m white shark',\n",
       "       \"1.8 m to 2.4 m [6' to 8'] hammerhead shark\",\n",
       "       \"Tiger shark, 1.8 m [6']\", \"2.4 m to 3 m [8' to 10'] white shark\",\n",
       "       'Sand shark?', \"2 m [6.75'] shark\", '5.7 m white shark',\n",
       "       \"12' shark\", \"1.5 m [5'] blacktip shark\",\n",
       "       \"1.8 m to 2.1 m [6' to 7'] spinner or blacktip shark\",\n",
       "       \"Lemon shark, 1.8 m to 2.4 m [6' to 8'], tooth fragment recovered\",\n",
       "       '5.2 to 5.8 m white shark',\n",
       "       \"2 m to 2.5 m [6.75'  to 8.25'] sixgill or sevengill shark\",\n",
       "       \"Thought to involve a Tiger shark,  3.7 m [12'] \",\n",
       "       \"6', 100-lb shark\", '1.8 m silky shark',\n",
       "       'Possibly a small hammerhead shark',\n",
       "       \"Tiger shark, 2.4 m to 2.7 m [8' to 9'] \",\n",
       "       'Shark involvement not confirmed; officials considered barracua',\n",
       "       \"3 m to 4 m [10' to 13']  white shark\", 'Hammerhead shark?+O2356',\n",
       "       'small blue shark', '4.5 m to 5 m white shark',\n",
       "       \"1.2 m to 1.5 m [4' to 5'] hammerhead shark\", 'Sevengill shark',\n",
       "       \"4.5' shark\", \"6' to 8' bull shark\", \"3.5' hammerhead shark\",\n",
       "       'Blue sharks',\n",
       "       'Questionable incident; reported as shark attack but thought to involve a pinniped instead ',\n",
       "       \"4.5 m to 5.5 m [14.7' to 18'] white shark\",\n",
       "       'Reported as a shark attack, the story was a hoax',\n",
       "       '1.2 m to 1.5 m [4\\' to 5\\'] \"reef shark\"',\n",
       "       \"7 m [23'] white shark\", \"Tiger shark, 3.7 m [12']\",\n",
       "       '2.1 m [7\\'] shark with \"a very flat head\\x94 that had followed the boat for 3 days',\n",
       "       'Said to involve a tiger shark or a hammerhead shark',\n",
       "       \"1.8 m [6'] shark, species identity questionable\",\n",
       "       'Shark involvement prior to death remains unconfirmed',\n",
       "       '\"sandshark\"',\n",
       "       \"1.2 m to 1.5 m [4' to 5'] bull, sandbar or dusky shark\",\n",
       "       'C. maculpinnis or C. limbatus', \"4' to 8' shark\", 'Blue shark',\n",
       "       \"White shark, 4 m [13'] \",\n",
       "       \"White shark, 4 m to 5 m [13' to 16.5'] \", '2 m [6\\'9\"] shark',\n",
       "       \"White shark, 5.5 m to 6 m [18' to 20']  \", 'Bull shark, 8',\n",
       "       \"White shark, 5.5 m [18'] \",\n",
       "       \"2.1 m [7'] lemon shark or bull shark\",\n",
       "       \"White shark, 3 m to 4 m [10' to 13'] \", \"Tiger shark, 6' \",\n",
       "       'White shark, 4.5 m ', 'Shark involvement unconfirmed',\n",
       "       \"White shark, 5.8 m [19'] \", 'White shark, 5m to 6m',\n",
       "       \"White shark, 5.5 m to 6 m [18' to 20'] \",\n",
       "       'White shark, 4 m to 5 m ',\n",
       "       \"White shark, 5 m to 6 m [16.5 to 20'] \", 'White shark, 5 m ',\n",
       "       \"small sharks'\", \"3.7 m [12'] sharks\", \"White shark, 5 m [16.5']\",\n",
       "       \"1.5 m to 1.8 m [5' to 6']  blacktip shark\",\n",
       "       \"1.2 m to 1.8 m [4' to 6'] shark observed in area\",\n",
       "       'Oceanic whitetip shark x 2', \"White shark, 6 m [20'] \",\n",
       "       \"White shark, 4.4 m to 5 m [14.5' to 16.5'] \",\n",
       "       \"White shark, 5 m to 6 m [16.5' to 20']  \", '\"Dog shark\"',\n",
       "       \"7.5' shark\", \">2.4 m [8'] shark\",\n",
       "       \"White shark, 4.3 m 4.9 m [14' to 16'] \",\n",
       "       \"White shark, 5 m [16.5'] \", \"Lemon shark, 9' \",\n",
       "       'White shark, identified by tooth fragments in surfboard',\n",
       "       'a small hammerhead shark', \"4m [13'] shark\",\n",
       "       \"2.7 m [9'] silky shark\", \"5' blue shark\",\n",
       "       'Nurse shark, 106 cm, 28-lb, male ', 'Nurse shark, 1 m ',\n",
       "       \"Nurse shark, 2.5' \", 'Spinner or blacktip sharks',\n",
       "       'Lemon shark or sandtiger shark',\n",
       "       \"Local authorities speculated that the water was too cold for sharks, but a 2.1 m [7'], 200-lb pregnant sandbar shark was caught next day\",\n",
       "       \"1.2 m [4'] hammerhead shark\", \"White shark, 3 m [10'] \",\n",
       "       \"Nurse shark, 0.94 m to 1.2 m [3' to 4'] \", 'white shark',\n",
       "       \"1.7 m [5.5'] shark\", \"Silky shark, 1.9 m [6.5']\", '500-lb shark',\n",
       "       'Hand found in gut of 2.9 m to 3.3 m [9\\'7\" to 10\\'11\"] Galapagos shark, C. galapagensis',\n",
       "       \"3.7 to 4.5 m [12' to 15'] shark seen in vicinity\",\n",
       "       \"White shark, 4.3 m to 4.9m [14' to 16']\",\n",
       "       \"Horn shar,k Heterodontus francisci, 1.2 m [4'] \", 'Unknown',\n",
       "       \" Sevengill  shark, 1.2 m [4'] \", '43\" shark',\n",
       "       'Hammerhead shark, 500-llb ', \"2.4 m [8'], 600-lb shark\",\n",
       "       'Lemon shark, 1164 mm, immature male, identified by  V.G. Springer',\n",
       "       \"Mako shark, 1.8 m to 2.1 m [6' to 7']  with hook & wire leader caught in mouth\",\n",
       "       'Lemon shark, 1.8 m [6\\'] male, N. breviostris, identified by W.A. Stark II, later the same day a 6\\'8\" pregnant female lemon shark bit the bow of the boat',\n",
       "       \"White shark, 4.9 m [16'] \", \"1.2 m [4'], possibly  larger shark\",\n",
       "       'According to Benjamin, the injury was inflicted by a barracuda, not a shark',\n",
       "       'Shark involvement prior to deaths was not confirmed',\n",
       "       \"Blue shark, 1.5 m [5'] \",\n",
       "       \"White shark, 5 m [16.5'], identified by Dr. W. I. Follett on tooth marks\",\n",
       "       'A hammerhead shark, then 8 to 10 other sharks were said to be  involved',\n",
       "       'Said to involve white shark, but species identify questionable',\n",
       "       \"White shark, 3.5 m [11.5'], identified by W. I.  Follett on tooth fragments\",\n",
       "       \"3.7 m [12'] shark\", \"5.5' shark\", \"Hammerhead shark, 9' \",\n",
       "       \"White shark, 3 m to 5 m [10' to 15'] \",\n",
       "       \"Hammerhead shark, 1.8 m [6'] S. zygena identified by C. Limbaugh on description\",\n",
       "       \"Hammerhead shark, 2.4 m [8'] \", \"Hammerhead shark, 3 m [10'] \",\n",
       "       \"Blue shark, 1.8 m [6'] \",\n",
       "       'Nurse shark, 60 cm [24\"], identified by Dr. L.P. L. Schultz on photograph',\n",
       "       \"Reported to involve a White shark, 6 m to 7m [20' to 23'] \",\n",
       "       \"White shark, 3 m [10']; identifed by Dr. W.I. Follett on tooth marks\",\n",
       "       \"Tiger shark 4.3 m [14'] \",\n",
       "       \"Tiger shark, 4.6 m to 7.6 m [15' to 25'] \",\n",
       "       \"Tiger shark, 1.5 m to 1.8 m [5' to 6'] \",\n",
       "       \"Nurse shark, 1.5 m [5']  identified by Dr. E. Clark on description of shark\",\n",
       "       \"Nurse shark, 2.1 m [7']  identified by Dr. E. Clark on color & tooth impressions\",\n",
       "       \"Nurse shark, 1.1 m [3.5'] \",\n",
       "       \"2.7 m [9'] bull shark, identified by Capt. W. Gray\",\n",
       "       'Said to involve a 1 m  white shark, but thought  that it was more likely a blue shark',\n",
       "       \"4 m [13'] shark\", \"1.2 m  [4'] shark\",\n",
       "       'Said to involve a large mako shark', 'a sand shark',\n",
       "       \"White shark, 2.7 m [9'] \", '8-lb shark', '40-lb sand shark',\n",
       "       \"5' thresher or blue shark. The shark  was killed following the incident\",\n",
       "       \"0.7 m [2.5'] sand shark\",\n",
       "       \"Leopard shark, 3' Triakis semifasciata, identified by J.W. DeWitt (1955)\",\n",
       "       \"White shark, 5 m to 6 m [16.5' to 20] \",\n",
       "       \"Blacktip reef shark, 1.5 m [5'] \", \"a small shark'\",\n",
       "       '80-lb sand shark', \"Hammerhead shark, 1.5 m [5'] \",\n",
       "       \"3 m [10'] shark seen in vicinity\", \"White shark,4.6 m [15'] \",\n",
       "       \">6.7 m [22']  shark\", \"Hammerhead shark, 5' \",\n",
       "       \"Tiger shark, 1.5 m [5'] \",\n",
       "       'White shark, 2 m to 4 m [6\\'9\" to 13\\'] ', \"0.7 m [2.5'] shark\",\n",
       "       'Alleged to involve a white shark \"with little yellow eyes\"',\n",
       "       'Bonita sharkk, 200-lb', 'Possibly C. leucas',\n",
       "       'Tiger shark, 4.5 to 5.5 m [14\\'9\" to 18\\'], 2000-lb  ',\n",
       "       \"1.8 m [6'] blacktip shark or spinner shark\",\n",
       "       'Shark involvement prior to death unconfirmed', '\"small sharks\"',\n",
       "       '100-lb shark', \"Mako shark (aka bonito shark) 1.2 m [4'] \",\n",
       "       \"3 m [10'] shark\", \"18' shark\", \"6 m [20']  shark\",\n",
       "       'White shark (identified by Dr. Hugh Smith) ',\n",
       "       \"Blue shark, 8' [2.4 m], 500-lb \", '650-lb shark',\n",
       "       \"4.6 m [15'] shark\", 'Blue shark, 4.5 m [14\\'9\"]',\n",
       "       \"Thought to involve a 2.4 m [8'] lemon shark; two 2.4 m lemon sharks caught within 100 yds of the site a week prior to & a week after this incident\",\n",
       "       'Possibly a bull shark or tiger shark', \"16' 800-lb shark\",\n",
       "       '250-lb \"dog shark\"',\n",
       "       \"Hammerhead shark, 2.4 m [8'], according to lifeguard Sam Barrows\",\n",
       "       '9-foot shark', '\"Blue nose sharks\"',\n",
       "       '\"whiptail shark\" (thresher shark?)',\n",
       "       \"1.5 m [5'] white shark or sevengill shark\",\n",
       "       \"White shark, 3.8 m [12.5']  \",\n",
       "       \"According to Carlsmith, the shark's mouth was 3' wide\",\n",
       "       \"Mako shark, 1.9 m [6.5']. Tooth fragment recovered & identified by J.T. Nichols.\",\n",
       "       '\"A pack of 6 sharks\"',\n",
       "       \"3.7 m [12'], 1200-lb shark. Shark caught & its jaw exhibited at the Carnegie Museum\",\n",
       "       \"Said to involve a 2.7 m [9'] shark\",\n",
       "       \"Thought to involve a 2.6 m [8.5'] white shark\",\n",
       "       \"Reported to involve a 3.7 m [12'] shark, possibly a white shark\",\n",
       "       \"13' shark\", \"Said to involve a 2.4 m [8'] hammerhead shark\",\n",
       "       'Shortfin mako shark, 175-lb ', 'Remains recovered 5 days later',\n",
       "       'Fishermen recovered partial remains from shark a week later',\n",
       "       \"20' shark\", '13\\'10\" shark', \"Shovelnose shark, 5'\",\n",
       "       '5\\'7\" shark',\n",
       "       'Shark was said to \\x93have a very rough ½\\x94-thick skin\\x94',\n",
       "       \"3 m [10'] sharks\", 'a school of sharks', '68\" shark',\n",
       "       'Shark involvement prior to deaths unconfirmed',\n",
       "       'Tiger shark (pregnant)', \"Said to be a 7.6 m [25'] shark\"],\n",
       "      dtype=object)"
      ]
     },
     "execution_count": 82,
     "metadata": {},
     "output_type": "execute_result"
    }
   ],
   "source": [
    "usa_copia.unique()"
   ]
  },
  {
   "cell_type": "code",
   "execution_count": 83,
   "metadata": {},
   "outputs": [
    {
     "name": "stderr",
     "output_type": "stream",
     "text": [
      "/home/marina/anaconda3/lib/python3.9/site-packages/matplotlib/backends/backend_agg.py:240: RuntimeWarning: Glyph 147 missing from current font.\n",
      "  font.set_text(s, 0.0, flags=flags)\n",
      "/home/marina/anaconda3/lib/python3.9/site-packages/matplotlib/backends/backend_agg.py:240: RuntimeWarning: Glyph 148 missing from current font.\n",
      "  font.set_text(s, 0.0, flags=flags)\n",
      "/home/marina/anaconda3/lib/python3.9/site-packages/matplotlib/backends/backend_agg.py:203: RuntimeWarning: Glyph 147 missing from current font.\n",
      "  font.set_text(s, 0, flags=flags)\n",
      "/home/marina/anaconda3/lib/python3.9/site-packages/matplotlib/backends/backend_agg.py:203: RuntimeWarning: Glyph 148 missing from current font.\n",
      "  font.set_text(s, 0, flags=flags)\n"
     ]
    },
    {
     "data": {
      "image/png": "[encoded data removed]",
      "text/plain": [
       "<Figure size 432x288 with 1 Axes>"
      ]
     },
     "metadata": {
      "needs_background": "light"
     },
     "output_type": "display_data"
    }
   ],
   "source": [
    "plt.figure()\n",
    "plt.plot(la, le)\n",
    "plt.show()"
   ]
  },
  {
   "attachments": {},
   "cell_type": "markdown",
   "metadata": {},
   "source": [
    "5. Filtrad los datos para Spain:"
   ]
  },
  {
   "attachments": {},
   "cell_type": "markdown",
   "metadata": {},
   "source": [
    "- ¿Cuántos ataques de tiburones hubo en España a lo largo del tiempo? Muestra solo los que hayan ocurrido del 2000 en adelante."
   ]
  },
  {
   "attachments": {},
   "cell_type": "markdown",
   "metadata": {},
   "source": [
    "- En función del tipo, ¿cuántos ataques de cada tipo de tiburones hubo en España? Muestra los resultados en un gráfico de línea."
   ]
  }
 ],
 "metadata": {
  "kernelspec": {
   "display_name": "base",
   "language": "python",
   "name": "python3"
  },
  "language_info": {
   "codemirror_mode": {
    "name": "ipython",
    "version": 3
   },
   "file_extension": ".py",
   "mimetype": "text/x-python",
   "name": "python",
   "nbconvert_exporter": "python",
   "pygments_lexer": "ipython3",
   "version": "3.9.7"
  },
  "orig_nbformat": 4,
  "vscode": {
   "interpreter": {
    "hash": "b3191f930eabfdf0eb39086a24df618ea48425015dbb471465fb2c793fed20fd"
   }
  }
 },
 "nbformat": 4,
 "nbformat_minor": 2
}
