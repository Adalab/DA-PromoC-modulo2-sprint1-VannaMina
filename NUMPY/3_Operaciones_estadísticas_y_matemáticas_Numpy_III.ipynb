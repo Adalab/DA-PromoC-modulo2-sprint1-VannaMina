{
 "cells": [
  {
   "cell_type": "code",
   "execution_count": 2,
   "metadata": {},
   "outputs": [],
   "source": [
    "import numpy as np"
   ]
  },
  {
   "cell_type": "markdown",
   "metadata": {},
   "source": [
    "Cread un array de tres dimensiones de 2 matrices, 3 filas y 5 \n",
    "columnas cuyos valores solo tengan 1 decimales. "
   ]
  },
  {
   "cell_type": "code",
   "execution_count": 3,
   "metadata": {},
   "outputs": [
    {
     "data": {
      "text/plain": [
       "array([[[0.7, 0.4, 0.2, 0.8, 0.2],\n",
       "        [0.9, 0.7, 0.6, 0.9, 0. ],\n",
       "        [0.9, 0.7, 0.2, 0.3, 0.7]],\n",
       "\n",
       "       [[0.5, 0.5, 0.1, 0.5, 0.5],\n",
       "        [0.6, 0.2, 0.5, 0.3, 0.3],\n",
       "        [0.5, 0.1, 0.6, 0. , 0.5]]])"
      ]
     },
     "execution_count": 3,
     "metadata": {},
     "output_type": "execute_result"
    }
   ],
   "source": [
    "array = np.round(np.random.random_sample((2,3,5)), decimals = 1)\n",
    "array"
   ]
  },
  {
   "cell_type": "markdown",
   "metadata": {},
   "source": [
    "Calculad la media del array y almacenarlos en una variable. Redondead a un decimal."
   ]
  },
  {
   "cell_type": "code",
   "execution_count": 4,
   "metadata": {},
   "outputs": [
    {
     "data": {
      "text/plain": [
       "0.5"
      ]
     },
     "execution_count": 4,
     "metadata": {},
     "output_type": "execute_result"
    }
   ],
   "source": [
    "array_media = np.round(np.mean(array),decimals = 1)\n",
    "array_media"
   ]
  },
  {
   "cell_type": "markdown",
   "metadata": {},
   "source": [
    "Calculad el valor máximo del array y almacenarlos en una variable. Redondead a un decimal."
   ]
  },
  {
   "cell_type": "code",
   "execution_count": 5,
   "metadata": {},
   "outputs": [
    {
     "data": {
      "text/plain": [
       "0.9"
      ]
     },
     "execution_count": 5,
     "metadata": {},
     "output_type": "execute_result"
    }
   ],
   "source": [
    "array_max = np.round(np.max(array),decimals = 1)\n",
    "array_max"
   ]
  },
  {
   "cell_type": "markdown",
   "metadata": {},
   "source": [
    "Calculad el valor mínimo del array y almacenarlos en una variable. Redondead a un decimal."
   ]
  },
  {
   "cell_type": "code",
   "execution_count": 6,
   "metadata": {},
   "outputs": [
    {
     "data": {
      "text/plain": [
       "0.0"
      ]
     },
     "execution_count": 6,
     "metadata": {},
     "output_type": "execute_result"
    }
   ],
   "source": [
    "array_min = np.round(np.min(array), decimals = 1)\n",
    "array_min"
   ]
  },
  {
   "cell_type": "markdown",
   "metadata": {},
   "source": [
    "Cread un array vacío con la misma forma y dimensiones que el array creado anteriormente."
   ]
  },
  {
   "cell_type": "code",
   "execution_count": 7,
   "metadata": {},
   "outputs": [
    {
     "data": {
      "text/plain": [
       "array([[['', '', '', '', ''],\n",
       "        ['', '', '', '', ''],\n",
       "        ['', '', '', '', '']],\n",
       "\n",
       "       [['', '', '', '', ''],\n",
       "        ['', '', '', '', ''],\n",
       "        ['', '', '', '', '']]], dtype='<U1')"
      ]
     },
     "execution_count": 7,
     "metadata": {},
     "output_type": "execute_result"
    }
   ],
   "source": [
    "array_vacio = np.empty_like(array, str)\n",
    "array_vacio\n",
    "\n",
    "#Teniendo en cuenta que tendré que sostituir letras con numeros, pido que el array vacio\n",
    "#tenga strings"
   ]
  },
  {
   "cell_type": "markdown",
   "metadata": {},
   "source": [
    "Vamos a reemplazar los valores de la matriz vacía que nos acabamos de crear pero basándonos en los valores del primer array bajo las siguientes condiciones:\n",
    "\n",
    "- Si el valor del array es igual que la media, se reemplaza por \"A\".\n",
    "- Si el valor del array es mayor que la media, se reemplaza por \"B\".\n",
    "- Si el valor del array es menor que la media, se reemplaza por \"C\".\n",
    "- Si el valor es igual que el máximo, se reemplaza por \"D\".\n",
    "- Si el valor es igual que el mínimo, se reemplaza por \"E\"."
   ]
  },
  {
   "cell_type": "code",
   "execution_count": 8,
   "metadata": {},
   "outputs": [
    {
     "name": "stdout",
     "output_type": "stream",
     "text": [
      "[[['B' 'C' 'C' 'B' 'C']\n",
      "  ['D' 'B' 'B' 'D' 'E']\n",
      "  ['D' 'B' 'C' 'C' 'B']]\n",
      "\n",
      " [['A' 'A' 'C' 'A' 'A']\n",
      "  ['B' 'C' 'A' 'C' 'C']\n",
      "  ['A' 'C' 'B' 'E' 'A']]]\n"
     ]
    }
   ],
   "source": [
    "array_media = np.round(np.mean(array), decimals = 1)\n",
    "array_max = np.round(np.max(array), decimals = 1)\n",
    "array_min = np.round(np.min(array), decimals = 1)\n",
    "\n",
    "for matriz in range(len(array)):\n",
    "    #print(matriz) \n",
    "    for fila in range(len(array[matriz])):\n",
    "            #print(fila)\n",
    "            for columna in range(len(array[matriz][fila])):\n",
    "                #print(columna)\n",
    "                if array[matriz][fila][columna] == array_media:\n",
    "                    array_vacio[matriz][fila][columna] = \"A\"\n",
    "                elif array[matriz][fila][columna] == array_max:\n",
    "                    array_vacio[matriz][fila][columna] = \"D\"\n",
    "                elif array[matriz][fila][columna] == array_min:\n",
    "                    array_vacio[matriz][fila][columna] = \"E\"\n",
    "                elif array[matriz][fila][columna] < array_media:\n",
    "                    array_vacio[matriz][fila][columna] = \"C\"\n",
    "                elif array[matriz][fila][columna] > array_media:\n",
    "                    array_vacio[matriz][fila][columna] = \"B\"\n",
    "                \n",
    "array_letras = array_vacio.copy()\n",
    "print(array_letras)"
   ]
  },
  {
   "cell_type": "markdown",
   "metadata": {},
   "source": [
    "Ahora realizaremos un ejercicio similar al anterior, pero en este caso nos crearemos un array vacío unidimensional de 30 elementos. \n",
    "\n",
    "\n",
    "-- Si el valor del array creado en el ejercicio anterior es \"A\" o \"B\" lo reemplazaremos por 1\n",
    "\n",
    "-- Si el valor del array creado en el ejercicio anterior es \"C\" o \"D\" lo reemplazaremos por 2\n",
    "\n",
    "-- Si el valor del array creado en el ejercicio anterior es \"E\" lo reemplazaremos por 3."
   ]
  },
  {
   "cell_type": "code",
   "execution_count": 30,
   "metadata": {},
   "outputs": [
    {
     "data": {
      "text/plain": [
       "array(['', '', '', '', '', '', '', '', '', '', '', '', '', '', '', '', '',\n",
       "       '', '', '', '', '', '', '', '', '', '', '', '', ''], dtype='<U1')"
      ]
     },
     "execution_count": 30,
     "metadata": {},
     "output_type": "execute_result"
    }
   ],
   "source": [
    "array_vacio_2 = np.empty(30, str)\n",
    "array_vacio_2"
   ]
  },
  {
   "cell_type": "code",
   "execution_count": 31,
   "metadata": {},
   "outputs": [
    {
     "data": {
      "text/plain": [
       "array(['B', 'C', 'C', 'B', 'C', 'D', 'B', 'B', 'D', 'E', 'D', 'B', 'C',\n",
       "       'C', 'B', 'A', 'A', 'C', 'A', 'A', 'B', 'C', 'A', 'C', 'C', 'A',\n",
       "       'C', 'B', 'E', 'A'], dtype='<U1')"
      ]
     },
     "execution_count": 31,
     "metadata": {},
     "output_type": "execute_result"
    }
   ],
   "source": [
    "array_letras_unidimensional = np.reshape(array_letras,(30))\n",
    "array_letras_unidimensional"
   ]
  },
  {
   "cell_type": "code",
   "execution_count": 32,
   "metadata": {},
   "outputs": [
    {
     "data": {
      "text/plain": [
       "list"
      ]
     },
     "execution_count": 32,
     "metadata": {},
     "output_type": "execute_result"
    }
   ],
   "source": [
    "lista = list(array_letras_unidimensional)\n",
    "type(lista)"
   ]
  },
  {
   "cell_type": "code",
   "execution_count": 33,
   "metadata": {},
   "outputs": [
    {
     "name": "stdout",
     "output_type": "stream",
     "text": [
      "['1' '2' '2' '1' '2' '2' '1' '1' '2' '3' '2' '1' '2' '2' '1' '1' '1' '2'\n",
      " '1' '1' '1' '2' '1' '2' '2' '1' '2' '1' '3' '1']\n"
     ]
    }
   ],
   "source": [
    "for i in range(len(lista)):\n",
    "    if array_letras_unidimensional[i] == \"A\":\n",
    "        array_vacio_2[i] = 1\n",
    "    elif array_letras_unidimensional[i] == \"B\":\n",
    "        array_vacio_2[i] = 1\n",
    "    elif array_letras_unidimensional[i] == \"C\":\n",
    "        array_vacio_2[i] = 2\n",
    "    elif array_letras_unidimensional[i] == \"D\":\n",
    "        array_vacio_2[i] = 2\n",
    "    else:\n",
    "        array_vacio_2[i] = 3\n",
    "\n",
    "array_numeros = array_vacio_2.copy()\n",
    "print(array_numeros)\n"
   ]
  },
  {
   "cell_type": "markdown",
   "metadata": {},
   "source": [
    "Una vez que hayas reemplazado todos los valores cambiad la forma del array para que sea de tres dimensiones, con 2 matrices, 3 filas y 5 columnas."
   ]
  },
  {
   "cell_type": "code",
   "execution_count": 34,
   "metadata": {},
   "outputs": [
    {
     "data": {
      "text/plain": [
       "array([[['1', '2', '2', '1', '2'],\n",
       "        ['2', '1', '1', '2', '3'],\n",
       "        ['2', '1', '2', '2', '1']],\n",
       "\n",
       "       [['1', '1', '2', '1', '1'],\n",
       "        ['1', '2', '1', '2', '2'],\n",
       "        ['1', '2', '1', '3', '1']]], dtype='<U1')"
      ]
     },
     "execution_count": 34,
     "metadata": {},
     "output_type": "execute_result"
    }
   ],
   "source": [
    "array_multidimensional = np.reshape(array_numeros,(2,3,5))\n",
    "array_multidimensional"
   ]
  }
 ],
 "metadata": {
  "kernelspec": {
   "display_name": "Python 3.9.7 ('base')",
   "language": "python",
   "name": "python3"
  },
  "language_info": {
   "codemirror_mode": {
    "name": "ipython",
    "version": 3
   },
   "file_extension": ".py",
   "mimetype": "text/x-python",
   "name": "python",
   "nbconvert_exporter": "python",
   "pygments_lexer": "ipython3",
   "version": "3.9.7"
  },
  "orig_nbformat": 4,
  "vscode": {
   "interpreter": {
    "hash": "651c3b7b3f466eb030aa737f279c846be4db9cba49a2f229278cab5e41121ed5"
   }
  }
 },
 "nbformat": 4,
 "nbformat_minor": 2
}
